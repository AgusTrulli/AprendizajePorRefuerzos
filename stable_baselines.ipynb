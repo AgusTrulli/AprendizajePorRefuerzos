{
  "nbformat": 4,
  "nbformat_minor": 0,
  "metadata": {
    "kernelspec": {
      "display_name": "Python 3",
      "language": "python",
      "name": "python3"
    },
    "language_info": {
      "codemirror_mode": {
        "name": "ipython",
        "version": 3
      },
      "file_extension": ".py",
      "mimetype": "text/x-python",
      "name": "python",
      "nbconvert_exporter": "python",
      "pygments_lexer": "ipython3",
      "version": "3.7.7"
    },
    "colab": {
      "name": "stable_baselines.ipynb",
      "provenance": [],
      "toc_visible": true,
      "include_colab_link": true
    }
  },
  "cells": [
    {
      "cell_type": "markdown",
      "metadata": {
        "id": "view-in-github",
        "colab_type": "text"
      },
      "source": [
        "<a href=\"https://colab.research.google.com/github/GIDISIA/RLDiplodatos/blob/master/stable_baselines.ipynb\" target=\"_parent\"><img src=\"https://colab.research.google.com/assets/colab-badge.svg\" alt=\"Open In Colab\"/></a>"
      ]
    },
    {
      "cell_type": "markdown",
      "metadata": {
        "id": "SytTR8K1oII-"
      },
      "source": [
        "# Introducción"
      ]
    },
    {
      "cell_type": "markdown",
      "metadata": {
        "id": "8BFrF74foIJD"
      },
      "source": [
        "Créditos:\n",
        "\n",
        "* Documentación y repo de Stable-baselines https://stable-baselines3.readthedocs.io.\n",
        "    * Tutorial sobre SB3: https://github.com/araffin/rl-tutorial-jnrr19.\n",
        "* Documentación y repo de OpenAI Gym https://github.com/openai/gym/blob/master/docs/.\n",
        "    * Crear un entorno https://github.com/openai/gym/blob/master/docs/creating-environments.md. "
      ]
    },
    {
      "cell_type": "markdown",
      "metadata": {
        "id": "HlZ0ehGZoIJD"
      },
      "source": [
        "Stable-baselines3: framework de deep RL que provee interfaces para ejecutar y adaptar algoritmos de RL \"al estilo scikit-learn\". Permite utilizar agentes abstrayéndonos de los detalles de bajo nivel de abstracción referentes a la implementación del algoritmo$^1$\n",
        "\n",
        "Además, ofrece herramientas muy útiles como\n",
        "\n",
        "* Monitores que permiten ver el rendimiento del agente según se desempeña en el entorno, sin tener que esperar a que finalice de entrenar.\n",
        "* Callbacks que permiten accionar eventos cuando se cumplen algunas condiciones en el entrenamiento de nuestro agente (por ejemplo, detenerlo si la recompensa recibida es menor a cierto umbral tras un cierto período de tiempo).\n",
        "\n",
        "\n",
        "Documentación https://stable-baselines3.readthedocs.io\n",
        "\n",
        "Es un fork activamente mantenido de [OpenAI baselines](https://github.com/openai/baselines)\n",
        "\n",
        "La versión 3 cambia el framework subyacente de Tensorflow a Pytorch y está activamente en desarrollo; no obstante la versión 2 es completamente funcional\n",
        "\n",
        "$^1$ no obstante, al igual que sucede generalmente con librerías de ML: \n",
        "\n",
        "* Siempre es bueno tener en mente las características, ventajas y desventajas del algoritmo utilizado, pues de eso depende mucho la convergencia de nuestra solución, especialmente cuando se emplean entornos adaptados para nuestras necesidades. \n",
        "\n",
        "* Esta librería, al igual que demás frameworks generales de RL, están muy probadas en entornos estándares de RL como Atari o PyBullet. No obstante, es posible que nuestro entorno o nuestras necesidades difieran significativamente, lo que hace que en algunos casos haya que meter mano directo en el código de los algoritmos/librería."
      ]
    },
    {
      "cell_type": "markdown",
      "metadata": {
        "id": "W4SWX4wuoIJE"
      },
      "source": [
        "# Interfaz básica stable-baselines"
      ]
    },
    {
      "cell_type": "markdown",
      "metadata": {
        "id": "SD-FSSuKoIJF"
      },
      "source": [
        "## Instalación\n",
        "\n",
        "Desde Linux o Google Colab"
      ]
    },
    {
      "cell_type": "code",
      "metadata": {
        "id": "ttqOLol_oIJG",
        "outputId": "a1bdcb13-992c-4e2a-a2ce-8ca68f4a9fe8",
        "colab": {
          "base_uri": "https://localhost:8080/"
        }
      },
      "source": [
        "!pip install stable-baselines3[extra] && pip install sb3-contrib"
      ],
      "execution_count": 1,
      "outputs": [
        {
          "output_type": "stream",
          "text": [
            "Collecting stable-baselines3[extra]\n",
            "\u001b[?25l  Downloading https://files.pythonhosted.org/packages/76/7c/ec89fd9a51c2ff640f150479069be817136c02f02349b5dd27a6e3bb8b3d/stable_baselines3-0.10.0-py3-none-any.whl (145kB)\n",
            "\r\u001b[K     |██▎                             | 10kB 17.6MB/s eta 0:00:01\r\u001b[K     |████▌                           | 20kB 18.3MB/s eta 0:00:01\r\u001b[K     |██████▊                         | 30kB 19.3MB/s eta 0:00:01\r\u001b[K     |█████████                       | 40kB 16.1MB/s eta 0:00:01\r\u001b[K     |███████████▎                    | 51kB 15.0MB/s eta 0:00:01\r\u001b[K     |█████████████▌                  | 61kB 15.0MB/s eta 0:00:01\r\u001b[K     |███████████████▊                | 71kB 12.7MB/s eta 0:00:01\r\u001b[K     |██████████████████              | 81kB 13.4MB/s eta 0:00:01\r\u001b[K     |████████████████████▏           | 92kB 11.9MB/s eta 0:00:01\r\u001b[K     |██████████████████████▌         | 102kB 11.4MB/s eta 0:00:01\r\u001b[K     |████████████████████████▊       | 112kB 11.4MB/s eta 0:00:01\r\u001b[K     |███████████████████████████     | 122kB 11.4MB/s eta 0:00:01\r\u001b[K     |█████████████████████████████▏  | 133kB 11.4MB/s eta 0:00:01\r\u001b[K     |███████████████████████████████▍| 143kB 11.4MB/s eta 0:00:01\r\u001b[K     |████████████████████████████████| 153kB 11.4MB/s \n",
            "\u001b[?25hRequirement already satisfied: torch>=1.4.0 in /usr/local/lib/python3.6/dist-packages (from stable-baselines3[extra]) (1.7.0+cu101)\n",
            "Requirement already satisfied: numpy in /usr/local/lib/python3.6/dist-packages (from stable-baselines3[extra]) (1.19.5)\n",
            "Requirement already satisfied: matplotlib in /usr/local/lib/python3.6/dist-packages (from stable-baselines3[extra]) (3.2.2)\n",
            "Requirement already satisfied: gym>=0.17 in /usr/local/lib/python3.6/dist-packages (from stable-baselines3[extra]) (0.17.3)\n",
            "Requirement already satisfied: pandas in /usr/local/lib/python3.6/dist-packages (from stable-baselines3[extra]) (1.1.5)\n",
            "Requirement already satisfied: cloudpickle in /usr/local/lib/python3.6/dist-packages (from stable-baselines3[extra]) (1.3.0)\n",
            "Requirement already satisfied: pillow; extra == \"extra\" in /usr/local/lib/python3.6/dist-packages (from stable-baselines3[extra]) (7.0.0)\n",
            "Requirement already satisfied: opencv-python; extra == \"extra\" in /usr/local/lib/python3.6/dist-packages (from stable-baselines3[extra]) (4.1.2.30)\n",
            "Requirement already satisfied: psutil; extra == \"extra\" in /usr/local/lib/python3.6/dist-packages (from stable-baselines3[extra]) (5.4.8)\n",
            "Requirement already satisfied: tensorboard; extra == \"extra\" in /usr/local/lib/python3.6/dist-packages (from stable-baselines3[extra]) (2.4.0)\n",
            "Requirement already satisfied: atari-py~=0.2.0; extra == \"extra\" in /usr/local/lib/python3.6/dist-packages (from stable-baselines3[extra]) (0.2.6)\n",
            "Requirement already satisfied: dataclasses in /usr/local/lib/python3.6/dist-packages (from torch>=1.4.0->stable-baselines3[extra]) (0.8)\n",
            "Requirement already satisfied: typing-extensions in /usr/local/lib/python3.6/dist-packages (from torch>=1.4.0->stable-baselines3[extra]) (3.7.4.3)\n",
            "Requirement already satisfied: future in /usr/local/lib/python3.6/dist-packages (from torch>=1.4.0->stable-baselines3[extra]) (0.16.0)\n",
            "Requirement already satisfied: pyparsing!=2.0.4,!=2.1.2,!=2.1.6,>=2.0.1 in /usr/local/lib/python3.6/dist-packages (from matplotlib->stable-baselines3[extra]) (2.4.7)\n",
            "Requirement already satisfied: kiwisolver>=1.0.1 in /usr/local/lib/python3.6/dist-packages (from matplotlib->stable-baselines3[extra]) (1.3.1)\n",
            "Requirement already satisfied: cycler>=0.10 in /usr/local/lib/python3.6/dist-packages (from matplotlib->stable-baselines3[extra]) (0.10.0)\n",
            "Requirement already satisfied: python-dateutil>=2.1 in /usr/local/lib/python3.6/dist-packages (from matplotlib->stable-baselines3[extra]) (2.8.1)\n",
            "Requirement already satisfied: pyglet<=1.5.0,>=1.4.0 in /usr/local/lib/python3.6/dist-packages (from gym>=0.17->stable-baselines3[extra]) (1.5.0)\n",
            "Requirement already satisfied: scipy in /usr/local/lib/python3.6/dist-packages (from gym>=0.17->stable-baselines3[extra]) (1.4.1)\n",
            "Requirement already satisfied: pytz>=2017.2 in /usr/local/lib/python3.6/dist-packages (from pandas->stable-baselines3[extra]) (2018.9)\n",
            "Requirement already satisfied: markdown>=2.6.8 in /usr/local/lib/python3.6/dist-packages (from tensorboard; extra == \"extra\"->stable-baselines3[extra]) (3.3.3)\n",
            "Requirement already satisfied: google-auth-oauthlib<0.5,>=0.4.1 in /usr/local/lib/python3.6/dist-packages (from tensorboard; extra == \"extra\"->stable-baselines3[extra]) (0.4.2)\n",
            "Requirement already satisfied: tensorboard-plugin-wit>=1.6.0 in /usr/local/lib/python3.6/dist-packages (from tensorboard; extra == \"extra\"->stable-baselines3[extra]) (1.7.0)\n",
            "Requirement already satisfied: protobuf>=3.6.0 in /usr/local/lib/python3.6/dist-packages (from tensorboard; extra == \"extra\"->stable-baselines3[extra]) (3.12.4)\n",
            "Requirement already satisfied: setuptools>=41.0.0 in /usr/local/lib/python3.6/dist-packages (from tensorboard; extra == \"extra\"->stable-baselines3[extra]) (51.1.2)\n",
            "Requirement already satisfied: grpcio>=1.24.3 in /usr/local/lib/python3.6/dist-packages (from tensorboard; extra == \"extra\"->stable-baselines3[extra]) (1.32.0)\n",
            "Requirement already satisfied: requests<3,>=2.21.0 in /usr/local/lib/python3.6/dist-packages (from tensorboard; extra == \"extra\"->stable-baselines3[extra]) (2.23.0)\n",
            "Requirement already satisfied: six>=1.10.0 in /usr/local/lib/python3.6/dist-packages (from tensorboard; extra == \"extra\"->stable-baselines3[extra]) (1.15.0)\n",
            "Requirement already satisfied: absl-py>=0.4 in /usr/local/lib/python3.6/dist-packages (from tensorboard; extra == \"extra\"->stable-baselines3[extra]) (0.10.0)\n",
            "Requirement already satisfied: werkzeug>=0.11.15 in /usr/local/lib/python3.6/dist-packages (from tensorboard; extra == \"extra\"->stable-baselines3[extra]) (1.0.1)\n",
            "Requirement already satisfied: wheel>=0.26; python_version >= \"3\" in /usr/local/lib/python3.6/dist-packages (from tensorboard; extra == \"extra\"->stable-baselines3[extra]) (0.36.2)\n",
            "Requirement already satisfied: google-auth<2,>=1.6.3 in /usr/local/lib/python3.6/dist-packages (from tensorboard; extra == \"extra\"->stable-baselines3[extra]) (1.17.2)\n",
            "Requirement already satisfied: importlib-metadata; python_version < \"3.8\" in /usr/local/lib/python3.6/dist-packages (from markdown>=2.6.8->tensorboard; extra == \"extra\"->stable-baselines3[extra]) (3.3.0)\n",
            "Requirement already satisfied: requests-oauthlib>=0.7.0 in /usr/local/lib/python3.6/dist-packages (from google-auth-oauthlib<0.5,>=0.4.1->tensorboard; extra == \"extra\"->stable-baselines3[extra]) (1.3.0)\n",
            "Requirement already satisfied: certifi>=2017.4.17 in /usr/local/lib/python3.6/dist-packages (from requests<3,>=2.21.0->tensorboard; extra == \"extra\"->stable-baselines3[extra]) (2020.12.5)\n",
            "Requirement already satisfied: chardet<4,>=3.0.2 in /usr/local/lib/python3.6/dist-packages (from requests<3,>=2.21.0->tensorboard; extra == \"extra\"->stable-baselines3[extra]) (3.0.4)\n",
            "Requirement already satisfied: urllib3!=1.25.0,!=1.25.1,<1.26,>=1.21.1 in /usr/local/lib/python3.6/dist-packages (from requests<3,>=2.21.0->tensorboard; extra == \"extra\"->stable-baselines3[extra]) (1.24.3)\n",
            "Requirement already satisfied: idna<3,>=2.5 in /usr/local/lib/python3.6/dist-packages (from requests<3,>=2.21.0->tensorboard; extra == \"extra\"->stable-baselines3[extra]) (2.10)\n",
            "Requirement already satisfied: rsa<5,>=3.1.4; python_version >= \"3\" in /usr/local/lib/python3.6/dist-packages (from google-auth<2,>=1.6.3->tensorboard; extra == \"extra\"->stable-baselines3[extra]) (4.6)\n",
            "Requirement already satisfied: cachetools<5.0,>=2.0.0 in /usr/local/lib/python3.6/dist-packages (from google-auth<2,>=1.6.3->tensorboard; extra == \"extra\"->stable-baselines3[extra]) (4.2.0)\n",
            "Requirement already satisfied: pyasn1-modules>=0.2.1 in /usr/local/lib/python3.6/dist-packages (from google-auth<2,>=1.6.3->tensorboard; extra == \"extra\"->stable-baselines3[extra]) (0.2.8)\n",
            "Requirement already satisfied: zipp>=0.5 in /usr/local/lib/python3.6/dist-packages (from importlib-metadata; python_version < \"3.8\"->markdown>=2.6.8->tensorboard; extra == \"extra\"->stable-baselines3[extra]) (3.4.0)\n",
            "Requirement already satisfied: oauthlib>=3.0.0 in /usr/local/lib/python3.6/dist-packages (from requests-oauthlib>=0.7.0->google-auth-oauthlib<0.5,>=0.4.1->tensorboard; extra == \"extra\"->stable-baselines3[extra]) (3.1.0)\n",
            "Requirement already satisfied: pyasn1>=0.1.3 in /usr/local/lib/python3.6/dist-packages (from rsa<5,>=3.1.4; python_version >= \"3\"->google-auth<2,>=1.6.3->tensorboard; extra == \"extra\"->stable-baselines3[extra]) (0.4.8)\n",
            "Installing collected packages: stable-baselines3\n",
            "Successfully installed stable-baselines3-0.10.0\n",
            "Collecting sb3-contrib\n",
            "  Downloading https://files.pythonhosted.org/packages/76/48/38ec53c740e97b13354f13c29e0bd01d350143d06aa25f5a07ec3165eb81/sb3_contrib-0.10.0-py3-none-any.whl\n",
            "Requirement already satisfied: stable-baselines3[docs,tests]>=0.10.0 in /usr/local/lib/python3.6/dist-packages (from sb3-contrib) (0.10.0)\n",
            "Requirement already satisfied: gym>=0.17 in /usr/local/lib/python3.6/dist-packages (from stable-baselines3[docs,tests]>=0.10.0->sb3-contrib) (0.17.3)\n",
            "Requirement already satisfied: cloudpickle in /usr/local/lib/python3.6/dist-packages (from stable-baselines3[docs,tests]>=0.10.0->sb3-contrib) (1.3.0)\n",
            "Requirement already satisfied: pandas in /usr/local/lib/python3.6/dist-packages (from stable-baselines3[docs,tests]>=0.10.0->sb3-contrib) (1.1.5)\n",
            "Requirement already satisfied: numpy in /usr/local/lib/python3.6/dist-packages (from stable-baselines3[docs,tests]>=0.10.0->sb3-contrib) (1.19.5)\n",
            "Requirement already satisfied: matplotlib in /usr/local/lib/python3.6/dist-packages (from stable-baselines3[docs,tests]>=0.10.0->sb3-contrib) (3.2.2)\n",
            "Requirement already satisfied: torch>=1.4.0 in /usr/local/lib/python3.6/dist-packages (from stable-baselines3[docs,tests]>=0.10.0->sb3-contrib) (1.7.0+cu101)\n",
            "Collecting sphinx-rtd-theme; extra == \"docs\"\n",
            "\u001b[?25l  Downloading https://files.pythonhosted.org/packages/76/81/d5af3a50a45ee4311ac2dac5b599d69f68388401c7a4ca902e0e450a9f94/sphinx_rtd_theme-0.5.1-py2.py3-none-any.whl (2.8MB)\n",
            "\u001b[K     |████████████████████████████████| 2.8MB 11.7MB/s \n",
            "\u001b[?25hCollecting sphinx-autodoc-typehints; extra == \"docs\"\n",
            "  Downloading https://files.pythonhosted.org/packages/86/d3/554cf6d1f88ace1f086912818247e7ee79222fd99128f1a0a477c2ba8131/sphinx_autodoc_typehints-1.11.1-py3-none-any.whl\n",
            "Requirement already satisfied: sphinx; extra == \"docs\" in /usr/local/lib/python3.6/dist-packages (from stable-baselines3[docs,tests]>=0.10.0->sb3-contrib) (1.8.5)\n",
            "Collecting sphinxcontrib.spelling; extra == \"docs\"\n",
            "  Downloading https://files.pythonhosted.org/packages/f6/62/796d8ae02732c162f8d53406f520c9f3c886a9ab24de4ef6995404c2b1d8/sphinxcontrib_spelling-7.1.0-py3-none-any.whl\n",
            "Collecting sphinx-autobuild; extra == \"docs\"\n",
            "  Downloading https://files.pythonhosted.org/packages/e0/80/a269193dad95227410f723b9bb2a2d7b5c68f2f274b9e27b6cb7974ddf54/sphinx_autobuild-2020.9.1-py3-none-any.whl\n",
            "Collecting pytest-env; extra == \"tests\"\n",
            "  Downloading https://files.pythonhosted.org/packages/f9/6e/31efb8dc1d17052c12f39262223e94038bfcc4cc7a124235630a6d50f166/pytest-env-0.6.2.tar.gz\n",
            "Requirement already satisfied: pytest; extra == \"tests\" in /usr/local/lib/python3.6/dist-packages (from stable-baselines3[docs,tests]>=0.10.0->sb3-contrib) (3.6.4)\n",
            "Collecting pytest-cov; extra == \"tests\"\n",
            "  Downloading https://files.pythonhosted.org/packages/e3/1a/6affecd2344efee7f2487fac82242474cbac09f9e04929da5944907baf11/pytest_cov-2.11.1-py2.py3-none-any.whl\n",
            "Collecting black; extra == \"tests\"\n",
            "\u001b[?25l  Downloading https://files.pythonhosted.org/packages/dc/7b/5a6bbe89de849f28d7c109f5ea87b65afa5124ad615f3419e71beb29dc96/black-20.8b1.tar.gz (1.1MB)\n",
            "\u001b[K     |████████████████████████████████| 1.1MB 59.5MB/s \n",
            "\u001b[?25h  Installing build dependencies ... \u001b[?25l\u001b[?25hdone\n",
            "  Getting requirements to build wheel ... \u001b[?25l\u001b[?25hdone\n",
            "    Preparing wheel metadata ... \u001b[?25l\u001b[?25hdone\n",
            "Collecting isort>=5.0; extra == \"tests\"\n",
            "\u001b[?25l  Downloading https://files.pythonhosted.org/packages/cc/89/6888f573886e9dc0906ec98f1b15888de20919a142c355d7f57ebd977d36/isort-5.7.0-py3-none-any.whl (104kB)\n",
            "\u001b[K     |████████████████████████████████| 112kB 48.8MB/s \n",
            "\u001b[?25hCollecting pytype; extra == \"tests\"\n",
            "\u001b[?25l  Downloading https://files.pythonhosted.org/packages/66/a4/0b3264128abf93adca0ffda82f7f365452fe02d7d264abc910b9d57e458b/pytype-2021.1.14-cp36-cp36m-manylinux2014_x86_64.whl (2.1MB)\n",
            "\u001b[K     |████████████████████████████████| 2.1MB 40.9MB/s \n",
            "\u001b[?25hCollecting flake8>=3.8; extra == \"tests\"\n",
            "\u001b[?25l  Downloading https://files.pythonhosted.org/packages/d4/ca/3971802ee6251da1abead1a22831d7f4743781e2f743bd266bdd2f46c19b/flake8-3.8.4-py2.py3-none-any.whl (72kB)\n",
            "\u001b[K     |████████████████████████████████| 81kB 7.4MB/s \n",
            "\u001b[?25hCollecting pytest-xdist; extra == \"tests\"\n",
            "  Downloading https://files.pythonhosted.org/packages/26/a9/bde9579b8b43a1d39566ecb5ae4eab326184e36488f73d893c24a809118c/pytest_xdist-2.2.0-py3-none-any.whl\n",
            "Requirement already satisfied: pyglet<=1.5.0,>=1.4.0 in /usr/local/lib/python3.6/dist-packages (from gym>=0.17->stable-baselines3[docs,tests]>=0.10.0->sb3-contrib) (1.5.0)\n",
            "Requirement already satisfied: scipy in /usr/local/lib/python3.6/dist-packages (from gym>=0.17->stable-baselines3[docs,tests]>=0.10.0->sb3-contrib) (1.4.1)\n",
            "Requirement already satisfied: pytz>=2017.2 in /usr/local/lib/python3.6/dist-packages (from pandas->stable-baselines3[docs,tests]>=0.10.0->sb3-contrib) (2018.9)\n",
            "Requirement already satisfied: python-dateutil>=2.7.3 in /usr/local/lib/python3.6/dist-packages (from pandas->stable-baselines3[docs,tests]>=0.10.0->sb3-contrib) (2.8.1)\n",
            "Requirement already satisfied: pyparsing!=2.0.4,!=2.1.2,!=2.1.6,>=2.0.1 in /usr/local/lib/python3.6/dist-packages (from matplotlib->stable-baselines3[docs,tests]>=0.10.0->sb3-contrib) (2.4.7)\n",
            "Requirement already satisfied: cycler>=0.10 in /usr/local/lib/python3.6/dist-packages (from matplotlib->stable-baselines3[docs,tests]>=0.10.0->sb3-contrib) (0.10.0)\n",
            "Requirement already satisfied: kiwisolver>=1.0.1 in /usr/local/lib/python3.6/dist-packages (from matplotlib->stable-baselines3[docs,tests]>=0.10.0->sb3-contrib) (1.3.1)\n",
            "Requirement already satisfied: dataclasses in /usr/local/lib/python3.6/dist-packages (from torch>=1.4.0->stable-baselines3[docs,tests]>=0.10.0->sb3-contrib) (0.8)\n",
            "Requirement already satisfied: typing-extensions in /usr/local/lib/python3.6/dist-packages (from torch>=1.4.0->stable-baselines3[docs,tests]>=0.10.0->sb3-contrib) (3.7.4.3)\n",
            "Requirement already satisfied: future in /usr/local/lib/python3.6/dist-packages (from torch>=1.4.0->stable-baselines3[docs,tests]>=0.10.0->sb3-contrib) (0.16.0)\n",
            "Requirement already satisfied: snowballstemmer>=1.1 in /usr/local/lib/python3.6/dist-packages (from sphinx; extra == \"docs\"->stable-baselines3[docs,tests]>=0.10.0->sb3-contrib) (2.0.0)\n",
            "Requirement already satisfied: sphinxcontrib-websupport in /usr/local/lib/python3.6/dist-packages (from sphinx; extra == \"docs\"->stable-baselines3[docs,tests]>=0.10.0->sb3-contrib) (1.2.4)\n",
            "Requirement already satisfied: six>=1.5 in /usr/local/lib/python3.6/dist-packages (from sphinx; extra == \"docs\"->stable-baselines3[docs,tests]>=0.10.0->sb3-contrib) (1.15.0)\n",
            "Requirement already satisfied: docutils>=0.11 in /usr/local/lib/python3.6/dist-packages (from sphinx; extra == \"docs\"->stable-baselines3[docs,tests]>=0.10.0->sb3-contrib) (0.16)\n",
            "Requirement already satisfied: requests>=2.0.0 in /usr/local/lib/python3.6/dist-packages (from sphinx; extra == \"docs\"->stable-baselines3[docs,tests]>=0.10.0->sb3-contrib) (2.23.0)\n",
            "Requirement already satisfied: setuptools in /usr/local/lib/python3.6/dist-packages (from sphinx; extra == \"docs\"->stable-baselines3[docs,tests]>=0.10.0->sb3-contrib) (51.1.2)\n",
            "Requirement already satisfied: imagesize in /usr/local/lib/python3.6/dist-packages (from sphinx; extra == \"docs\"->stable-baselines3[docs,tests]>=0.10.0->sb3-contrib) (1.2.0)\n",
            "Requirement already satisfied: babel!=2.0,>=1.3 in /usr/local/lib/python3.6/dist-packages (from sphinx; extra == \"docs\"->stable-baselines3[docs,tests]>=0.10.0->sb3-contrib) (2.9.0)\n",
            "Requirement already satisfied: alabaster<0.8,>=0.7 in /usr/local/lib/python3.6/dist-packages (from sphinx; extra == \"docs\"->stable-baselines3[docs,tests]>=0.10.0->sb3-contrib) (0.7.12)\n",
            "Requirement already satisfied: packaging in /usr/local/lib/python3.6/dist-packages (from sphinx; extra == \"docs\"->stable-baselines3[docs,tests]>=0.10.0->sb3-contrib) (20.8)\n",
            "Requirement already satisfied: Jinja2>=2.3 in /usr/local/lib/python3.6/dist-packages (from sphinx; extra == \"docs\"->stable-baselines3[docs,tests]>=0.10.0->sb3-contrib) (2.11.2)\n",
            "Requirement already satisfied: Pygments>=2.0 in /usr/local/lib/python3.6/dist-packages (from sphinx; extra == \"docs\"->stable-baselines3[docs,tests]>=0.10.0->sb3-contrib) (2.6.1)\n",
            "Requirement already satisfied: importlib-metadata>=1.7.0; python_version < \"3.8\" in /usr/local/lib/python3.6/dist-packages (from sphinxcontrib.spelling; extra == \"docs\"->stable-baselines3[docs,tests]>=0.10.0->sb3-contrib) (3.3.0)\n",
            "Collecting PyEnchant>=3.1.1\n",
            "\u001b[?25l  Downloading https://files.pythonhosted.org/packages/99/8c/bd224a5db562ac008edbfaf015f5d5c98ea13e745247cd4ab5fc5b683085/pyenchant-3.2.0-py3-none-any.whl (55kB)\n",
            "\u001b[K     |████████████████████████████████| 61kB 5.7MB/s \n",
            "\u001b[?25hCollecting livereload\n",
            "  Downloading https://files.pythonhosted.org/packages/bd/60/6640b819e858562ef6684abac60593b7369fe0a8a064df426d3ab0ab894d/livereload-2.6.3.tar.gz\n",
            "Requirement already satisfied: atomicwrites>=1.0 in /usr/local/lib/python3.6/dist-packages (from pytest; extra == \"tests\"->stable-baselines3[docs,tests]>=0.10.0->sb3-contrib) (1.4.0)\n",
            "Requirement already satisfied: attrs>=17.4.0 in /usr/local/lib/python3.6/dist-packages (from pytest; extra == \"tests\"->stable-baselines3[docs,tests]>=0.10.0->sb3-contrib) (20.3.0)\n",
            "Requirement already satisfied: more-itertools>=4.0.0 in /usr/local/lib/python3.6/dist-packages (from pytest; extra == \"tests\"->stable-baselines3[docs,tests]>=0.10.0->sb3-contrib) (8.6.0)\n",
            "Requirement already satisfied: py>=1.5.0 in /usr/local/lib/python3.6/dist-packages (from pytest; extra == \"tests\"->stable-baselines3[docs,tests]>=0.10.0->sb3-contrib) (1.10.0)\n",
            "Requirement already satisfied: pluggy<0.8,>=0.5 in /usr/local/lib/python3.6/dist-packages (from pytest; extra == \"tests\"->stable-baselines3[docs,tests]>=0.10.0->sb3-contrib) (0.7.1)\n",
            "Collecting coverage>=5.2.1\n",
            "\u001b[?25l  Downloading https://files.pythonhosted.org/packages/76/43/421d81716e0379e886f9642354481c3e30d84fb2c1e9aceb3ee3d369422b/coverage-5.3.1-cp36-cp36m-manylinux2010_x86_64.whl (241kB)\n",
            "\u001b[K     |████████████████████████████████| 245kB 52.0MB/s \n",
            "\u001b[?25hCollecting regex>=2020.1.8\n",
            "\u001b[?25l  Downloading https://files.pythonhosted.org/packages/0d/8a/3ac62dadb767ace65a5b954265de4031a99b27148fe14b24771f5c2c2dca/regex-2020.11.13-cp36-cp36m-manylinux2014_x86_64.whl (723kB)\n",
            "\u001b[K     |████████████████████████████████| 727kB 47.9MB/s \n",
            "\u001b[?25hRequirement already satisfied: toml>=0.10.1 in /usr/local/lib/python3.6/dist-packages (from black; extra == \"tests\"->stable-baselines3[docs,tests]>=0.10.0->sb3-contrib) (0.10.2)\n",
            "Collecting appdirs\n",
            "  Downloading https://files.pythonhosted.org/packages/3b/00/2344469e2084fb287c2e0b57b72910309874c3245463acd6cf5e3db69324/appdirs-1.4.4-py2.py3-none-any.whl\n",
            "Collecting pathspec<1,>=0.6\n",
            "  Downloading https://files.pythonhosted.org/packages/29/29/a465741a3d97ea3c17d21eaad4c64205428bde56742360876c4391f930d4/pathspec-0.8.1-py2.py3-none-any.whl\n",
            "Collecting mypy-extensions>=0.4.3\n",
            "  Downloading https://files.pythonhosted.org/packages/5c/eb/975c7c080f3223a5cdaff09612f3a5221e4ba534f7039db34c35d95fa6a5/mypy_extensions-0.4.3-py2.py3-none-any.whl\n",
            "Requirement already satisfied: click>=7.1.2 in /usr/local/lib/python3.6/dist-packages (from black; extra == \"tests\"->stable-baselines3[docs,tests]>=0.10.0->sb3-contrib) (7.1.2)\n",
            "Collecting typed-ast>=1.4.0\n",
            "\u001b[?25l  Downloading https://files.pythonhosted.org/packages/56/c1/4cc3c0da2374963f59b2f57ef02e048cdc4f609cbc1184b4146d0812e5b5/typed_ast-1.4.2-cp36-cp36m-manylinux1_x86_64.whl (743kB)\n",
            "\u001b[K     |████████████████████████████████| 747kB 59.2MB/s \n",
            "\u001b[?25hRequirement already satisfied: pyyaml>=3.11 in /usr/local/lib/python3.6/dist-packages (from pytype; extra == \"tests\"->stable-baselines3[docs,tests]>=0.10.0->sb3-contrib) (3.13)\n",
            "Collecting importlab>=0.5.1\n",
            "  Downloading https://files.pythonhosted.org/packages/3a/68/97775a75cb03949ecfda7ac61182e11ad22d4e9ae9d2f61c3417de9b2aac/importlab-0.6.1.tar.gz\n",
            "Collecting ninja>=1.10.0.post2\n",
            "\u001b[?25l  Downloading https://files.pythonhosted.org/packages/1d/de/393468f2a37fc2c1dc3a06afc37775e27fde2d16845424141d4da62c686d/ninja-1.10.0.post2-py3-none-manylinux1_x86_64.whl (107kB)\n",
            "\u001b[K     |████████████████████████████████| 112kB 66.2MB/s \n",
            "\u001b[?25hCollecting mccabe<0.7.0,>=0.6.0\n",
            "  Downloading https://files.pythonhosted.org/packages/87/89/479dc97e18549e21354893e4ee4ef36db1d237534982482c3681ee6e7b57/mccabe-0.6.1-py2.py3-none-any.whl\n",
            "Collecting pycodestyle<2.7.0,>=2.6.0a1\n",
            "\u001b[?25l  Downloading https://files.pythonhosted.org/packages/10/5b/88879fb861ab79aef45c7e199cae3ef7af487b5603dcb363517a50602dd7/pycodestyle-2.6.0-py2.py3-none-any.whl (41kB)\n",
            "\u001b[K     |████████████████████████████████| 51kB 4.8MB/s \n",
            "\u001b[?25hCollecting pyflakes<2.3.0,>=2.2.0\n",
            "\u001b[?25l  Downloading https://files.pythonhosted.org/packages/69/5b/fd01b0c696f2f9a6d2c839883b642493b431f28fa32b29abc465ef675473/pyflakes-2.2.0-py2.py3-none-any.whl (66kB)\n",
            "\u001b[K     |████████████████████████████████| 71kB 5.9MB/s \n",
            "\u001b[?25hCollecting execnet>=1.1\n",
            "  Downloading https://files.pythonhosted.org/packages/d3/2e/c63af07fa471e0a02d05793c7a56a9f7d274a8489442a5dc4fb3b2b3c705/execnet-1.7.1-py2.py3-none-any.whl\n",
            "Collecting pytest-forked\n",
            "  Downloading https://files.pythonhosted.org/packages/9d/88/77eeb091b4fa79f28c08718f6e6ebff5827d9d1c1dd9974218ddfbe031ee/pytest_forked-1.3.0-py2.py3-none-any.whl\n",
            "Requirement already satisfied: sphinxcontrib-serializinghtml in /usr/local/lib/python3.6/dist-packages (from sphinxcontrib-websupport->sphinx; extra == \"docs\"->stable-baselines3[docs,tests]>=0.10.0->sb3-contrib) (1.1.4)\n",
            "Requirement already satisfied: chardet<4,>=3.0.2 in /usr/local/lib/python3.6/dist-packages (from requests>=2.0.0->sphinx; extra == \"docs\"->stable-baselines3[docs,tests]>=0.10.0->sb3-contrib) (3.0.4)\n",
            "Requirement already satisfied: certifi>=2017.4.17 in /usr/local/lib/python3.6/dist-packages (from requests>=2.0.0->sphinx; extra == \"docs\"->stable-baselines3[docs,tests]>=0.10.0->sb3-contrib) (2020.12.5)\n",
            "Requirement already satisfied: urllib3!=1.25.0,!=1.25.1,<1.26,>=1.21.1 in /usr/local/lib/python3.6/dist-packages (from requests>=2.0.0->sphinx; extra == \"docs\"->stable-baselines3[docs,tests]>=0.10.0->sb3-contrib) (1.24.3)\n",
            "Requirement already satisfied: idna<3,>=2.5 in /usr/local/lib/python3.6/dist-packages (from requests>=2.0.0->sphinx; extra == \"docs\"->stable-baselines3[docs,tests]>=0.10.0->sb3-contrib) (2.10)\n",
            "Requirement already satisfied: MarkupSafe>=0.23 in /usr/local/lib/python3.6/dist-packages (from Jinja2>=2.3->sphinx; extra == \"docs\"->stable-baselines3[docs,tests]>=0.10.0->sb3-contrib) (1.1.1)\n",
            "Requirement already satisfied: zipp>=0.5 in /usr/local/lib/python3.6/dist-packages (from importlib-metadata>=1.7.0; python_version < \"3.8\"->sphinxcontrib.spelling; extra == \"docs\"->stable-baselines3[docs,tests]>=0.10.0->sb3-contrib) (3.4.0)\n",
            "Requirement already satisfied: tornado in /usr/local/lib/python3.6/dist-packages (from livereload->sphinx-autobuild; extra == \"docs\"->stable-baselines3[docs,tests]>=0.10.0->sb3-contrib) (5.1.1)\n",
            "Requirement already satisfied: networkx>=2 in /usr/local/lib/python3.6/dist-packages (from importlab>=0.5.1->pytype; extra == \"tests\"->stable-baselines3[docs,tests]>=0.10.0->sb3-contrib) (2.5)\n",
            "Collecting apipkg>=1.4\n",
            "  Downloading https://files.pythonhosted.org/packages/67/08/4815a09603fc800209431bec5b8bd2acf2f95abdfb558a44a42507fb94da/apipkg-1.5-py2.py3-none-any.whl\n",
            "Requirement already satisfied: decorator>=4.3.0 in /usr/local/lib/python3.6/dist-packages (from networkx>=2->importlab>=0.5.1->pytype; extra == \"tests\"->stable-baselines3[docs,tests]>=0.10.0->sb3-contrib) (4.4.2)\n",
            "Building wheels for collected packages: black\n",
            "  Building wheel for black (PEP 517) ... \u001b[?25l\u001b[?25hdone\n",
            "  Created wheel for black: filename=black-20.8b1-cp36-none-any.whl size=124184 sha256=d0b1aa2eb385c79e8de1d168722d9b9b7acd1b19e3c6121f827006f726dba957\n",
            "  Stored in directory: /root/.cache/pip/wheels/6e/10/b5/edf7359c2edd0305cce7e3f96e07daf7ce55dceac9d3ce3373\n",
            "Successfully built black\n",
            "Building wheels for collected packages: pytest-env, livereload, importlab\n",
            "  Building wheel for pytest-env (setup.py) ... \u001b[?25l\u001b[?25hdone\n",
            "  Created wheel for pytest-env: filename=pytest_env-0.6.2-cp36-none-any.whl size=2373 sha256=7665db253e5a6e757af4fd03df39359da62dfd0ccc678310dae42a573ab7208e\n",
            "  Stored in directory: /root/.cache/pip/wheels/75/fc/26/357bc139b726977ab08817308ce76d96a26bdbe2329a43b15a\n",
            "  Building wheel for livereload (setup.py) ... \u001b[?25l\u001b[?25hdone\n",
            "  Created wheel for livereload: filename=livereload-2.6.3-py2.py3-none-any.whl size=24713 sha256=5639642d7b9e29180fa2e0a37d796518b5c3353fd8a9a52d1a8582d24525eea5\n",
            "  Stored in directory: /root/.cache/pip/wheels/f2/a1/fa/00775311351a48f78b4a0e40588eefdd6f2731cc8115d6957d\n",
            "  Building wheel for importlab (setup.py) ... \u001b[?25l\u001b[?25hdone\n",
            "  Created wheel for importlab: filename=importlab-0.6.1-py2.py3-none-any.whl size=21288 sha256=5894c8c3da9794d288ea4ac757ab1e7c2767b266e247c85d9414afef8f6f7e61\n",
            "  Stored in directory: /root/.cache/pip/wheels/bf/96/8c/797cf6981feefedd5a95412849761432267806a82dd8d985f3\n",
            "Successfully built pytest-env livereload importlab\n",
            "\u001b[31mERROR: datascience 0.10.6 has requirement coverage==3.7.1, but you'll have coverage 5.3.1 which is incompatible.\u001b[0m\n",
            "\u001b[31mERROR: datascience 0.10.6 has requirement folium==0.2.1, but you'll have folium 0.8.3 which is incompatible.\u001b[0m\n",
            "\u001b[31mERROR: coveralls 0.5 has requirement coverage<3.999,>=3.6, but you'll have coverage 5.3.1 which is incompatible.\u001b[0m\n",
            "\u001b[31mERROR: sphinx-autodoc-typehints 1.11.1 has requirement Sphinx>=3.0, but you'll have sphinx 1.8.5 which is incompatible.\u001b[0m\n",
            "\u001b[31mERROR: sphinxcontrib-spelling 7.1.0 has requirement Sphinx>=3.0.0, but you'll have sphinx 1.8.5 which is incompatible.\u001b[0m\n",
            "\u001b[31mERROR: pytest-cov 2.11.1 has requirement pytest>=4.6, but you'll have pytest 3.6.4 which is incompatible.\u001b[0m\n",
            "\u001b[31mERROR: pytest-forked 1.3.0 has requirement pytest>=3.10, but you'll have pytest 3.6.4 which is incompatible.\u001b[0m\n",
            "\u001b[31mERROR: pytest-xdist 2.2.0 has requirement pytest>=6.0.0, but you'll have pytest 3.6.4 which is incompatible.\u001b[0m\n",
            "Installing collected packages: sb3-contrib, sphinx-rtd-theme, sphinx-autodoc-typehints, PyEnchant, sphinxcontrib.spelling, livereload, sphinx-autobuild, pytest-env, coverage, pytest-cov, regex, appdirs, pathspec, mypy-extensions, typed-ast, black, isort, importlab, ninja, pytype, mccabe, pycodestyle, pyflakes, flake8, apipkg, execnet, pytest-forked, pytest-xdist\n",
            "  Found existing installation: coverage 3.7.1\n",
            "    Uninstalling coverage-3.7.1:\n",
            "      Successfully uninstalled coverage-3.7.1\n",
            "  Found existing installation: regex 2019.12.20\n",
            "    Uninstalling regex-2019.12.20:\n",
            "      Successfully uninstalled regex-2019.12.20\n",
            "Successfully installed PyEnchant-3.2.0 apipkg-1.5 appdirs-1.4.4 black-20.8b1 coverage-5.3.1 execnet-1.7.1 flake8-3.8.4 importlab-0.6.1 isort-5.7.0 livereload-2.6.3 mccabe-0.6.1 mypy-extensions-0.4.3 ninja-1.10.0.post2 pathspec-0.8.1 pycodestyle-2.6.0 pyflakes-2.2.0 pytest-cov-2.11.1 pytest-env-0.6.2 pytest-forked-1.3.0 pytest-xdist-2.2.0 pytype-2021.1.14 regex-2020.11.13 sb3-contrib-0.10.0 sphinx-autobuild-2020.9.1 sphinx-autodoc-typehints-1.11.1 sphinx-rtd-theme-0.5.1 sphinxcontrib.spelling typed-ast-1.4.2\n"
          ],
          "name": "stdout"
        }
      ]
    },
    {
      "cell_type": "markdown",
      "metadata": {
        "id": "GPUpOonyoIJH"
      },
      "source": [
        "## Ejecución de un algoritmo de RL"
      ]
    },
    {
      "cell_type": "markdown",
      "metadata": {
        "id": "Morjd1dFoIJH"
      },
      "source": [
        "### Importaciones/inicializaciones"
      ]
    },
    {
      "cell_type": "code",
      "metadata": {
        "id": "OG7i44kqoIJH"
      },
      "source": [
        "import os\n",
        "from subprocess import Popen, PIPE\n",
        "\n",
        "import numpy as np\n",
        "import matplotlib.pyplot as plt\n",
        "\n",
        "import gym\n",
        "from gym import spaces\n",
        "#from gym.envs.registration import register\n",
        "\n",
        "from stable_baselines3 import DQN, PPO\n",
        "from stable_baselines3.common.monitor import Monitor\n",
        "from stable_baselines3.common.vec_env import DummyVecEnv\n",
        "from stable_baselines3.common.callbacks import EvalCallback, StopTrainingOnRewardThreshold\n",
        "from stable_baselines3.common.env_util import make_vec_env\n",
        "\n",
        "os.makedirs('logs', exist_ok=True)\n",
        "\n",
        "try:\n",
        "  import google.colab\n",
        "  IN_COLAB = True\n",
        "except:\n",
        "  IN_COLAB = False\n",
        "\n",
        "cwd = os.getcwd()\n",
        "\n",
        "%matplotlib inline"
      ],
      "execution_count": 2,
      "outputs": []
    },
    {
      "cell_type": "markdown",
      "metadata": {
        "id": "is2ytf-coIJH"
      },
      "source": [
        "### Ejemplo básico"
      ]
    },
    {
      "cell_type": "code",
      "metadata": {
        "id": "h8SqFh7noIJI",
        "outputId": "f90f5b94-ecbc-4de4-d037-ea89f1083ebe",
        "colab": {
          "base_uri": "https://localhost:8080/"
        }
      },
      "source": [
        "env = gym.make('CartPole-v1')\n",
        "\n",
        "# MlpPolicy es una política \"estándar\" que aprende con perceptron multicapa\n",
        "# (es decir sin capas convolucionales o demás variantes),\n",
        "# 2 capas ocultas con 64 neuronas cada una\n",
        "model = DQN('MlpPolicy', env)\n",
        "model.learn(total_timesteps=10000)\n"
      ],
      "execution_count": 3,
      "outputs": [
        {
          "output_type": "execute_result",
          "data": {
            "text/plain": [
              "<stable_baselines3.dqn.dqn.DQN at 0x7f45f6cab1d0>"
            ]
          },
          "metadata": {
            "tags": []
          },
          "execution_count": 3
        }
      ]
    },
    {
      "cell_type": "markdown",
      "metadata": {
        "id": "0f5JFC7AoIJK"
      },
      "source": [
        "### Renderización"
      ]
    },
    {
      "cell_type": "code",
      "metadata": {
        "id": "5nIL0TuwoIJK"
      },
      "source": [
        "if not IN_COLAB:\n",
        "\n",
        "    obs = env.reset()\n",
        "    for i in range(1000):\n",
        "        action, _states = model.predict(obs, deterministic=True)\n",
        "        obs, reward, done, info = env.step(action)\n",
        "        env.render()\n",
        "        if done:\n",
        "          obs = env.reset()\n",
        "\n",
        "    env.close()"
      ],
      "execution_count": 4,
      "outputs": []
    },
    {
      "cell_type": "markdown",
      "metadata": {
        "id": "iTtXPFd2oIJK"
      },
      "source": [
        "### Logging"
      ]
    },
    {
      "cell_type": "markdown",
      "metadata": {
        "id": "BFYyMrvboIJK"
      },
      "source": [
        "#### Ver rendimiento del agente en tensorboard"
      ]
    },
    {
      "cell_type": "code",
      "metadata": {
        "id": "pC1hqla2oIJK",
        "outputId": "a24845fa-7452-4c3b-8c0a-afa2e7c00adb",
        "colab": {
          "base_uri": "https://localhost:8080/"
        }
      },
      "source": [
        "env = gym.make('CartPole-v1')\n",
        "\n",
        "model = DQN('MlpPolicy', env, tensorboard_log='tensorboard/')\n",
        "model.learn(total_timesteps=100000)"
      ],
      "execution_count": 5,
      "outputs": [
        {
          "output_type": "execute_result",
          "data": {
            "text/plain": [
              "<stable_baselines3.dqn.dqn.DQN at 0x7f45a06b9438>"
            ]
          },
          "metadata": {
            "tags": []
          },
          "execution_count": 5
        }
      ]
    },
    {
      "cell_type": "markdown",
      "metadata": {
        "id": "rldIL1u4oIJL"
      },
      "source": [
        "Para verlo en tensorboard, correr"
      ]
    },
    {
      "cell_type": "markdown",
      "metadata": {
        "id": "v4Db-mCxoIJL"
      },
      "source": [
        "`tensorboard --logdir=tensorboard/`"
      ]
    },
    {
      "cell_type": "markdown",
      "metadata": {
        "id": "YmGjl5OdoIJL"
      },
      "source": [
        "**TODO** corroborar en windoors"
      ]
    },
    {
      "cell_type": "markdown",
      "metadata": {
        "id": "2u0_1dk5oIJL"
      },
      "source": [
        "### Monitor\n",
        "\n",
        "Vamos a crear un monitor para loguear nuestro agente en la carpeta logs. Nuestro monitor guardará datos de recompensa (r), duración (l) y tiempo total (t)"
      ]
    },
    {
      "cell_type": "code",
      "metadata": {
        "id": "r7uF7sQdoIJL",
        "outputId": "25f73202-9b3e-41e5-f930-5339d1bb023c",
        "colab": {
          "base_uri": "https://localhost:8080/"
        }
      },
      "source": [
        "env = gym.make('CartPole-v1')\n",
        "env = Monitor(env, 'logs/')  # reemplazamos env por su monitor\n",
        "\n",
        "model = DQN('MlpPolicy', env, )\n",
        "model.learn(total_timesteps=10000)"
      ],
      "execution_count": 6,
      "outputs": [
        {
          "output_type": "execute_result",
          "data": {
            "text/plain": [
              "<stable_baselines3.dqn.dqn.DQN at 0x7f45f7b28b38>"
            ]
          },
          "metadata": {
            "tags": []
          },
          "execution_count": 6
        }
      ]
    },
    {
      "cell_type": "markdown",
      "metadata": {
        "id": "4yVVSGjvoIJM"
      },
      "source": [
        "### Callbacks"
      ]
    },
    {
      "cell_type": "code",
      "metadata": {
        "id": "47XdjvaSoIJM",
        "outputId": "232e781b-a571-4bce-eb94-c9dcc2feb7cd",
        "colab": {
          "base_uri": "https://localhost:8080/"
        }
      },
      "source": [
        "env = gym.make('CartPole-v1')\n",
        "\n",
        "callbacks = []  # lista de callbacks a usar, pueden ser varios\n",
        "\n",
        "# callback para detener entrenamiento al alcanzar recompensa de 9.8\n",
        "# (a fines demostrativos, es una recompensa baja)\n",
        "stop_training_callback = StopTrainingOnRewardThreshold(reward_threshold=9.8)\n",
        "\n",
        "# al crear EvalCallback, se asocia el mismo con stop_training_callback\n",
        "callbacks.append(EvalCallback(env, \n",
        "                              eval_freq=1000,\n",
        "                              callback_on_new_best=stop_training_callback))\n",
        "\n",
        "# la semilla aleatoria hace que las ejecuciones sean estocásticas\n",
        "model = DQN('MlpPolicy', env, seed=42)\n",
        "model.learn(total_timesteps=10000, callback=callbacks)"
      ],
      "execution_count": 7,
      "outputs": [
        {
          "output_type": "stream",
          "text": [
            "Eval num_timesteps=1000, episode_reward=9.60 +/- 0.80\n",
            "Episode length: 9.60 +/- 0.80\n",
            "New best mean reward!\n",
            "Eval num_timesteps=2000, episode_reward=9.20 +/- 0.75\n",
            "Episode length: 9.20 +/- 0.75\n",
            "Eval num_timesteps=3000, episode_reward=9.80 +/- 0.75\n",
            "Episode length: 9.80 +/- 0.75\n",
            "New best mean reward!\n"
          ],
          "name": "stdout"
        },
        {
          "output_type": "execute_result",
          "data": {
            "text/plain": [
              "<stable_baselines3.dqn.dqn.DQN at 0x7f45a06c71d0>"
            ]
          },
          "metadata": {
            "tags": []
          },
          "execution_count": 7
        }
      ]
    },
    {
      "cell_type": "markdown",
      "metadata": {
        "id": "QCPD7oaNoIJM"
      },
      "source": [
        "### Ejecutar agente RL en múltiples ambientes"
      ]
    },
    {
      "cell_type": "markdown",
      "metadata": {
        "id": "PNiTT2AzoIJM"
      },
      "source": [
        "Esta librería provee una interfaz para ejecutar agentes en varias instancias de un mismo entorno a la vez (*vectorized environments*), de modo tal que se habilite la ejecución paralela y de otras funcionalidades útiles.\n",
        "\n",
        "Para ello, varios de sus algoritmos implementan cambios que consideren la posibilidad de que haya múltiples entornos subyacentes, por ejemplo `step(accion)` cambia a `step(lista_acciones)`, aplicando acciones a todos los entornos, recibiendo ahora múltiples observaciones y recompensas.\n",
        "\n",
        "Otro cambio: se aplica `reset()` automáticamente a cada entorno que llega a un estado final."
      ]
    },
    {
      "cell_type": "markdown",
      "metadata": {
        "id": "9GGZjjcDoIJN"
      },
      "source": [
        "SB brinda dos formas de utilizar entornos vectorizados:\n",
        "\n",
        "* DummyVecEnv, el cuál consiste en un *wrapper* de varios entornos, los cuáles funcionarán en un sólo hilo. Este wrapper es útil como entrada de algoritmos que requieren los entornos de esta forma, y habilita los procesamientos y operaciones comunes de los entornos vectorizados (ejemplo: el *stacking* de 4 imágenes en entornos de tipo Atari).\n",
        "* SubprocVecEnv, el cuál agrupa varios entornos que serán ejecutados en paralelo. Atención! **Puede comer mucha RAM**\n",
        "\n",
        "Vemos un ejemplo:"
      ]
    },
    {
      "cell_type": "code",
      "metadata": {
        "id": "ovc6JDmYoIJN",
        "outputId": "dbf25792-33de-4cc2-e1c8-d39a0a9472f5",
        "colab": {
          "base_uri": "https://localhost:8080/"
        }
      },
      "source": [
        "# ejemplo de ambiente dummy\n",
        "venv = DummyVecEnv([lambda: gym.make('CartPole-v1')]*4)\n",
        "\n",
        "model = PPO('MlpPolicy', venv, )\n",
        "model.learn(total_timesteps=10000)"
      ],
      "execution_count": 8,
      "outputs": [
        {
          "output_type": "execute_result",
          "data": {
            "text/plain": [
              "<stable_baselines3.ppo.ppo.PPO at 0x7f45a06b9d68>"
            ]
          },
          "metadata": {
            "tags": []
          },
          "execution_count": 8
        }
      ]
    },
    {
      "cell_type": "markdown",
      "metadata": {
        "id": "kkadM0S1oIJO"
      },
      "source": [
        "También puede hacerse con un una función de SB a tal efecto"
      ]
    },
    {
      "cell_type": "code",
      "metadata": {
        "id": "wez-ZY_IoIJO",
        "outputId": "2ec05d61-3149-470c-b6eb-ce0f27232124",
        "colab": {
          "base_uri": "https://localhost:8080/"
        }
      },
      "source": [
        "venv = make_vec_env(lambda: env, n_envs=4)\n",
        "\n",
        "model = PPO('MlpPolicy', venv, )\n",
        "model.learn(total_timesteps=10000)"
      ],
      "execution_count": 9,
      "outputs": [
        {
          "output_type": "execute_result",
          "data": {
            "text/plain": [
              "<stable_baselines3.ppo.ppo.PPO at 0x7f45a06a13c8>"
            ]
          },
          "metadata": {
            "tags": []
          },
          "execution_count": 9
        }
      ]
    },
    {
      "cell_type": "markdown",
      "metadata": {
        "id": "BjH4ZQ4NoIJO"
      },
      "source": [
        "### Ejecutar agente con políticas personalizadas"
      ]
    },
    {
      "cell_type": "code",
      "metadata": {
        "id": "jp_aPhIdoIJO",
        "outputId": "662868bf-7f27-4b61-d9cd-5c9a7b062313",
        "colab": {
          "base_uri": "https://localhost:8080/"
        }
      },
      "source": [
        "# Creamos una clase con una red neuronal de 128x128 neuronas\n",
        "\n",
        "model = PPO('MlpPolicy', policy_kwargs=dict(net_arch=[128,128]), env='CartPole-v1', verbose=1).learn(total_timesteps=10000)\n",
        "model.learn(total_timesteps=10000)"
      ],
      "execution_count": 10,
      "outputs": [
        {
          "output_type": "stream",
          "text": [
            "Using cpu device\n",
            "Creating environment from the given name 'CartPole-v1'\n",
            "Wrapping the env in a DummyVecEnv.\n"
          ],
          "name": "stdout"
        },
        {
          "output_type": "execute_result",
          "data": {
            "text/plain": [
              "<stable_baselines3.ppo.ppo.PPO at 0x7f45a06c8e80>"
            ]
          },
          "metadata": {
            "tags": []
          },
          "execution_count": 10
        }
      ]
    },
    {
      "cell_type": "markdown",
      "metadata": {
        "id": "WbwkBi87oIJO"
      },
      "source": [
        "Utilizar un entorno personalizado\n",
        "\n",
        "Antes que nada, además de la interfaz que ya vimos de Gym, hay otras nociones que tenemos que tener en cuenta en este contexto:\n",
        "\n",
        "* Los entornos definen un espacio de estados y de acciones, a partir de los cuáles los modelos asumen y respetan la \"forma\" de observaciones y acciones. Por ejemplo, algunos algoritmos están diseñados para espacios de acciones discretos (DQN), continuos (DDPG) o bien poseen implementaciones particulares pueden usarse en ambos (PPO, en el repo de SB3). En cuanto a los espacios, algunos algoritmos asumen explícitamente un espacio discreto (y pequeño), como Q-Learning, mientras que otros como PPO asumen cualquier tipo de espacio.\n",
        "* Los dos tipos más comunes de estados o acciones son los espacios discretos `gym.spaces.Discrete` y los continuos `gym.spaces.Box`.\n",
        "* Los espacios discretos definen un conjunto de $n$ estados/acciones $\\{ 0, 1, \\dots, n-1 \\}$, mientras que los espacios continuos definen un espacio $\\mathbb{R}^d$, de una de las siguientes 4 formas: $[a, b], (-\\infty, b], [a, \\infty), (-\\infty, \\infty)$, en donde $a,b$ son las cotas superior e inferior (de existir).\n",
        "* Ejemplos: un espacio de acciones `Discrete(4)` tiene 4 acciones: $\\{0,1,2,3\\}$; un espacio de estados `Discrete(16)` tiene 16 estados. Un espacio de estados ALTURA, ANCHO, N_CANALES que represente una imagen RGB acotada en $[a=0, b=255]$ se puede crear como\n",
        "\n",
        "`observation_space = spaces.Box(low=0, high=255, shape=(HEIGHT, WIDTH, N_CHANNELS), dtype=np.uint8)`"
      ]
    },
    {
      "cell_type": "markdown",
      "metadata": {
        "id": "YFLZieLNoIJO"
      },
      "source": [
        "Para usar un entorno compatible por esta librería, el mismo tiene que heredar de *gym.Env*. Vemos un ejemplo (crédito: https://colab.research.google.com/github/araffin/rl-tutorial-jnrr19/blob/sb3/5_custom_gym_env.ipynb)"
      ]
    },
    {
      "cell_type": "markdown",
      "metadata": {
        "id": "HUpenYzuoIJO"
      },
      "source": [
        "**TODO translate below**"
      ]
    },
    {
      "cell_type": "code",
      "metadata": {
        "id": "str0v6DUoIJO"
      },
      "source": [
        "class GoLeftEnv(gym.Env):\n",
        "  \"\"\"\n",
        "  Custom Environment that follows gym interface.\n",
        "  This is a simple env where the agent must learn to go always left. \n",
        "  \"\"\"\n",
        "  # Because of google colab, we cannot implement the GUI ('human' render mode)\n",
        "  metadata = {'render.modes': ['console']}\n",
        "  # Define constants for clearer code\n",
        "  LEFT = 0\n",
        "  RIGHT = 1\n",
        "\n",
        "  def __init__(self, grid_size=10):\n",
        "    super(GoLeftEnv, self).__init__()\n",
        "\n",
        "    # Size of the 1D-grid\n",
        "    self.grid_size = grid_size\n",
        "    # Initialize the agent at the right of the grid\n",
        "    self.agent_pos = grid_size - 1\n",
        "\n",
        "    # Define action and observation space\n",
        "    # They must be gym.spaces objects\n",
        "    # Example when using discrete actions, we have two: left and right\n",
        "    n_actions = 2\n",
        "    self.action_space = spaces.Discrete(n_actions)\n",
        "    # The observation will be the coordinate of the agent\n",
        "    # this can be described both by Discrete and Box space\n",
        "    self.observation_space = spaces.Box(low=0, high=self.grid_size,\n",
        "                                        shape=(1,), dtype=np.float32)\n",
        "\n",
        "  def reset(self):\n",
        "    \"\"\"\n",
        "    Important: the observation must be a numpy array\n",
        "    :return: (np.array) \n",
        "    \"\"\"\n",
        "    # Initialize the agent at the right of the grid\n",
        "    self.agent_pos = self.grid_size - 1\n",
        "    # here we convert to float32 to make it more general (in case we want to use continuous actions)\n",
        "    return np.array([self.agent_pos]).astype(np.float32)\n",
        "\n",
        "  def step(self, action):\n",
        "    if action == self.LEFT:\n",
        "      self.agent_pos -= 1\n",
        "    elif action == self.RIGHT:\n",
        "      self.agent_pos += 1\n",
        "    else:\n",
        "      raise ValueError(\"Received invalid action={} which is not part of the action space\".format(action))\n",
        "\n",
        "    # Account for the boundaries of the grid\n",
        "    self.agent_pos = np.clip(self.agent_pos, 0, self.grid_size)\n",
        "\n",
        "    # Are we at the left of the grid?\n",
        "    done = bool(self.agent_pos == 0)\n",
        "\n",
        "    # Null reward everywhere except when reaching the goal (left of the grid)\n",
        "    reward = 1 if self.agent_pos == 0 else 0\n",
        "\n",
        "    # Optionally we can pass additional info, we are not using that for now\n",
        "    info = {}\n",
        "\n",
        "    return np.array([self.agent_pos]).astype(np.float32), reward, done, info\n",
        "\n",
        "  def render(self, mode='console'):\n",
        "    if mode != 'console':\n",
        "      raise NotImplementedError()\n",
        "    # agent is represented as a cross, rest as a dot\n",
        "    print(\".\" * self.agent_pos, end=\"\")\n",
        "    print(\"x\", end=\"\")\n",
        "    print(\".\" * (self.grid_size - self.agent_pos))\n",
        "\n",
        "  def close(self):\n",
        "    pass"
      ],
      "execution_count": 11,
      "outputs": []
    },
    {
      "cell_type": "code",
      "metadata": {
        "id": "flB9-j1SoIJP",
        "outputId": "8070705b-42b5-4719-f88b-1abbadb138d6",
        "colab": {
          "base_uri": "https://localhost:8080/"
        }
      },
      "source": [
        "env = GoLeftEnv(grid_size=10)\n",
        "env = make_vec_env(lambda: env, n_envs=1)\n",
        "\n",
        "model = PPO('MlpPolicy', env, verbose=1).learn(5000)"
      ],
      "execution_count": 12,
      "outputs": [
        {
          "output_type": "stream",
          "text": [
            "Using cpu device\n"
          ],
          "name": "stdout"
        }
      ]
    },
    {
      "cell_type": "markdown",
      "metadata": {
        "id": "lCQE1QoNoIJQ"
      },
      "source": [
        "Ejercicio: extender este entorno. Algunas ideas:\n",
        "\n",
        "* Transformarlo en una grilla 2D, añadir paredes/trampas/agua.\n",
        "* **TODO**"
      ]
    },
    {
      "cell_type": "markdown",
      "metadata": {
        "id": "exel4Gr8oIJQ"
      },
      "source": [
        "# RL-baselines zoo\n",
        "\n",
        "Colección de agentes RL y herramientas útiles para ejecutarlos, evaluarlos e incluso hacer videos con ellos. Los agentes de este repo están preparados con la configuración requerida para los distintos tipos de entornos, incluyendo Atari, PyBullet y entornos clásicos, incluyendo configuraciones e híper-parámetros que producen buenas políticas para tales entornos.\n",
        "\n",
        "Esta librería ofrece un muy buen punto de partida para utilizar agentes / entornos personalizados, ya que ofrece una [interfaz](https://github.com/DLR-RM/rl-baselines3-zoo/blob/master/train.py) fácilmente adaptable a nuestras necesidades."
      ]
    },
    {
      "cell_type": "markdown",
      "metadata": {
        "id": "uUUkScRxoIJQ"
      },
      "source": [
        "## Instalación"
      ]
    },
    {
      "cell_type": "markdown",
      "metadata": {
        "id": "hiKPJUfdoIJQ"
      },
      "source": [
        "Desde Google Colab"
      ]
    },
    {
      "cell_type": "code",
      "metadata": {
        "id": "ZM_pM0mIoIJQ",
        "outputId": "c0d04f15-8be8-4ca9-92a7-5eb870791e04",
        "colab": {
          "base_uri": "https://localhost:8080/"
        }
      },
      "source": [
        "if IN_COLAB:\n",
        "    !git clone --recursive https://github.com/DLR-RM/rl-baselines3-zoo\n",
        "    !cd rl-baselines3-zoo/\n",
        "    !apt-get install swig cmake ffmpeg\n",
        "    !pip install -r /content/rl-baselines3-zoo/requirements.txt"
      ],
      "execution_count": 16,
      "outputs": [
        {
          "output_type": "stream",
          "text": [
            "fatal: destination path 'rl-baselines3-zoo' already exists and is not an empty directory.\n",
            "Reading package lists... Done\n",
            "Building dependency tree       \n",
            "Reading state information... Done\n",
            "swig is already the newest version (3.0.12-1).\n",
            "cmake is already the newest version (3.10.2-1ubuntu2.18.04.1).\n",
            "ffmpeg is already the newest version (7:3.4.8-0ubuntu0.2).\n",
            "0 upgraded, 0 newly installed, 0 to remove and 12 not upgraded.\n",
            "Requirement already satisfied: stable-baselines3[docs,extra,tests]>=0.11.0a4 in /usr/local/lib/python3.6/dist-packages (from -r /content/rl-baselines3-zoo/requirements.txt (line 1)) (0.11.0a4)\n",
            "Requirement already satisfied: box2d-py==2.3.8 in /usr/local/lib/python3.6/dist-packages (from -r /content/rl-baselines3-zoo/requirements.txt (line 2)) (2.3.8)\n",
            "Requirement already satisfied: pybullet in /usr/local/lib/python3.6/dist-packages (from -r /content/rl-baselines3-zoo/requirements.txt (line 3)) (3.0.8)\n",
            "Requirement already satisfied: gym-minigrid in /usr/local/lib/python3.6/dist-packages (from -r /content/rl-baselines3-zoo/requirements.txt (line 4)) (1.0.2)\n",
            "Requirement already satisfied: scikit-optimize in /usr/local/lib/python3.6/dist-packages (from -r /content/rl-baselines3-zoo/requirements.txt (line 5)) (0.8.1)\n",
            "Requirement already satisfied: optuna in /usr/local/lib/python3.6/dist-packages (from -r /content/rl-baselines3-zoo/requirements.txt (line 6)) (2.4.0)\n",
            "Requirement already satisfied: pytablewriter in /usr/local/lib/python3.6/dist-packages (from -r /content/rl-baselines3-zoo/requirements.txt (line 7)) (0.58.0)\n",
            "Requirement already satisfied: seaborn in /usr/local/lib/python3.6/dist-packages (from -r /content/rl-baselines3-zoo/requirements.txt (line 8)) (0.11.1)\n",
            "Requirement already satisfied: pyyaml>=5.1 in /usr/local/lib/python3.6/dist-packages (from -r /content/rl-baselines3-zoo/requirements.txt (line 9)) (5.4)\n",
            "Requirement already satisfied: sb3-contrib>=0.11.0a4 in /usr/local/lib/python3.6/dist-packages (from -r /content/rl-baselines3-zoo/requirements.txt (line 10)) (0.11.0a5)\n",
            "Requirement already satisfied: matplotlib in /usr/local/lib/python3.6/dist-packages (from stable-baselines3[docs,extra,tests]>=0.11.0a4->-r /content/rl-baselines3-zoo/requirements.txt (line 1)) (3.2.2)\n",
            "Requirement already satisfied: pandas in /usr/local/lib/python3.6/dist-packages (from stable-baselines3[docs,extra,tests]>=0.11.0a4->-r /content/rl-baselines3-zoo/requirements.txt (line 1)) (1.1.5)\n",
            "Requirement already satisfied: gym>=0.17 in /usr/local/lib/python3.6/dist-packages (from stable-baselines3[docs,extra,tests]>=0.11.0a4->-r /content/rl-baselines3-zoo/requirements.txt (line 1)) (0.17.3)\n",
            "Requirement already satisfied: cloudpickle in /usr/local/lib/python3.6/dist-packages (from stable-baselines3[docs,extra,tests]>=0.11.0a4->-r /content/rl-baselines3-zoo/requirements.txt (line 1)) (1.3.0)\n",
            "Requirement already satisfied: numpy in /usr/local/lib/python3.6/dist-packages (from stable-baselines3[docs,extra,tests]>=0.11.0a4->-r /content/rl-baselines3-zoo/requirements.txt (line 1)) (1.19.5)\n",
            "Requirement already satisfied: torch>=1.4.0 in /usr/local/lib/python3.6/dist-packages (from stable-baselines3[docs,extra,tests]>=0.11.0a4->-r /content/rl-baselines3-zoo/requirements.txt (line 1)) (1.7.0+cu101)\n",
            "Requirement already satisfied: sphinx; extra == \"docs\" in /usr/local/lib/python3.6/dist-packages (from stable-baselines3[docs,extra,tests]>=0.11.0a4->-r /content/rl-baselines3-zoo/requirements.txt (line 1)) (1.8.5)\n",
            "Requirement already satisfied: sphinx-autodoc-typehints; extra == \"docs\" in /usr/local/lib/python3.6/dist-packages (from stable-baselines3[docs,extra,tests]>=0.11.0a4->-r /content/rl-baselines3-zoo/requirements.txt (line 1)) (1.11.1)\n",
            "Collecting sphinxcontrib.spelling; extra == \"docs\"\n",
            "  Using cached https://files.pythonhosted.org/packages/f6/62/796d8ae02732c162f8d53406f520c9f3c886a9ab24de4ef6995404c2b1d8/sphinxcontrib_spelling-7.1.0-py3-none-any.whl\n",
            "Requirement already satisfied: sphinx-autobuild; extra == \"docs\" in /usr/local/lib/python3.6/dist-packages (from stable-baselines3[docs,extra,tests]>=0.11.0a4->-r /content/rl-baselines3-zoo/requirements.txt (line 1)) (2020.9.1)\n",
            "Requirement already satisfied: sphinx-rtd-theme; extra == \"docs\" in /usr/local/lib/python3.6/dist-packages (from stable-baselines3[docs,extra,tests]>=0.11.0a4->-r /content/rl-baselines3-zoo/requirements.txt (line 1)) (0.5.1)\n",
            "Requirement already satisfied: psutil; extra == \"extra\" in /usr/local/lib/python3.6/dist-packages (from stable-baselines3[docs,extra,tests]>=0.11.0a4->-r /content/rl-baselines3-zoo/requirements.txt (line 1)) (5.4.8)\n",
            "Requirement already satisfied: opencv-python; extra == \"extra\" in /usr/local/lib/python3.6/dist-packages (from stable-baselines3[docs,extra,tests]>=0.11.0a4->-r /content/rl-baselines3-zoo/requirements.txt (line 1)) (4.1.2.30)\n",
            "Requirement already satisfied: atari-py~=0.2.0; extra == \"extra\" in /usr/local/lib/python3.6/dist-packages (from stable-baselines3[docs,extra,tests]>=0.11.0a4->-r /content/rl-baselines3-zoo/requirements.txt (line 1)) (0.2.6)\n",
            "Requirement already satisfied: tensorboard>=2.2.0; extra == \"extra\" in /usr/local/lib/python3.6/dist-packages (from stable-baselines3[docs,extra,tests]>=0.11.0a4->-r /content/rl-baselines3-zoo/requirements.txt (line 1)) (2.4.0)\n",
            "Requirement already satisfied: pillow; extra == \"extra\" in /usr/local/lib/python3.6/dist-packages (from stable-baselines3[docs,extra,tests]>=0.11.0a4->-r /content/rl-baselines3-zoo/requirements.txt (line 1)) (7.0.0)\n",
            "Requirement already satisfied: isort>=5.0; extra == \"tests\" in /usr/local/lib/python3.6/dist-packages (from stable-baselines3[docs,extra,tests]>=0.11.0a4->-r /content/rl-baselines3-zoo/requirements.txt (line 1)) (5.7.0)\n",
            "Requirement already satisfied: pytest-xdist; extra == \"tests\" in /usr/local/lib/python3.6/dist-packages (from stable-baselines3[docs,extra,tests]>=0.11.0a4->-r /content/rl-baselines3-zoo/requirements.txt (line 1)) (2.2.0)\n",
            "Requirement already satisfied: black; extra == \"tests\" in /usr/local/lib/python3.6/dist-packages (from stable-baselines3[docs,extra,tests]>=0.11.0a4->-r /content/rl-baselines3-zoo/requirements.txt (line 1)) (20.8b1)\n",
            "Requirement already satisfied: pytype; extra == \"tests\" in /usr/local/lib/python3.6/dist-packages (from stable-baselines3[docs,extra,tests]>=0.11.0a4->-r /content/rl-baselines3-zoo/requirements.txt (line 1)) (2021.1.14)\n",
            "Requirement already satisfied: pytest-env; extra == \"tests\" in /usr/local/lib/python3.6/dist-packages (from stable-baselines3[docs,extra,tests]>=0.11.0a4->-r /content/rl-baselines3-zoo/requirements.txt (line 1)) (0.6.2)\n",
            "Requirement already satisfied: flake8>=3.8; extra == \"tests\" in /usr/local/lib/python3.6/dist-packages (from stable-baselines3[docs,extra,tests]>=0.11.0a4->-r /content/rl-baselines3-zoo/requirements.txt (line 1)) (3.8.4)\n",
            "Requirement already satisfied: pytest-cov; extra == \"tests\" in /usr/local/lib/python3.6/dist-packages (from stable-baselines3[docs,extra,tests]>=0.11.0a4->-r /content/rl-baselines3-zoo/requirements.txt (line 1)) (2.11.1)\n",
            "Requirement already satisfied: pytest; extra == \"tests\" in /usr/local/lib/python3.6/dist-packages (from stable-baselines3[docs,extra,tests]>=0.11.0a4->-r /content/rl-baselines3-zoo/requirements.txt (line 1)) (3.6.4)\n",
            "Requirement already satisfied: pyaml>=16.9 in /usr/local/lib/python3.6/dist-packages (from scikit-optimize->-r /content/rl-baselines3-zoo/requirements.txt (line 5)) (20.4.0)\n",
            "Requirement already satisfied: scipy>=0.19.1 in /usr/local/lib/python3.6/dist-packages (from scikit-optimize->-r /content/rl-baselines3-zoo/requirements.txt (line 5)) (1.4.1)\n",
            "Requirement already satisfied: joblib>=0.11 in /usr/local/lib/python3.6/dist-packages (from scikit-optimize->-r /content/rl-baselines3-zoo/requirements.txt (line 5)) (1.0.0)\n",
            "Requirement already satisfied: scikit-learn>=0.20.0 in /usr/local/lib/python3.6/dist-packages (from scikit-optimize->-r /content/rl-baselines3-zoo/requirements.txt (line 5)) (0.22.2.post1)\n",
            "Requirement already satisfied: packaging>=20.0 in /usr/local/lib/python3.6/dist-packages (from optuna->-r /content/rl-baselines3-zoo/requirements.txt (line 6)) (20.8)\n",
            "Requirement already satisfied: cmaes>=0.6.0 in /usr/local/lib/python3.6/dist-packages (from optuna->-r /content/rl-baselines3-zoo/requirements.txt (line 6)) (0.7.0)\n",
            "Requirement already satisfied: cliff in /usr/local/lib/python3.6/dist-packages (from optuna->-r /content/rl-baselines3-zoo/requirements.txt (line 6)) (3.6.0)\n",
            "Requirement already satisfied: alembic in /usr/local/lib/python3.6/dist-packages (from optuna->-r /content/rl-baselines3-zoo/requirements.txt (line 6)) (1.5.1)\n",
            "Requirement already satisfied: colorlog in /usr/local/lib/python3.6/dist-packages (from optuna->-r /content/rl-baselines3-zoo/requirements.txt (line 6)) (4.7.2)\n",
            "Requirement already satisfied: tqdm in /usr/local/lib/python3.6/dist-packages (from optuna->-r /content/rl-baselines3-zoo/requirements.txt (line 6)) (4.41.1)\n",
            "Requirement already satisfied: sqlalchemy>=1.1.0 in /usr/local/lib/python3.6/dist-packages (from optuna->-r /content/rl-baselines3-zoo/requirements.txt (line 6)) (1.3.22)\n",
            "Requirement already satisfied: DataProperty<2,>=0.50.0 in /usr/local/lib/python3.6/dist-packages (from pytablewriter->-r /content/rl-baselines3-zoo/requirements.txt (line 7)) (0.50.0)\n",
            "Requirement already satisfied: pathvalidate<3,>=2.3.0 in /usr/local/lib/python3.6/dist-packages (from pytablewriter->-r /content/rl-baselines3-zoo/requirements.txt (line 7)) (2.3.2)\n",
            "Requirement already satisfied: tcolorpy<1,>=0.0.5 in /usr/local/lib/python3.6/dist-packages (from pytablewriter->-r /content/rl-baselines3-zoo/requirements.txt (line 7)) (0.0.8)\n",
            "Requirement already satisfied: mbstrdecoder<2,>=1.0.0 in /usr/local/lib/python3.6/dist-packages (from pytablewriter->-r /content/rl-baselines3-zoo/requirements.txt (line 7)) (1.0.1)\n",
            "Requirement already satisfied: typepy[datetime]<2,>=1.1.1 in /usr/local/lib/python3.6/dist-packages (from pytablewriter->-r /content/rl-baselines3-zoo/requirements.txt (line 7)) (1.1.2)\n",
            "Requirement already satisfied: msgfy<1,>=0.1.0 in /usr/local/lib/python3.6/dist-packages (from pytablewriter->-r /content/rl-baselines3-zoo/requirements.txt (line 7)) (0.1.0)\n",
            "Requirement already satisfied: tabledata<2,>=1.1.3 in /usr/local/lib/python3.6/dist-packages (from pytablewriter->-r /content/rl-baselines3-zoo/requirements.txt (line 7)) (1.1.3)\n",
            "Requirement already satisfied: setuptools>=38.3.0 in /usr/local/lib/python3.6/dist-packages (from pytablewriter->-r /content/rl-baselines3-zoo/requirements.txt (line 7)) (51.1.2)\n",
            "Requirement already satisfied: kiwisolver>=1.0.1 in /usr/local/lib/python3.6/dist-packages (from matplotlib->stable-baselines3[docs,extra,tests]>=0.11.0a4->-r /content/rl-baselines3-zoo/requirements.txt (line 1)) (1.3.1)\n",
            "Requirement already satisfied: cycler>=0.10 in /usr/local/lib/python3.6/dist-packages (from matplotlib->stable-baselines3[docs,extra,tests]>=0.11.0a4->-r /content/rl-baselines3-zoo/requirements.txt (line 1)) (0.10.0)\n",
            "Requirement already satisfied: pyparsing!=2.0.4,!=2.1.2,!=2.1.6,>=2.0.1 in /usr/local/lib/python3.6/dist-packages (from matplotlib->stable-baselines3[docs,extra,tests]>=0.11.0a4->-r /content/rl-baselines3-zoo/requirements.txt (line 1)) (2.4.7)\n",
            "Requirement already satisfied: python-dateutil>=2.1 in /usr/local/lib/python3.6/dist-packages (from matplotlib->stable-baselines3[docs,extra,tests]>=0.11.0a4->-r /content/rl-baselines3-zoo/requirements.txt (line 1)) (2.8.1)\n",
            "Requirement already satisfied: pytz>=2017.2 in /usr/local/lib/python3.6/dist-packages (from pandas->stable-baselines3[docs,extra,tests]>=0.11.0a4->-r /content/rl-baselines3-zoo/requirements.txt (line 1)) (2018.9)\n",
            "Requirement already satisfied: pyglet<=1.5.0,>=1.4.0 in /usr/local/lib/python3.6/dist-packages (from gym>=0.17->stable-baselines3[docs,extra,tests]>=0.11.0a4->-r /content/rl-baselines3-zoo/requirements.txt (line 1)) (1.5.0)\n",
            "Requirement already satisfied: future in /usr/local/lib/python3.6/dist-packages (from torch>=1.4.0->stable-baselines3[docs,extra,tests]>=0.11.0a4->-r /content/rl-baselines3-zoo/requirements.txt (line 1)) (0.16.0)\n",
            "Requirement already satisfied: dataclasses in /usr/local/lib/python3.6/dist-packages (from torch>=1.4.0->stable-baselines3[docs,extra,tests]>=0.11.0a4->-r /content/rl-baselines3-zoo/requirements.txt (line 1)) (0.8)\n",
            "Requirement already satisfied: typing-extensions in /usr/local/lib/python3.6/dist-packages (from torch>=1.4.0->stable-baselines3[docs,extra,tests]>=0.11.0a4->-r /content/rl-baselines3-zoo/requirements.txt (line 1)) (3.7.4.3)\n",
            "Requirement already satisfied: sphinxcontrib-websupport in /usr/local/lib/python3.6/dist-packages (from sphinx; extra == \"docs\"->stable-baselines3[docs,extra,tests]>=0.11.0a4->-r /content/rl-baselines3-zoo/requirements.txt (line 1)) (1.2.4)\n",
            "Requirement already satisfied: alabaster<0.8,>=0.7 in /usr/local/lib/python3.6/dist-packages (from sphinx; extra == \"docs\"->stable-baselines3[docs,extra,tests]>=0.11.0a4->-r /content/rl-baselines3-zoo/requirements.txt (line 1)) (0.7.12)\n",
            "Requirement already satisfied: Pygments>=2.0 in /usr/local/lib/python3.6/dist-packages (from sphinx; extra == \"docs\"->stable-baselines3[docs,extra,tests]>=0.11.0a4->-r /content/rl-baselines3-zoo/requirements.txt (line 1)) (2.6.1)\n",
            "Requirement already satisfied: docutils>=0.11 in /usr/local/lib/python3.6/dist-packages (from sphinx; extra == \"docs\"->stable-baselines3[docs,extra,tests]>=0.11.0a4->-r /content/rl-baselines3-zoo/requirements.txt (line 1)) (0.16)\n",
            "Requirement already satisfied: six>=1.5 in /usr/local/lib/python3.6/dist-packages (from sphinx; extra == \"docs\"->stable-baselines3[docs,extra,tests]>=0.11.0a4->-r /content/rl-baselines3-zoo/requirements.txt (line 1)) (1.15.0)\n",
            "Requirement already satisfied: babel!=2.0,>=1.3 in /usr/local/lib/python3.6/dist-packages (from sphinx; extra == \"docs\"->stable-baselines3[docs,extra,tests]>=0.11.0a4->-r /content/rl-baselines3-zoo/requirements.txt (line 1)) (2.9.0)\n",
            "Requirement already satisfied: snowballstemmer>=1.1 in /usr/local/lib/python3.6/dist-packages (from sphinx; extra == \"docs\"->stable-baselines3[docs,extra,tests]>=0.11.0a4->-r /content/rl-baselines3-zoo/requirements.txt (line 1)) (2.0.0)\n",
            "Requirement already satisfied: requests>=2.0.0 in /usr/local/lib/python3.6/dist-packages (from sphinx; extra == \"docs\"->stable-baselines3[docs,extra,tests]>=0.11.0a4->-r /content/rl-baselines3-zoo/requirements.txt (line 1)) (2.23.0)\n",
            "Requirement already satisfied: imagesize in /usr/local/lib/python3.6/dist-packages (from sphinx; extra == \"docs\"->stable-baselines3[docs,extra,tests]>=0.11.0a4->-r /content/rl-baselines3-zoo/requirements.txt (line 1)) (1.2.0)\n",
            "Requirement already satisfied: Jinja2>=2.3 in /usr/local/lib/python3.6/dist-packages (from sphinx; extra == \"docs\"->stable-baselines3[docs,extra,tests]>=0.11.0a4->-r /content/rl-baselines3-zoo/requirements.txt (line 1)) (2.11.2)\n",
            "Requirement already satisfied: PyEnchant>=3.1.1 in /usr/local/lib/python3.6/dist-packages (from sphinxcontrib.spelling; extra == \"docs\"->stable-baselines3[docs,extra,tests]>=0.11.0a4->-r /content/rl-baselines3-zoo/requirements.txt (line 1)) (3.2.0)\n",
            "Requirement already satisfied: importlib-metadata>=1.7.0; python_version < \"3.8\" in /usr/local/lib/python3.6/dist-packages (from sphinxcontrib.spelling; extra == \"docs\"->stable-baselines3[docs,extra,tests]>=0.11.0a4->-r /content/rl-baselines3-zoo/requirements.txt (line 1)) (3.3.0)\n",
            "Requirement already satisfied: livereload in /usr/local/lib/python3.6/dist-packages (from sphinx-autobuild; extra == \"docs\"->stable-baselines3[docs,extra,tests]>=0.11.0a4->-r /content/rl-baselines3-zoo/requirements.txt (line 1)) (2.6.3)\n",
            "Requirement already satisfied: markdown>=2.6.8 in /usr/local/lib/python3.6/dist-packages (from tensorboard>=2.2.0; extra == \"extra\"->stable-baselines3[docs,extra,tests]>=0.11.0a4->-r /content/rl-baselines3-zoo/requirements.txt (line 1)) (3.3.3)\n",
            "Requirement already satisfied: absl-py>=0.4 in /usr/local/lib/python3.6/dist-packages (from tensorboard>=2.2.0; extra == \"extra\"->stable-baselines3[docs,extra,tests]>=0.11.0a4->-r /content/rl-baselines3-zoo/requirements.txt (line 1)) (0.10.0)\n",
            "Requirement already satisfied: google-auth<2,>=1.6.3 in /usr/local/lib/python3.6/dist-packages (from tensorboard>=2.2.0; extra == \"extra\"->stable-baselines3[docs,extra,tests]>=0.11.0a4->-r /content/rl-baselines3-zoo/requirements.txt (line 1)) (1.17.2)\n",
            "Requirement already satisfied: grpcio>=1.24.3 in /usr/local/lib/python3.6/dist-packages (from tensorboard>=2.2.0; extra == \"extra\"->stable-baselines3[docs,extra,tests]>=0.11.0a4->-r /content/rl-baselines3-zoo/requirements.txt (line 1)) (1.32.0)\n",
            "Requirement already satisfied: tensorboard-plugin-wit>=1.6.0 in /usr/local/lib/python3.6/dist-packages (from tensorboard>=2.2.0; extra == \"extra\"->stable-baselines3[docs,extra,tests]>=0.11.0a4->-r /content/rl-baselines3-zoo/requirements.txt (line 1)) (1.7.0)\n",
            "Requirement already satisfied: protobuf>=3.6.0 in /usr/local/lib/python3.6/dist-packages (from tensorboard>=2.2.0; extra == \"extra\"->stable-baselines3[docs,extra,tests]>=0.11.0a4->-r /content/rl-baselines3-zoo/requirements.txt (line 1)) (3.12.4)\n",
            "Requirement already satisfied: werkzeug>=0.11.15 in /usr/local/lib/python3.6/dist-packages (from tensorboard>=2.2.0; extra == \"extra\"->stable-baselines3[docs,extra,tests]>=0.11.0a4->-r /content/rl-baselines3-zoo/requirements.txt (line 1)) (1.0.1)\n",
            "Requirement already satisfied: google-auth-oauthlib<0.5,>=0.4.1 in /usr/local/lib/python3.6/dist-packages (from tensorboard>=2.2.0; extra == \"extra\"->stable-baselines3[docs,extra,tests]>=0.11.0a4->-r /content/rl-baselines3-zoo/requirements.txt (line 1)) (0.4.2)\n",
            "Requirement already satisfied: wheel>=0.26; python_version >= \"3\" in /usr/local/lib/python3.6/dist-packages (from tensorboard>=2.2.0; extra == \"extra\"->stable-baselines3[docs,extra,tests]>=0.11.0a4->-r /content/rl-baselines3-zoo/requirements.txt (line 1)) (0.36.2)\n",
            "Requirement already satisfied: execnet>=1.1 in /usr/local/lib/python3.6/dist-packages (from pytest-xdist; extra == \"tests\"->stable-baselines3[docs,extra,tests]>=0.11.0a4->-r /content/rl-baselines3-zoo/requirements.txt (line 1)) (1.7.1)\n",
            "Requirement already satisfied: pytest-forked in /usr/local/lib/python3.6/dist-packages (from pytest-xdist; extra == \"tests\"->stable-baselines3[docs,extra,tests]>=0.11.0a4->-r /content/rl-baselines3-zoo/requirements.txt (line 1)) (1.3.0)\n",
            "Requirement already satisfied: mypy-extensions>=0.4.3 in /usr/local/lib/python3.6/dist-packages (from black; extra == \"tests\"->stable-baselines3[docs,extra,tests]>=0.11.0a4->-r /content/rl-baselines3-zoo/requirements.txt (line 1)) (0.4.3)\n",
            "Requirement already satisfied: click>=7.1.2 in /usr/local/lib/python3.6/dist-packages (from black; extra == \"tests\"->stable-baselines3[docs,extra,tests]>=0.11.0a4->-r /content/rl-baselines3-zoo/requirements.txt (line 1)) (7.1.2)\n",
            "Requirement already satisfied: regex>=2020.1.8 in /usr/local/lib/python3.6/dist-packages (from black; extra == \"tests\"->stable-baselines3[docs,extra,tests]>=0.11.0a4->-r /content/rl-baselines3-zoo/requirements.txt (line 1)) (2020.11.13)\n",
            "Requirement already satisfied: appdirs in /usr/local/lib/python3.6/dist-packages (from black; extra == \"tests\"->stable-baselines3[docs,extra,tests]>=0.11.0a4->-r /content/rl-baselines3-zoo/requirements.txt (line 1)) (1.4.4)\n",
            "Requirement already satisfied: typed-ast>=1.4.0 in /usr/local/lib/python3.6/dist-packages (from black; extra == \"tests\"->stable-baselines3[docs,extra,tests]>=0.11.0a4->-r /content/rl-baselines3-zoo/requirements.txt (line 1)) (1.4.2)\n",
            "Requirement already satisfied: pathspec<1,>=0.6 in /usr/local/lib/python3.6/dist-packages (from black; extra == \"tests\"->stable-baselines3[docs,extra,tests]>=0.11.0a4->-r /content/rl-baselines3-zoo/requirements.txt (line 1)) (0.8.1)\n",
            "Requirement already satisfied: toml>=0.10.1 in /usr/local/lib/python3.6/dist-packages (from black; extra == \"tests\"->stable-baselines3[docs,extra,tests]>=0.11.0a4->-r /content/rl-baselines3-zoo/requirements.txt (line 1)) (0.10.2)\n",
            "Requirement already satisfied: attrs in /usr/local/lib/python3.6/dist-packages (from pytype; extra == \"tests\"->stable-baselines3[docs,extra,tests]>=0.11.0a4->-r /content/rl-baselines3-zoo/requirements.txt (line 1)) (20.3.0)\n",
            "Requirement already satisfied: importlab>=0.5.1 in /usr/local/lib/python3.6/dist-packages (from pytype; extra == \"tests\"->stable-baselines3[docs,extra,tests]>=0.11.0a4->-r /content/rl-baselines3-zoo/requirements.txt (line 1)) (0.6.1)\n",
            "Requirement already satisfied: ninja>=1.10.0.post2 in /usr/local/lib/python3.6/dist-packages (from pytype; extra == \"tests\"->stable-baselines3[docs,extra,tests]>=0.11.0a4->-r /content/rl-baselines3-zoo/requirements.txt (line 1)) (1.10.0.post2)\n",
            "Requirement already satisfied: pycodestyle<2.7.0,>=2.6.0a1 in /usr/local/lib/python3.6/dist-packages (from flake8>=3.8; extra == \"tests\"->stable-baselines3[docs,extra,tests]>=0.11.0a4->-r /content/rl-baselines3-zoo/requirements.txt (line 1)) (2.6.0)\n",
            "Requirement already satisfied: mccabe<0.7.0,>=0.6.0 in /usr/local/lib/python3.6/dist-packages (from flake8>=3.8; extra == \"tests\"->stable-baselines3[docs,extra,tests]>=0.11.0a4->-r /content/rl-baselines3-zoo/requirements.txt (line 1)) (0.6.1)\n",
            "Requirement already satisfied: pyflakes<2.3.0,>=2.2.0 in /usr/local/lib/python3.6/dist-packages (from flake8>=3.8; extra == \"tests\"->stable-baselines3[docs,extra,tests]>=0.11.0a4->-r /content/rl-baselines3-zoo/requirements.txt (line 1)) (2.2.0)\n",
            "Requirement already satisfied: coverage>=5.2.1 in /usr/local/lib/python3.6/dist-packages (from pytest-cov; extra == \"tests\"->stable-baselines3[docs,extra,tests]>=0.11.0a4->-r /content/rl-baselines3-zoo/requirements.txt (line 1)) (5.3.1)\n",
            "Requirement already satisfied: atomicwrites>=1.0 in /usr/local/lib/python3.6/dist-packages (from pytest; extra == \"tests\"->stable-baselines3[docs,extra,tests]>=0.11.0a4->-r /content/rl-baselines3-zoo/requirements.txt (line 1)) (1.4.0)\n",
            "Requirement already satisfied: py>=1.5.0 in /usr/local/lib/python3.6/dist-packages (from pytest; extra == \"tests\"->stable-baselines3[docs,extra,tests]>=0.11.0a4->-r /content/rl-baselines3-zoo/requirements.txt (line 1)) (1.10.0)\n",
            "Requirement already satisfied: more-itertools>=4.0.0 in /usr/local/lib/python3.6/dist-packages (from pytest; extra == \"tests\"->stable-baselines3[docs,extra,tests]>=0.11.0a4->-r /content/rl-baselines3-zoo/requirements.txt (line 1)) (8.6.0)\n",
            "Requirement already satisfied: pluggy<0.8,>=0.5 in /usr/local/lib/python3.6/dist-packages (from pytest; extra == \"tests\"->stable-baselines3[docs,extra,tests]>=0.11.0a4->-r /content/rl-baselines3-zoo/requirements.txt (line 1)) (0.7.1)\n",
            "Requirement already satisfied: cmd2!=0.8.3,>=0.8.0 in /usr/local/lib/python3.6/dist-packages (from cliff->optuna->-r /content/rl-baselines3-zoo/requirements.txt (line 6)) (1.4.0)\n",
            "Requirement already satisfied: pbr!=2.1.0,>=2.0.0 in /usr/local/lib/python3.6/dist-packages (from cliff->optuna->-r /content/rl-baselines3-zoo/requirements.txt (line 6)) (5.5.1)\n",
            "Requirement already satisfied: stevedore>=2.0.1 in /usr/local/lib/python3.6/dist-packages (from cliff->optuna->-r /content/rl-baselines3-zoo/requirements.txt (line 6)) (3.3.0)\n",
            "Requirement already satisfied: PrettyTable<0.8,>=0.7.2 in /usr/local/lib/python3.6/dist-packages (from cliff->optuna->-r /content/rl-baselines3-zoo/requirements.txt (line 6)) (0.7.2)\n",
            "Requirement already satisfied: python-editor>=0.3 in /usr/local/lib/python3.6/dist-packages (from alembic->optuna->-r /content/rl-baselines3-zoo/requirements.txt (line 6)) (1.0.4)\n",
            "Requirement already satisfied: Mako in /usr/local/lib/python3.6/dist-packages (from alembic->optuna->-r /content/rl-baselines3-zoo/requirements.txt (line 6)) (1.1.4)\n",
            "Requirement already satisfied: chardet<5,>=3.0.4 in /usr/local/lib/python3.6/dist-packages (from mbstrdecoder<2,>=1.0.0->pytablewriter->-r /content/rl-baselines3-zoo/requirements.txt (line 7)) (3.0.4)\n",
            "Requirement already satisfied: sphinxcontrib-serializinghtml in /usr/local/lib/python3.6/dist-packages (from sphinxcontrib-websupport->sphinx; extra == \"docs\"->stable-baselines3[docs,extra,tests]>=0.11.0a4->-r /content/rl-baselines3-zoo/requirements.txt (line 1)) (1.1.4)\n",
            "Requirement already satisfied: urllib3!=1.25.0,!=1.25.1,<1.26,>=1.21.1 in /usr/local/lib/python3.6/dist-packages (from requests>=2.0.0->sphinx; extra == \"docs\"->stable-baselines3[docs,extra,tests]>=0.11.0a4->-r /content/rl-baselines3-zoo/requirements.txt (line 1)) (1.24.3)\n",
            "Requirement already satisfied: certifi>=2017.4.17 in /usr/local/lib/python3.6/dist-packages (from requests>=2.0.0->sphinx; extra == \"docs\"->stable-baselines3[docs,extra,tests]>=0.11.0a4->-r /content/rl-baselines3-zoo/requirements.txt (line 1)) (2020.12.5)\n",
            "Requirement already satisfied: idna<3,>=2.5 in /usr/local/lib/python3.6/dist-packages (from requests>=2.0.0->sphinx; extra == \"docs\"->stable-baselines3[docs,extra,tests]>=0.11.0a4->-r /content/rl-baselines3-zoo/requirements.txt (line 1)) (2.10)\n",
            "Requirement already satisfied: MarkupSafe>=0.23 in /usr/local/lib/python3.6/dist-packages (from Jinja2>=2.3->sphinx; extra == \"docs\"->stable-baselines3[docs,extra,tests]>=0.11.0a4->-r /content/rl-baselines3-zoo/requirements.txt (line 1)) (1.1.1)\n",
            "Requirement already satisfied: zipp>=0.5 in /usr/local/lib/python3.6/dist-packages (from importlib-metadata>=1.7.0; python_version < \"3.8\"->sphinxcontrib.spelling; extra == \"docs\"->stable-baselines3[docs,extra,tests]>=0.11.0a4->-r /content/rl-baselines3-zoo/requirements.txt (line 1)) (3.4.0)\n",
            "Requirement already satisfied: tornado; python_version > \"2.7\" in /usr/local/lib/python3.6/dist-packages (from livereload->sphinx-autobuild; extra == \"docs\"->stable-baselines3[docs,extra,tests]>=0.11.0a4->-r /content/rl-baselines3-zoo/requirements.txt (line 1)) (5.1.1)\n",
            "Requirement already satisfied: cachetools<5.0,>=2.0.0 in /usr/local/lib/python3.6/dist-packages (from google-auth<2,>=1.6.3->tensorboard>=2.2.0; extra == \"extra\"->stable-baselines3[docs,extra,tests]>=0.11.0a4->-r /content/rl-baselines3-zoo/requirements.txt (line 1)) (4.2.0)\n",
            "Requirement already satisfied: rsa<5,>=3.1.4; python_version >= \"3\" in /usr/local/lib/python3.6/dist-packages (from google-auth<2,>=1.6.3->tensorboard>=2.2.0; extra == \"extra\"->stable-baselines3[docs,extra,tests]>=0.11.0a4->-r /content/rl-baselines3-zoo/requirements.txt (line 1)) (4.6)\n",
            "Requirement already satisfied: pyasn1-modules>=0.2.1 in /usr/local/lib/python3.6/dist-packages (from google-auth<2,>=1.6.3->tensorboard>=2.2.0; extra == \"extra\"->stable-baselines3[docs,extra,tests]>=0.11.0a4->-r /content/rl-baselines3-zoo/requirements.txt (line 1)) (0.2.8)\n",
            "Requirement already satisfied: requests-oauthlib>=0.7.0 in /usr/local/lib/python3.6/dist-packages (from google-auth-oauthlib<0.5,>=0.4.1->tensorboard>=2.2.0; extra == \"extra\"->stable-baselines3[docs,extra,tests]>=0.11.0a4->-r /content/rl-baselines3-zoo/requirements.txt (line 1)) (1.3.0)\n",
            "Requirement already satisfied: apipkg>=1.4 in /usr/local/lib/python3.6/dist-packages (from execnet>=1.1->pytest-xdist; extra == \"tests\"->stable-baselines3[docs,extra,tests]>=0.11.0a4->-r /content/rl-baselines3-zoo/requirements.txt (line 1)) (1.5)\n",
            "Requirement already satisfied: networkx>=2 in /usr/local/lib/python3.6/dist-packages (from importlab>=0.5.1->pytype; extra == \"tests\"->stable-baselines3[docs,extra,tests]>=0.11.0a4->-r /content/rl-baselines3-zoo/requirements.txt (line 1)) (2.5)\n",
            "Requirement already satisfied: pyperclip>=1.6 in /usr/local/lib/python3.6/dist-packages (from cmd2!=0.8.3,>=0.8.0->cliff->optuna->-r /content/rl-baselines3-zoo/requirements.txt (line 6)) (1.8.1)\n",
            "Requirement already satisfied: wcwidth>=0.1.7 in /usr/local/lib/python3.6/dist-packages (from cmd2!=0.8.3,>=0.8.0->cliff->optuna->-r /content/rl-baselines3-zoo/requirements.txt (line 6)) (0.2.5)\n",
            "Requirement already satisfied: colorama>=0.3.7 in /usr/local/lib/python3.6/dist-packages (from cmd2!=0.8.3,>=0.8.0->cliff->optuna->-r /content/rl-baselines3-zoo/requirements.txt (line 6)) (0.4.4)\n",
            "Requirement already satisfied: pyasn1>=0.1.3 in /usr/local/lib/python3.6/dist-packages (from rsa<5,>=3.1.4; python_version >= \"3\"->google-auth<2,>=1.6.3->tensorboard>=2.2.0; extra == \"extra\"->stable-baselines3[docs,extra,tests]>=0.11.0a4->-r /content/rl-baselines3-zoo/requirements.txt (line 1)) (0.4.8)\n",
            "Requirement already satisfied: oauthlib>=3.0.0 in /usr/local/lib/python3.6/dist-packages (from requests-oauthlib>=0.7.0->google-auth-oauthlib<0.5,>=0.4.1->tensorboard>=2.2.0; extra == \"extra\"->stable-baselines3[docs,extra,tests]>=0.11.0a4->-r /content/rl-baselines3-zoo/requirements.txt (line 1)) (3.1.0)\n",
            "Requirement already satisfied: decorator>=4.3.0 in /usr/local/lib/python3.6/dist-packages (from networkx>=2->importlab>=0.5.1->pytype; extra == \"tests\"->stable-baselines3[docs,extra,tests]>=0.11.0a4->-r /content/rl-baselines3-zoo/requirements.txt (line 1)) (4.4.2)\n",
            "\u001b[31mERROR: sphinxcontrib-spelling 7.1.0 has requirement Sphinx>=3.0.0, but you'll have sphinx 1.8.5 which is incompatible.\u001b[0m\n",
            "Installing collected packages: sphinxcontrib.spelling\n",
            "Successfully installed sphinxcontrib.spelling\n"
          ],
          "name": "stdout"
        }
      ]
    },
    {
      "cell_type": "markdown",
      "metadata": {
        "id": "SzBEoyPzoIJR"
      },
      "source": [
        "Desde Linux, ejecutando\n",
        "\n",
        "    git clone --recursive https://github.com/DLR-RM/rl-baselines3-zoo\n",
        "    cd rl-baselines3-zoo/\n",
        "    sudo apt-get install swig cmake ffmpeg\n",
        "    pip install -r requirements.txt"
      ]
    },
    {
      "cell_type": "markdown",
      "metadata": {
        "id": "p6TCyu_UoIJR"
      },
      "source": [
        "## Ejecución\n",
        "\n",
        "Los agentes pueden ser llamados desde la consola mediante comandos como\n",
        "\n",
        "`python train.py --algo algo_name --env env_id`\n",
        "\n",
        "Los cuales pueden ser llamados usando"
      ]
    },
    {
      "cell_type": "code",
      "metadata": {
        "id": "jBLMVxhIoIJR"
      },
      "source": [
        "os.chdir('rl-baselines3-zoo/')\n",
        "\n",
        "args = [\n",
        "    '-n', str(100000),\n",
        "    '--algo', 'ppo',\n",
        "    '--env', 'CartPole-v1'\n",
        "]\n",
        "\n",
        "p = Popen(['python', 'train.py'] + args,\n",
        "                               stdin=PIPE, stdout=PIPE, stderr=PIPE)\n",
        "output, err = p.communicate()\n",
        "rc = p.returncode\n",
        "os.chdir(cwd)\n",
        "assert rc == 0"
      ],
      "execution_count": 17,
      "outputs": []
    },
    {
      "cell_type": "markdown",
      "metadata": {
        "id": "40H4hNcqoIJR"
      },
      "source": [
        "Ver en acción el agente entrenado (nota: no disponible en Google Colab)"
      ]
    },
    {
      "cell_type": "code",
      "metadata": {
        "id": "cNija96loIJR"
      },
      "source": [
        "if not IN_COLAB:\n",
        "    pass  # TODO mostrar el uso del enjoy"
      ],
      "execution_count": 18,
      "outputs": []
    },
    {
      "cell_type": "markdown",
      "metadata": {
        "id": "MSfIitK7oIJR"
      },
      "source": [
        "Grabar video! **TODO**"
      ]
    },
    {
      "cell_type": "markdown",
      "metadata": {
        "id": "Phq975BYoIJR"
      },
      "source": [
        "Ver curva de aprendizaje obtenida por el agente desde *utils.plot*"
      ]
    },
    {
      "cell_type": "code",
      "metadata": {
        "id": "ZL4kxyVNoIJR",
        "outputId": "04d24bba-c307-4d36-e434-08f293df1409",
        "colab": {
          "base_uri": "https://localhost:8080/"
        }
      },
      "source": [
        "print(cwd)"
      ],
      "execution_count": 19,
      "outputs": [
        {
          "output_type": "stream",
          "text": [
            "/content\n"
          ],
          "name": "stdout"
        }
      ]
    },
    {
      "cell_type": "code",
      "metadata": {
        "id": "CYrp0w5yoIJS"
      },
      "source": [
        "os.chdir(cwd)\n"
      ],
      "execution_count": 20,
      "outputs": []
    },
    {
      "cell_type": "code",
      "metadata": {
        "id": "Q8EA41oQoIJS"
      },
      "source": [
        "os.chdir('rl-baselines3-zoo/')\n",
        "\n",
        "args = [\n",
        "    'ppo',\n",
        "    'CartPole-v1',\n",
        "    'logs/',\n",
        "    'steps'\n",
        "]\n",
        "\n",
        "p = Popen(['python', '-m', 'scripts.plot_train'] + args, stdout=PIPE)\n",
        "output, err = p.communicate()\n",
        "rc = p.returncode\n",
        "os.chdir(cwd)\n",
        "\n",
        "assert rc == 0"
      ],
      "execution_count": 21,
      "outputs": []
    },
    {
      "cell_type": "code",
      "metadata": {
        "id": "__1mgFR0oIJT",
        "outputId": "3c71afc6-67df-4aab-8a4b-8df5dd1eec34",
        "colab": {
          "base_uri": "https://localhost:8080/"
        }
      },
      "source": [
        "print(output)"
      ],
      "execution_count": 22,
      "outputs": [
        {
          "output_type": "stream",
          "text": [
            "b'<Figure size 800x200 with 1 Axes>\\n'\n"
          ],
          "name": "stdout"
        }
      ]
    },
    {
      "cell_type": "code",
      "metadata": {
        "id": "hytcbTYYoIJT"
      },
      "source": [
        ""
      ],
      "execution_count": 22,
      "outputs": []
    },
    {
      "cell_type": "markdown",
      "metadata": {
        "id": "sgrWKJlsoIJT"
      },
      "source": [
        "## Normalización de features y recompensas"
      ]
    },
    {
      "cell_type": "markdown",
      "metadata": {
        "id": "BIfn3o99oIJT"
      },
      "source": [
        "**TODO**"
      ]
    },
    {
      "cell_type": "markdown",
      "metadata": {
        "id": "BWzAHj6qoIJT"
      },
      "source": [
        "## Híper-parámetros\n",
        "\n",
        "RL-Baselines Zoo provee funcionalidad para optimizar los híper-parámetros con la librería [Optuna]( https://github.com/optuna/optuna). En los mismos se incluyen rangos de híper-parámetros que se usaron para optimizar entornos como los de PyBullet, y son fácilmente modificables para adaptarlo a nuestros propios entornos. Para ver cómo se llama a la interfaz de Optuna ver [este código](https://github.com/DLR-RM/rl-baselines3-zoo/blob/master/utils/hyperparams_opt.py).\n",
        "\n",
        "Nota: **Consume muchos recursos!**\n",
        "\n",
        "**TODO**"
      ]
    },
    {
      "cell_type": "markdown",
      "metadata": {
        "id": "P5YbRAbyoIJT"
      },
      "source": [
        "# Recursos adicionales\n",
        "\n",
        "* Framework adicional de aprendizaje por refuerzos a gran escala: https://docs.ray.io/en/master/rllib.html.\n",
        "* Awesome Deep RL: https://github.com/kengz/awesome-deep-rl\n",
        "* [Comunidad de Bots de RL para Rocket League](https://rlbot.org/)\n",
        "\n",
        "\n",
        "* **TODO**"
      ]
    },
    {
      "cell_type": "markdown",
      "metadata": {
        "id": "rwXMoJy9oIJT"
      },
      "source": [
        "FIN"
      ]
    }
  ]
}