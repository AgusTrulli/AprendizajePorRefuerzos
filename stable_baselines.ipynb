{
  "nbformat": 4,
  "nbformat_minor": 0,
  "metadata": {
    "kernelspec": {
      "display_name": "Python 3",
      "language": "python",
      "name": "python3"
    },
    "language_info": {
      "codemirror_mode": {
        "name": "ipython",
        "version": 3
      },
      "file_extension": ".py",
      "mimetype": "text/x-python",
      "name": "python",
      "nbconvert_exporter": "python",
      "pygments_lexer": "ipython3",
      "version": "3.7.7"
    },
    "colab": {
      "name": "stable_baselines.ipynb",
      "provenance": [],
      "toc_visible": true,
      "include_colab_link": true
    }
  },
  "cells": [
    {
      "cell_type": "markdown",
      "metadata": {
        "id": "view-in-github",
        "colab_type": "text"
      },
      "source": [
        "<a href=\"https://colab.research.google.com/github/GIDISIA/RLDiplodatos/blob/master/stable_baselines.ipynb\" target=\"_parent\"><img src=\"https://colab.research.google.com/assets/colab-badge.svg\" alt=\"Open In Colab\"/></a>"
      ]
    },
    {
      "cell_type": "markdown",
      "metadata": {
        "id": "SytTR8K1oII-"
      },
      "source": [
        "# Introducción"
      ]
    },
    {
      "cell_type": "markdown",
      "metadata": {
        "id": "8BFrF74foIJD"
      },
      "source": [
        "Créditos:\n",
        "\n",
        "* Documentación y repo de Stable-baselines https://stable-baselines3.readthedocs.io.\n",
        "    * Tutorial sobre SB3: https://github.com/araffin/rl-tutorial-jnrr19.\n",
        "* Documentación y repo de OpenAI Gym https://github.com/openai/gym/blob/master/docs/.\n",
        "    * Crear un entorno https://github.com/openai/gym/blob/master/docs/creating-environments.md. "
      ]
    },
    {
      "cell_type": "markdown",
      "metadata": {
        "id": "HlZ0ehGZoIJD"
      },
      "source": [
        "Stable-baselines3: framework de deep RL que provee interfaces para ejecutar y adaptar algoritmos de RL \"al estilo scikit-learn\". Permite utilizar agentes abstrayéndonos de los detalles de bajo nivel de abstracción referentes a la implementación del algoritmo$^1$\n",
        "\n",
        "Además, ofrece herramientas muy útiles como\n",
        "\n",
        "* Monitores que permiten ver el rendimiento del agente según se desempeña en el entorno, sin tener que esperar a que finalice de entrenar.\n",
        "* Callbacks que permiten accionar eventos cuando se cumplen algunas condiciones en el entrenamiento de nuestro agente (por ejemplo, detenerlo si la recompensa recibida es menor a cierto umbral tras un cierto período de tiempo).\n",
        "\n",
        "\n",
        "Documentación https://stable-baselines3.readthedocs.io\n",
        "\n",
        "Es un fork activamente mantenido de [OpenAI baselines](https://github.com/openai/baselines)\n",
        "\n",
        "La versión 3 cambia el framework subyacente de Tensorflow a Pytorch y está activamente en desarrollo; no obstante la versión 2 es completamente funcional\n",
        "\n",
        "$^1$ no obstante, al igual que sucede generalmente con librerías de ML: \n",
        "\n",
        "* Siempre es bueno tener en mente las características, ventajas y desventajas del algoritmo utilizado, pues de eso depende mucho la convergencia de nuestra solución, especialmente cuando se emplean entornos adaptados para nuestras necesidades. \n",
        "\n",
        "* Esta librería, al igual que demás frameworks generales de RL, están muy probadas en entornos estándares de RL como Atari o PyBullet. No obstante, es posible que nuestro entorno o nuestras necesidades difieran significativamente, lo que hace que en algunos casos haya que meter mano directo en el código de los algoritmos/librería."
      ]
    },
    {
      "cell_type": "markdown",
      "metadata": {
        "id": "W4SWX4wuoIJE"
      },
      "source": [
        "# Interfaz básica stable-baselines"
      ]
    },
    {
      "cell_type": "markdown",
      "metadata": {
        "id": "SD-FSSuKoIJF"
      },
      "source": [
        "## Instalación\n",
        "\n",
        "Desde Linux o Google Colab"
      ]
    },
    {
      "cell_type": "code",
      "metadata": {
        "id": "ttqOLol_oIJG",
        "colab": {
          "base_uri": "https://localhost:8080/"
        },
        "outputId": "e11e4127-fec1-4dce-f4ae-529544d42ef9"
      },
      "source": [
        "!pip install stable-baselines3[extra,tests,docs]>=0.11.0a4 && pip install sb3-contrib"
      ],
      "execution_count": 1,
      "outputs": [
        {
          "output_type": "stream",
          "text": [
            "\u001b[31mERROR: sphinxcontrib-spelling 7.1.0 has requirement Sphinx>=3.0.0, but you'll have sphinx 1.8.5 which is incompatible.\u001b[0m\n",
            "Requirement already satisfied: sb3-contrib in /usr/local/lib/python3.6/dist-packages (0.11.0a5)\n",
            "Requirement already satisfied: stable-baselines3[docs,tests]>=0.11.0a2 in /usr/local/lib/python3.6/dist-packages (from sb3-contrib) (0.11.0a4)\n",
            "Requirement already satisfied: matplotlib in /usr/local/lib/python3.6/dist-packages (from stable-baselines3[docs,tests]>=0.11.0a2->sb3-contrib) (3.2.2)\n",
            "Requirement already satisfied: pandas in /usr/local/lib/python3.6/dist-packages (from stable-baselines3[docs,tests]>=0.11.0a2->sb3-contrib) (1.1.5)\n",
            "Requirement already satisfied: gym>=0.17 in /usr/local/lib/python3.6/dist-packages (from stable-baselines3[docs,tests]>=0.11.0a2->sb3-contrib) (0.17.3)\n",
            "Requirement already satisfied: numpy in /usr/local/lib/python3.6/dist-packages (from stable-baselines3[docs,tests]>=0.11.0a2->sb3-contrib) (1.19.5)\n",
            "Requirement already satisfied: cloudpickle in /usr/local/lib/python3.6/dist-packages (from stable-baselines3[docs,tests]>=0.11.0a2->sb3-contrib) (1.3.0)\n",
            "Requirement already satisfied: torch>=1.4.0 in /usr/local/lib/python3.6/dist-packages (from stable-baselines3[docs,tests]>=0.11.0a2->sb3-contrib) (1.7.0+cu101)\n",
            "Requirement already satisfied: sphinx-autodoc-typehints; extra == \"docs\" in /usr/local/lib/python3.6/dist-packages (from stable-baselines3[docs,tests]>=0.11.0a2->sb3-contrib) (1.11.1)\n",
            "Collecting sphinxcontrib.spelling; extra == \"docs\"\n",
            "  Using cached https://files.pythonhosted.org/packages/f6/62/796d8ae02732c162f8d53406f520c9f3c886a9ab24de4ef6995404c2b1d8/sphinxcontrib_spelling-7.1.0-py3-none-any.whl\n",
            "Requirement already satisfied: sphinx-rtd-theme; extra == \"docs\" in /usr/local/lib/python3.6/dist-packages (from stable-baselines3[docs,tests]>=0.11.0a2->sb3-contrib) (0.5.1)\n",
            "Requirement already satisfied: sphinx; extra == \"docs\" in /usr/local/lib/python3.6/dist-packages (from stable-baselines3[docs,tests]>=0.11.0a2->sb3-contrib) (1.8.5)\n",
            "Requirement already satisfied: sphinx-autobuild; extra == \"docs\" in /usr/local/lib/python3.6/dist-packages (from stable-baselines3[docs,tests]>=0.11.0a2->sb3-contrib) (2020.9.1)\n",
            "Requirement already satisfied: pytest-xdist; extra == \"tests\" in /usr/local/lib/python3.6/dist-packages (from stable-baselines3[docs,tests]>=0.11.0a2->sb3-contrib) (2.2.0)\n",
            "Requirement already satisfied: pytest-cov; extra == \"tests\" in /usr/local/lib/python3.6/dist-packages (from stable-baselines3[docs,tests]>=0.11.0a2->sb3-contrib) (2.11.1)\n",
            "Requirement already satisfied: pytype; extra == \"tests\" in /usr/local/lib/python3.6/dist-packages (from stable-baselines3[docs,tests]>=0.11.0a2->sb3-contrib) (2021.1.21)\n",
            "Requirement already satisfied: isort>=5.0; extra == \"tests\" in /usr/local/lib/python3.6/dist-packages (from stable-baselines3[docs,tests]>=0.11.0a2->sb3-contrib) (5.7.0)\n",
            "Requirement already satisfied: flake8>=3.8; extra == \"tests\" in /usr/local/lib/python3.6/dist-packages (from stable-baselines3[docs,tests]>=0.11.0a2->sb3-contrib) (3.8.4)\n",
            "Requirement already satisfied: pytest-env; extra == \"tests\" in /usr/local/lib/python3.6/dist-packages (from stable-baselines3[docs,tests]>=0.11.0a2->sb3-contrib) (0.6.2)\n",
            "Requirement already satisfied: pytest; extra == \"tests\" in /usr/local/lib/python3.6/dist-packages (from stable-baselines3[docs,tests]>=0.11.0a2->sb3-contrib) (3.6.4)\n",
            "Requirement already satisfied: black; extra == \"tests\" in /usr/local/lib/python3.6/dist-packages (from stable-baselines3[docs,tests]>=0.11.0a2->sb3-contrib) (20.8b1)\n",
            "Requirement already satisfied: python-dateutil>=2.1 in /usr/local/lib/python3.6/dist-packages (from matplotlib->stable-baselines3[docs,tests]>=0.11.0a2->sb3-contrib) (2.8.1)\n",
            "Requirement already satisfied: cycler>=0.10 in /usr/local/lib/python3.6/dist-packages (from matplotlib->stable-baselines3[docs,tests]>=0.11.0a2->sb3-contrib) (0.10.0)\n",
            "Requirement already satisfied: pyparsing!=2.0.4,!=2.1.2,!=2.1.6,>=2.0.1 in /usr/local/lib/python3.6/dist-packages (from matplotlib->stable-baselines3[docs,tests]>=0.11.0a2->sb3-contrib) (2.4.7)\n",
            "Requirement already satisfied: kiwisolver>=1.0.1 in /usr/local/lib/python3.6/dist-packages (from matplotlib->stable-baselines3[docs,tests]>=0.11.0a2->sb3-contrib) (1.3.1)\n",
            "Requirement already satisfied: pytz>=2017.2 in /usr/local/lib/python3.6/dist-packages (from pandas->stable-baselines3[docs,tests]>=0.11.0a2->sb3-contrib) (2018.9)\n",
            "Requirement already satisfied: pyglet<=1.5.0,>=1.4.0 in /usr/local/lib/python3.6/dist-packages (from gym>=0.17->stable-baselines3[docs,tests]>=0.11.0a2->sb3-contrib) (1.5.0)\n",
            "Requirement already satisfied: scipy in /usr/local/lib/python3.6/dist-packages (from gym>=0.17->stable-baselines3[docs,tests]>=0.11.0a2->sb3-contrib) (1.4.1)\n",
            "Requirement already satisfied: dataclasses in /usr/local/lib/python3.6/dist-packages (from torch>=1.4.0->stable-baselines3[docs,tests]>=0.11.0a2->sb3-contrib) (0.8)\n",
            "Requirement already satisfied: future in /usr/local/lib/python3.6/dist-packages (from torch>=1.4.0->stable-baselines3[docs,tests]>=0.11.0a2->sb3-contrib) (0.16.0)\n",
            "Requirement already satisfied: typing-extensions in /usr/local/lib/python3.6/dist-packages (from torch>=1.4.0->stable-baselines3[docs,tests]>=0.11.0a2->sb3-contrib) (3.7.4.3)\n",
            "Requirement already satisfied: PyEnchant>=3.1.1 in /usr/local/lib/python3.6/dist-packages (from sphinxcontrib.spelling; extra == \"docs\"->stable-baselines3[docs,tests]>=0.11.0a2->sb3-contrib) (3.2.0)\n",
            "Requirement already satisfied: importlib-metadata>=1.7.0; python_version < \"3.8\" in /usr/local/lib/python3.6/dist-packages (from sphinxcontrib.spelling; extra == \"docs\"->stable-baselines3[docs,tests]>=0.11.0a2->sb3-contrib) (3.3.0)\n",
            "Requirement already satisfied: Pygments>=2.0 in /usr/local/lib/python3.6/dist-packages (from sphinx; extra == \"docs\"->stable-baselines3[docs,tests]>=0.11.0a2->sb3-contrib) (2.6.1)\n",
            "Requirement already satisfied: packaging in /usr/local/lib/python3.6/dist-packages (from sphinx; extra == \"docs\"->stable-baselines3[docs,tests]>=0.11.0a2->sb3-contrib) (20.8)\n",
            "Requirement already satisfied: requests>=2.0.0 in /usr/local/lib/python3.6/dist-packages (from sphinx; extra == \"docs\"->stable-baselines3[docs,tests]>=0.11.0a2->sb3-contrib) (2.23.0)\n",
            "Requirement already satisfied: sphinxcontrib-websupport in /usr/local/lib/python3.6/dist-packages (from sphinx; extra == \"docs\"->stable-baselines3[docs,tests]>=0.11.0a2->sb3-contrib) (1.2.4)\n",
            "Requirement already satisfied: imagesize in /usr/local/lib/python3.6/dist-packages (from sphinx; extra == \"docs\"->stable-baselines3[docs,tests]>=0.11.0a2->sb3-contrib) (1.2.0)\n",
            "Requirement already satisfied: six>=1.5 in /usr/local/lib/python3.6/dist-packages (from sphinx; extra == \"docs\"->stable-baselines3[docs,tests]>=0.11.0a2->sb3-contrib) (1.15.0)\n",
            "Requirement already satisfied: Jinja2>=2.3 in /usr/local/lib/python3.6/dist-packages (from sphinx; extra == \"docs\"->stable-baselines3[docs,tests]>=0.11.0a2->sb3-contrib) (2.11.2)\n",
            "Requirement already satisfied: setuptools in /usr/local/lib/python3.6/dist-packages (from sphinx; extra == \"docs\"->stable-baselines3[docs,tests]>=0.11.0a2->sb3-contrib) (51.3.3)\n",
            "Requirement already satisfied: alabaster<0.8,>=0.7 in /usr/local/lib/python3.6/dist-packages (from sphinx; extra == \"docs\"->stable-baselines3[docs,tests]>=0.11.0a2->sb3-contrib) (0.7.12)\n",
            "Requirement already satisfied: babel!=2.0,>=1.3 in /usr/local/lib/python3.6/dist-packages (from sphinx; extra == \"docs\"->stable-baselines3[docs,tests]>=0.11.0a2->sb3-contrib) (2.9.0)\n",
            "Requirement already satisfied: snowballstemmer>=1.1 in /usr/local/lib/python3.6/dist-packages (from sphinx; extra == \"docs\"->stable-baselines3[docs,tests]>=0.11.0a2->sb3-contrib) (2.0.0)\n",
            "Requirement already satisfied: docutils>=0.11 in /usr/local/lib/python3.6/dist-packages (from sphinx; extra == \"docs\"->stable-baselines3[docs,tests]>=0.11.0a2->sb3-contrib) (0.16)\n",
            "Requirement already satisfied: livereload in /usr/local/lib/python3.6/dist-packages (from sphinx-autobuild; extra == \"docs\"->stable-baselines3[docs,tests]>=0.11.0a2->sb3-contrib) (2.6.3)\n",
            "Requirement already satisfied: execnet>=1.1 in /usr/local/lib/python3.6/dist-packages (from pytest-xdist; extra == \"tests\"->stable-baselines3[docs,tests]>=0.11.0a2->sb3-contrib) (1.8.0)\n",
            "Requirement already satisfied: pytest-forked in /usr/local/lib/python3.6/dist-packages (from pytest-xdist; extra == \"tests\"->stable-baselines3[docs,tests]>=0.11.0a2->sb3-contrib) (1.3.0)\n",
            "Requirement already satisfied: coverage>=5.2.1 in /usr/local/lib/python3.6/dist-packages (from pytest-cov; extra == \"tests\"->stable-baselines3[docs,tests]>=0.11.0a2->sb3-contrib) (5.4)\n",
            "Requirement already satisfied: pyyaml>=3.11 in /usr/local/lib/python3.6/dist-packages (from pytype; extra == \"tests\"->stable-baselines3[docs,tests]>=0.11.0a2->sb3-contrib) (5.4.1)\n",
            "Requirement already satisfied: importlab>=0.6.1 in /usr/local/lib/python3.6/dist-packages (from pytype; extra == \"tests\"->stable-baselines3[docs,tests]>=0.11.0a2->sb3-contrib) (0.6.1)\n",
            "Requirement already satisfied: typed-ast in /usr/local/lib/python3.6/dist-packages (from pytype; extra == \"tests\"->stable-baselines3[docs,tests]>=0.11.0a2->sb3-contrib) (1.4.2)\n",
            "Requirement already satisfied: attrs in /usr/local/lib/python3.6/dist-packages (from pytype; extra == \"tests\"->stable-baselines3[docs,tests]>=0.11.0a2->sb3-contrib) (20.3.0)\n",
            "Requirement already satisfied: ninja>=1.10.0.post2 in /usr/local/lib/python3.6/dist-packages (from pytype; extra == \"tests\"->stable-baselines3[docs,tests]>=0.11.0a2->sb3-contrib) (1.10.0.post2)\n",
            "Requirement already satisfied: mccabe<0.7.0,>=0.6.0 in /usr/local/lib/python3.6/dist-packages (from flake8>=3.8; extra == \"tests\"->stable-baselines3[docs,tests]>=0.11.0a2->sb3-contrib) (0.6.1)\n",
            "Requirement already satisfied: pyflakes<2.3.0,>=2.2.0 in /usr/local/lib/python3.6/dist-packages (from flake8>=3.8; extra == \"tests\"->stable-baselines3[docs,tests]>=0.11.0a2->sb3-contrib) (2.2.0)\n",
            "Requirement already satisfied: pycodestyle<2.7.0,>=2.6.0a1 in /usr/local/lib/python3.6/dist-packages (from flake8>=3.8; extra == \"tests\"->stable-baselines3[docs,tests]>=0.11.0a2->sb3-contrib) (2.6.0)\n",
            "Requirement already satisfied: atomicwrites>=1.0 in /usr/local/lib/python3.6/dist-packages (from pytest; extra == \"tests\"->stable-baselines3[docs,tests]>=0.11.0a2->sb3-contrib) (1.4.0)\n",
            "Requirement already satisfied: pluggy<0.8,>=0.5 in /usr/local/lib/python3.6/dist-packages (from pytest; extra == \"tests\"->stable-baselines3[docs,tests]>=0.11.0a2->sb3-contrib) (0.7.1)\n",
            "Requirement already satisfied: more-itertools>=4.0.0 in /usr/local/lib/python3.6/dist-packages (from pytest; extra == \"tests\"->stable-baselines3[docs,tests]>=0.11.0a2->sb3-contrib) (8.6.0)\n",
            "Requirement already satisfied: py>=1.5.0 in /usr/local/lib/python3.6/dist-packages (from pytest; extra == \"tests\"->stable-baselines3[docs,tests]>=0.11.0a2->sb3-contrib) (1.10.0)\n",
            "Requirement already satisfied: click>=7.1.2 in /usr/local/lib/python3.6/dist-packages (from black; extra == \"tests\"->stable-baselines3[docs,tests]>=0.11.0a2->sb3-contrib) (7.1.2)\n",
            "Requirement already satisfied: toml>=0.10.1 in /usr/local/lib/python3.6/dist-packages (from black; extra == \"tests\"->stable-baselines3[docs,tests]>=0.11.0a2->sb3-contrib) (0.10.2)\n",
            "Requirement already satisfied: regex>=2020.1.8 in /usr/local/lib/python3.6/dist-packages (from black; extra == \"tests\"->stable-baselines3[docs,tests]>=0.11.0a2->sb3-contrib) (2020.11.13)\n",
            "Requirement already satisfied: appdirs in /usr/local/lib/python3.6/dist-packages (from black; extra == \"tests\"->stable-baselines3[docs,tests]>=0.11.0a2->sb3-contrib) (1.4.4)\n",
            "Requirement already satisfied: mypy-extensions>=0.4.3 in /usr/local/lib/python3.6/dist-packages (from black; extra == \"tests\"->stable-baselines3[docs,tests]>=0.11.0a2->sb3-contrib) (0.4.3)\n",
            "Requirement already satisfied: pathspec<1,>=0.6 in /usr/local/lib/python3.6/dist-packages (from black; extra == \"tests\"->stable-baselines3[docs,tests]>=0.11.0a2->sb3-contrib) (0.8.1)\n",
            "Requirement already satisfied: zipp>=0.5 in /usr/local/lib/python3.6/dist-packages (from importlib-metadata>=1.7.0; python_version < \"3.8\"->sphinxcontrib.spelling; extra == \"docs\"->stable-baselines3[docs,tests]>=0.11.0a2->sb3-contrib) (3.4.0)\n",
            "Requirement already satisfied: idna<3,>=2.5 in /usr/local/lib/python3.6/dist-packages (from requests>=2.0.0->sphinx; extra == \"docs\"->stable-baselines3[docs,tests]>=0.11.0a2->sb3-contrib) (2.10)\n",
            "Requirement already satisfied: chardet<4,>=3.0.2 in /usr/local/lib/python3.6/dist-packages (from requests>=2.0.0->sphinx; extra == \"docs\"->stable-baselines3[docs,tests]>=0.11.0a2->sb3-contrib) (3.0.4)\n",
            "Requirement already satisfied: certifi>=2017.4.17 in /usr/local/lib/python3.6/dist-packages (from requests>=2.0.0->sphinx; extra == \"docs\"->stable-baselines3[docs,tests]>=0.11.0a2->sb3-contrib) (2020.12.5)\n",
            "Requirement already satisfied: urllib3!=1.25.0,!=1.25.1,<1.26,>=1.21.1 in /usr/local/lib/python3.6/dist-packages (from requests>=2.0.0->sphinx; extra == \"docs\"->stable-baselines3[docs,tests]>=0.11.0a2->sb3-contrib) (1.24.3)\n",
            "Requirement already satisfied: sphinxcontrib-serializinghtml in /usr/local/lib/python3.6/dist-packages (from sphinxcontrib-websupport->sphinx; extra == \"docs\"->stable-baselines3[docs,tests]>=0.11.0a2->sb3-contrib) (1.1.4)\n",
            "Requirement already satisfied: MarkupSafe>=0.23 in /usr/local/lib/python3.6/dist-packages (from Jinja2>=2.3->sphinx; extra == \"docs\"->stable-baselines3[docs,tests]>=0.11.0a2->sb3-contrib) (1.1.1)\n",
            "Requirement already satisfied: tornado; python_version > \"2.7\" in /usr/local/lib/python3.6/dist-packages (from livereload->sphinx-autobuild; extra == \"docs\"->stable-baselines3[docs,tests]>=0.11.0a2->sb3-contrib) (5.1.1)\n",
            "Requirement already satisfied: apipkg>=1.4 in /usr/local/lib/python3.6/dist-packages (from execnet>=1.1->pytest-xdist; extra == \"tests\"->stable-baselines3[docs,tests]>=0.11.0a2->sb3-contrib) (1.5)\n",
            "Requirement already satisfied: networkx>=2 in /usr/local/lib/python3.6/dist-packages (from importlab>=0.6.1->pytype; extra == \"tests\"->stable-baselines3[docs,tests]>=0.11.0a2->sb3-contrib) (2.5)\n",
            "Requirement already satisfied: decorator>=4.3.0 in /usr/local/lib/python3.6/dist-packages (from networkx>=2->importlab>=0.6.1->pytype; extra == \"tests\"->stable-baselines3[docs,tests]>=0.11.0a2->sb3-contrib) (4.4.2)\n",
            "\u001b[31mERROR: sphinxcontrib-spelling 7.1.0 has requirement Sphinx>=3.0.0, but you'll have sphinx 1.8.5 which is incompatible.\u001b[0m\n",
            "Installing collected packages: sphinxcontrib.spelling\n",
            "Successfully installed sphinxcontrib.spelling\n"
          ],
          "name": "stdout"
        }
      ]
    },
    {
      "cell_type": "markdown",
      "metadata": {
        "id": "GPUpOonyoIJH"
      },
      "source": [
        "## Ejecución de un algoritmo de RL"
      ]
    },
    {
      "cell_type": "markdown",
      "metadata": {
        "id": "Morjd1dFoIJH"
      },
      "source": [
        "### Importaciones/inicializaciones"
      ]
    },
    {
      "cell_type": "code",
      "metadata": {
        "id": "OG7i44kqoIJH"
      },
      "source": [
        "import os\n",
        "from subprocess import Popen, PIPE\n",
        "\n",
        "import numpy as np\n",
        "import matplotlib.pyplot as plt\n",
        "\n",
        "import gym\n",
        "from gym import spaces\n",
        "#from gym.envs.registration import register\n",
        "\n",
        "from stable_baselines3 import DQN, PPO\n",
        "from stable_baselines3.common.monitor import Monitor\n",
        "from stable_baselines3.common.vec_env import DummyVecEnv\n",
        "from stable_baselines3.common.callbacks import EvalCallback, StopTrainingOnRewardThreshold\n",
        "from stable_baselines3.common.env_util import make_vec_env\n",
        "\n",
        "os.makedirs('logs', exist_ok=True)\n",
        "\n",
        "try:\n",
        "  import google.colab\n",
        "  IN_COLAB = True\n",
        "except:\n",
        "  IN_COLAB = False\n",
        "\n",
        "cwd = os.getcwd()\n",
        "\n",
        "%matplotlib inline\n",
        "%load_ext tensorboard"
      ],
      "execution_count": 2,
      "outputs": []
    },
    {
      "cell_type": "markdown",
      "metadata": {
        "id": "is2ytf-coIJH"
      },
      "source": [
        "### Ejemplo básico"
      ]
    },
    {
      "cell_type": "code",
      "metadata": {
        "id": "h8SqFh7noIJI",
        "colab": {
          "base_uri": "https://localhost:8080/"
        },
        "outputId": "c4cbde3b-55d3-4ca8-e7cb-64f3d4c8cd34"
      },
      "source": [
        "env = gym.make('CartPole-v1')\n",
        "\n",
        "# MlpPolicy es una política \"estándar\" que aprende con perceptron multicapa\n",
        "# (es decir sin capas convolucionales o demás variantes),\n",
        "# 2 capas ocultas con 64 neuronas cada una\n",
        "model = DQN('MlpPolicy', env)\n",
        "model.learn(total_timesteps=10000)\n"
      ],
      "execution_count": 3,
      "outputs": [
        {
          "output_type": "execute_result",
          "data": {
            "text/plain": [
              "<stable_baselines3.dqn.dqn.DQN at 0x7fa89eccf9b0>"
            ]
          },
          "metadata": {
            "tags": []
          },
          "execution_count": 3
        }
      ]
    },
    {
      "cell_type": "markdown",
      "metadata": {
        "id": "0f5JFC7AoIJK"
      },
      "source": [
        "### Renderización"
      ]
    },
    {
      "cell_type": "code",
      "metadata": {
        "id": "5nIL0TuwoIJK"
      },
      "source": [
        "if not IN_COLAB:\n",
        "\n",
        "    obs = env.reset()\n",
        "    for i in range(1000):\n",
        "        action, _states = model.predict(obs, deterministic=True)\n",
        "        obs, reward, done, info = env.step(action)\n",
        "        env.render()\n",
        "        if done:\n",
        "          obs = env.reset()\n",
        "\n",
        "    env.close()"
      ],
      "execution_count": 4,
      "outputs": []
    },
    {
      "cell_type": "markdown",
      "metadata": {
        "id": "iTtXPFd2oIJK"
      },
      "source": [
        "### Logging"
      ]
    },
    {
      "cell_type": "markdown",
      "metadata": {
        "id": "BFYyMrvboIJK"
      },
      "source": [
        "#### Ver rendimiento del agente en tensorboard"
      ]
    },
    {
      "cell_type": "code",
      "metadata": {
        "id": "pC1hqla2oIJK",
        "colab": {
          "base_uri": "https://localhost:8080/"
        },
        "outputId": "2af49d08-845b-4875-d2ff-0decb7e9bc68"
      },
      "source": [
        "env = gym.make('CartPole-v1')\n",
        "\n",
        "model = DQN('MlpPolicy', env, tensorboard_log='tensorboard/')\n",
        "model.learn(total_timesteps=100000)"
      ],
      "execution_count": 5,
      "outputs": [
        {
          "output_type": "execute_result",
          "data": {
            "text/plain": [
              "<stable_baselines3.dqn.dqn.DQN at 0x7fa847883d68>"
            ]
          },
          "metadata": {
            "tags": []
          },
          "execution_count": 5
        }
      ]
    },
    {
      "cell_type": "markdown",
      "metadata": {
        "id": "rldIL1u4oIJL"
      },
      "source": [
        "Para verlo en tensorboard, correr"
      ]
    },
    {
      "cell_type": "markdown",
      "metadata": {
        "id": "v4Db-mCxoIJL"
      },
      "source": [
        "`tensorboard --logdir=tensorboard/`"
      ]
    },
    {
      "cell_type": "code",
      "metadata": {
        "id": "2AfqEmCWxWFv",
        "outputId": "e9dd9386-16cb-48ea-cce8-0e1eeed5261c",
        "colab": {
          "base_uri": "https://localhost:8080/",
          "height": 17
        }
      },
      "source": [
        "%tensorboard --logdir=tensorboard"
      ],
      "execution_count": 22,
      "outputs": [
        {
          "output_type": "display_data",
          "data": {
            "application/javascript": [
              "\n",
              "        (async () => {\n",
              "            const url = new URL(await google.colab.kernel.proxyPort(6008, {'cache': true}));\n",
              "            url.searchParams.set('tensorboardColab', 'true');\n",
              "            const iframe = document.createElement('iframe');\n",
              "            iframe.src = url;\n",
              "            iframe.setAttribute('width', '100%');\n",
              "            iframe.setAttribute('height', '800');\n",
              "            iframe.setAttribute('frameborder', 0);\n",
              "            document.body.appendChild(iframe);\n",
              "        })();\n",
              "    "
            ],
            "text/plain": [
              "<IPython.core.display.Javascript object>"
            ]
          },
          "metadata": {
            "tags": []
          }
        }
      ]
    },
    {
      "cell_type": "markdown",
      "metadata": {
        "id": "2u0_1dk5oIJL"
      },
      "source": [
        "### Monitor\n",
        "\n",
        "Vamos a crear un monitor para loguear nuestro agente en la carpeta logs. Nuestro monitor guardará datos de recompensa (r), duración (l) y tiempo total (t)"
      ]
    },
    {
      "cell_type": "code",
      "metadata": {
        "id": "r7uF7sQdoIJL",
        "colab": {
          "base_uri": "https://localhost:8080/"
        },
        "outputId": "8559b5b7-81b2-43c5-bf72-082058bd66c1"
      },
      "source": [
        "env = gym.make('CartPole-v1')\n",
        "env = Monitor(env, 'logs/')  # reemplazamos env por su monitor\n",
        "\n",
        "model = DQN('MlpPolicy', env, )\n",
        "model.learn(total_timesteps=10000)"
      ],
      "execution_count": 7,
      "outputs": [
        {
          "output_type": "execute_result",
          "data": {
            "text/plain": [
              "<stable_baselines3.dqn.dqn.DQN at 0x7fa847883518>"
            ]
          },
          "metadata": {
            "tags": []
          },
          "execution_count": 7
        }
      ]
    },
    {
      "cell_type": "markdown",
      "metadata": {
        "id": "4yVVSGjvoIJM"
      },
      "source": [
        "### Callbacks"
      ]
    },
    {
      "cell_type": "code",
      "metadata": {
        "id": "47XdjvaSoIJM",
        "colab": {
          "base_uri": "https://localhost:8080/"
        },
        "outputId": "ca170ec4-8ef0-489d-d48d-d1bf86c613a3"
      },
      "source": [
        "env = gym.make('CartPole-v1')\n",
        "\n",
        "callbacks = []  # lista de callbacks a usar, pueden ser varios\n",
        "\n",
        "# callback para detener entrenamiento al alcanzar recompensa de 9.8\n",
        "# (a fines demostrativos, es una recompensa baja)\n",
        "stop_training_callback = StopTrainingOnRewardThreshold(reward_threshold=9.8)\n",
        "\n",
        "# al crear EvalCallback, se asocia el mismo con stop_training_callback\n",
        "callbacks.append(EvalCallback(env, \n",
        "                              eval_freq=1000,\n",
        "                              callback_on_new_best=stop_training_callback))\n",
        "\n",
        "# la semilla aleatoria hace que las ejecuciones sean estocásticas\n",
        "model = DQN('MlpPolicy', env, seed=42)\n",
        "model.learn(total_timesteps=10000, callback=callbacks)"
      ],
      "execution_count": 8,
      "outputs": [
        {
          "output_type": "stream",
          "text": [
            "/usr/local/lib/python3.6/dist-packages/stable_baselines3/common/evaluation.py:69: UserWarning: Evaluation environment is not wrapped with a ``Monitor`` wrapper. This may result in reporting modified episode lengths and rewards, if other wrappers happen to modify these. Consider wrapping environment first with ``Monitor`` wrapper.\n",
            "  UserWarning,\n"
          ],
          "name": "stderr"
        },
        {
          "output_type": "stream",
          "text": [
            "Eval num_timesteps=1000, episode_reward=9.60 +/- 0.80\n",
            "Episode length: 9.60 +/- 0.80\n",
            "New best mean reward!\n",
            "Eval num_timesteps=2000, episode_reward=9.20 +/- 0.75\n",
            "Episode length: 9.20 +/- 0.75\n",
            "Eval num_timesteps=3000, episode_reward=9.80 +/- 0.75\n",
            "Episode length: 9.80 +/- 0.75\n",
            "New best mean reward!\n"
          ],
          "name": "stdout"
        },
        {
          "output_type": "execute_result",
          "data": {
            "text/plain": [
              "<stable_baselines3.dqn.dqn.DQN at 0x7fa89eccf0b8>"
            ]
          },
          "metadata": {
            "tags": []
          },
          "execution_count": 8
        }
      ]
    },
    {
      "cell_type": "markdown",
      "metadata": {
        "id": "QCPD7oaNoIJM"
      },
      "source": [
        "### Ejecutar agente RL en múltiples ambientes"
      ]
    },
    {
      "cell_type": "markdown",
      "metadata": {
        "id": "PNiTT2AzoIJM"
      },
      "source": [
        "Esta librería provee una interfaz para ejecutar agentes en varias instancias de un mismo entorno a la vez (*vectorized environments*), de modo tal que se habilite la ejecución paralela y de otras funcionalidades útiles.\n",
        "\n",
        "Para ello, varios de sus algoritmos implementan cambios que consideren la posibilidad de que haya múltiples entornos subyacentes, por ejemplo `step(accion)` cambia a `step(lista_acciones)`, aplicando acciones a todos los entornos, recibiendo ahora múltiples observaciones y recompensas.\n",
        "\n",
        "Otro cambio: se aplica `reset()` automáticamente a cada entorno que llega a un estado final."
      ]
    },
    {
      "cell_type": "markdown",
      "metadata": {
        "id": "9GGZjjcDoIJN"
      },
      "source": [
        "SB brinda dos formas de utilizar entornos vectorizados:\n",
        "\n",
        "* DummyVecEnv, el cuál consiste en un *wrapper* de varios entornos, los cuáles funcionarán en un sólo hilo. Este wrapper es útil como entrada de algoritmos que requieren los entornos de esta forma, y habilita los procesamientos y operaciones comunes de los entornos vectorizados (ejemplo: el *stacking* de 4 imágenes en entornos de tipo Atari).\n",
        "* SubprocVecEnv, el cuál agrupa varios entornos que serán ejecutados en paralelo. Atención! **Puede comer mucha RAM**\n",
        "\n",
        "Vemos un ejemplo:"
      ]
    },
    {
      "cell_type": "code",
      "metadata": {
        "id": "ovc6JDmYoIJN",
        "colab": {
          "base_uri": "https://localhost:8080/"
        },
        "outputId": "b6b157a0-7189-48bd-b3b5-8c94d185435d"
      },
      "source": [
        "# ejemplo de ambiente dummy\n",
        "venv = DummyVecEnv([lambda: gym.make('CartPole-v1')]*4)\n",
        "\n",
        "model = PPO('MlpPolicy', venv, )\n",
        "model.learn(total_timesteps=10000)"
      ],
      "execution_count": 9,
      "outputs": [
        {
          "output_type": "execute_result",
          "data": {
            "text/plain": [
              "<stable_baselines3.ppo.ppo.PPO at 0x7fa847883860>"
            ]
          },
          "metadata": {
            "tags": []
          },
          "execution_count": 9
        }
      ]
    },
    {
      "cell_type": "markdown",
      "metadata": {
        "id": "kkadM0S1oIJO"
      },
      "source": [
        "También puede hacerse con un una función de SB a tal efecto"
      ]
    },
    {
      "cell_type": "code",
      "metadata": {
        "id": "wez-ZY_IoIJO",
        "colab": {
          "base_uri": "https://localhost:8080/"
        },
        "outputId": "fc724103-fb66-491e-9ca4-201fab5cad79"
      },
      "source": [
        "venv = make_vec_env(lambda: env, n_envs=4)\n",
        "\n",
        "model = PPO('MlpPolicy', venv, )\n",
        "model.learn(total_timesteps=10000)"
      ],
      "execution_count": 10,
      "outputs": [
        {
          "output_type": "execute_result",
          "data": {
            "text/plain": [
              "<stable_baselines3.ppo.ppo.PPO at 0x7fa847808eb8>"
            ]
          },
          "metadata": {
            "tags": []
          },
          "execution_count": 10
        }
      ]
    },
    {
      "cell_type": "markdown",
      "metadata": {
        "id": "BjH4ZQ4NoIJO"
      },
      "source": [
        "### Ejecutar agente con políticas personalizadas"
      ]
    },
    {
      "cell_type": "code",
      "metadata": {
        "id": "jp_aPhIdoIJO",
        "colab": {
          "base_uri": "https://localhost:8080/"
        },
        "outputId": "f1154672-d18f-474b-a2f1-fbd236493c68"
      },
      "source": [
        "# Creamos una clase con una red neuronal de 128x128 neuronas\n",
        "\n",
        "model = PPO('MlpPolicy', policy_kwargs=dict(net_arch=[128,128]), env='CartPole-v1', verbose=1).learn(total_timesteps=10000)\n",
        "model.learn(total_timesteps=10000)"
      ],
      "execution_count": 11,
      "outputs": [
        {
          "output_type": "stream",
          "text": [
            "Using cpu device\n",
            "Creating environment from the given name 'CartPole-v1'\n",
            "Wrapping the env with a `Monitor` wrapper\n",
            "Wrapping the env in a DummyVecEnv.\n"
          ],
          "name": "stdout"
        },
        {
          "output_type": "execute_result",
          "data": {
            "text/plain": [
              "<stable_baselines3.ppo.ppo.PPO at 0x7fa84781c828>"
            ]
          },
          "metadata": {
            "tags": []
          },
          "execution_count": 11
        }
      ]
    },
    {
      "cell_type": "markdown",
      "metadata": {
        "id": "WbwkBi87oIJO"
      },
      "source": [
        "Utilizar un entorno personalizado\n",
        "\n",
        "Antes que nada, además de la interfaz que ya vimos de Gym, hay otras nociones que tenemos que tener en cuenta en este contexto:\n",
        "\n",
        "* Los entornos definen un espacio de estados y de acciones, a partir de los cuáles los modelos asumen y respetan la \"forma\" de observaciones y acciones. Por ejemplo, algunos algoritmos están diseñados para espacios de acciones discretos (DQN), continuos (DDPG) o bien poseen implementaciones particulares pueden usarse en ambos (PPO, en el repo de SB3). En cuanto a los espacios, algunos algoritmos asumen explícitamente un espacio discreto (y pequeño), como Q-Learning, mientras que otros como PPO asumen cualquier tipo de espacio.\n",
        "* Los dos tipos más comunes de estados o acciones son los espacios discretos `gym.spaces.Discrete` y los continuos `gym.spaces.Box`.\n",
        "* Los espacios discretos definen un conjunto de $n$ estados/acciones $\\{ 0, 1, \\dots, n-1 \\}$, mientras que los espacios continuos definen un espacio $\\mathbb{R}^d$, de una de las siguientes 4 formas: $[a, b], (-\\infty, b], [a, \\infty), (-\\infty, \\infty)$, en donde $a,b$ son las cotas superior e inferior (de existir).\n",
        "* Ejemplos: un espacio de acciones `Discrete(4)` tiene 4 acciones: $\\{0,1,2,3\\}$; un espacio de estados `Discrete(16)` tiene 16 estados. Un espacio de estados ALTURA, ANCHO, N_CANALES que represente una imagen RGB acotada en $[a=0, b=255]$ se puede crear como\n",
        "\n",
        "`observation_space = spaces.Box(low=0, high=255, shape=(HEIGHT, WIDTH, N_CHANNELS), dtype=np.uint8)`"
      ]
    },
    {
      "cell_type": "markdown",
      "metadata": {
        "id": "YFLZieLNoIJO"
      },
      "source": [
        "Para usar un entorno compatible por esta librería, el mismo tiene que heredar de *gym.Env*. Vemos un ejemplo (crédito: https://colab.research.google.com/github/araffin/rl-tutorial-jnrr19/blob/sb3/5_custom_gym_env.ipynb)"
      ]
    },
    {
      "cell_type": "markdown",
      "metadata": {
        "id": "HUpenYzuoIJO"
      },
      "source": [
        "**TODO translate below**"
      ]
    },
    {
      "cell_type": "code",
      "metadata": {
        "id": "str0v6DUoIJO"
      },
      "source": [
        "class GoLeftEnv(gym.Env):\n",
        "  \"\"\"\n",
        "  Custom Environment that follows gym interface.\n",
        "  This is a simple env where the agent must learn to go always left. \n",
        "  \"\"\"\n",
        "  # Because of google colab, we cannot implement the GUI ('human' render mode)\n",
        "  metadata = {'render.modes': ['console']}\n",
        "  # Define constants for clearer code\n",
        "  LEFT = 0\n",
        "  RIGHT = 1\n",
        "\n",
        "  def __init__(self, grid_size=10):\n",
        "    super(GoLeftEnv, self).__init__()\n",
        "\n",
        "    # Size of the 1D-grid\n",
        "    self.grid_size = grid_size\n",
        "    # Initialize the agent at the right of the grid\n",
        "    self.agent_pos = grid_size - 1\n",
        "\n",
        "    # Define action and observation space\n",
        "    # They must be gym.spaces objects\n",
        "    # Example when using discrete actions, we have two: left and right\n",
        "    n_actions = 2\n",
        "    self.action_space = spaces.Discrete(n_actions)\n",
        "    # The observation will be the coordinate of the agent\n",
        "    # this can be described both by Discrete and Box space\n",
        "    self.observation_space = spaces.Box(low=0, high=self.grid_size,\n",
        "                                        shape=(1,), dtype=np.float32)\n",
        "\n",
        "  def reset(self):\n",
        "    \"\"\"\n",
        "    Important: the observation must be a numpy array\n",
        "    :return: (np.array) \n",
        "    \"\"\"\n",
        "    # Initialize the agent at the right of the grid\n",
        "    self.agent_pos = self.grid_size - 1\n",
        "    # here we convert to float32 to make it more general (in case we want to use continuous actions)\n",
        "    return np.array([self.agent_pos]).astype(np.float32)\n",
        "\n",
        "  def step(self, action):\n",
        "    if action == self.LEFT:\n",
        "      self.agent_pos -= 1\n",
        "    elif action == self.RIGHT:\n",
        "      self.agent_pos += 1\n",
        "    else:\n",
        "      raise ValueError(\"Received invalid action={} which is not part of the action space\".format(action))\n",
        "\n",
        "    # Account for the boundaries of the grid\n",
        "    self.agent_pos = np.clip(self.agent_pos, 0, self.grid_size)\n",
        "\n",
        "    # Are we at the left of the grid?\n",
        "    done = bool(self.agent_pos == 0)\n",
        "\n",
        "    # Null reward everywhere except when reaching the goal (left of the grid)\n",
        "    reward = 1 if self.agent_pos == 0 else 0\n",
        "\n",
        "    # Optionally we can pass additional info, we are not using that for now\n",
        "    info = {}\n",
        "\n",
        "    return np.array([self.agent_pos]).astype(np.float32), reward, done, info\n",
        "\n",
        "  def render(self, mode='console'):\n",
        "    if mode != 'console':\n",
        "      raise NotImplementedError()\n",
        "    # agent is represented as a cross, rest as a dot\n",
        "    print(\".\" * self.agent_pos, end=\"\")\n",
        "    print(\"x\", end=\"\")\n",
        "    print(\".\" * (self.grid_size - self.agent_pos))\n",
        "\n",
        "  def close(self):\n",
        "    pass"
      ],
      "execution_count": 12,
      "outputs": []
    },
    {
      "cell_type": "code",
      "metadata": {
        "id": "flB9-j1SoIJP",
        "colab": {
          "base_uri": "https://localhost:8080/"
        },
        "outputId": "45676846-0335-4dbf-c5b6-72ec77cbc495"
      },
      "source": [
        "env = GoLeftEnv(grid_size=10)\n",
        "env = make_vec_env(lambda: env, n_envs=1)\n",
        "\n",
        "model = PPO('MlpPolicy', env, verbose=1).learn(5000)"
      ],
      "execution_count": 13,
      "outputs": [
        {
          "output_type": "stream",
          "text": [
            "Using cpu device\n"
          ],
          "name": "stdout"
        }
      ]
    },
    {
      "cell_type": "markdown",
      "metadata": {
        "id": "lCQE1QoNoIJQ"
      },
      "source": [
        "Ejercicio: extender este entorno. Algunas ideas:\n",
        "\n",
        "* Transformarlo en una grilla 2D, añadir paredes /trampas / agua.\n",
        "* **TODO**"
      ]
    },
    {
      "cell_type": "markdown",
      "metadata": {
        "id": "exel4Gr8oIJQ"
      },
      "source": [
        "# RL-baselines zoo\n",
        "\n",
        "Colección de agentes RL y herramientas útiles para ejecutarlos, evaluarlos e incluso hacer videos con ellos. Los agentes de este repo están preparados con la configuración requerida para los distintos tipos de entornos, incluyendo Atari, PyBullet y entornos clásicos, incluyendo configuraciones e híper-parámetros que producen buenas políticas para tales entornos.\n",
        "\n",
        "Esta librería ofrece un muy buen punto de partida para utilizar agentes / entornos personalizados, ya que ofrece una [interfaz](https://github.com/DLR-RM/rl-baselines3-zoo/blob/master/train.py) fácilmente adaptable a nuestras necesidades."
      ]
    },
    {
      "cell_type": "markdown",
      "metadata": {
        "id": "uUUkScRxoIJQ"
      },
      "source": [
        "## Instalación"
      ]
    },
    {
      "cell_type": "markdown",
      "metadata": {
        "id": "hiKPJUfdoIJQ"
      },
      "source": [
        "Desde Google Colab"
      ]
    },
    {
      "cell_type": "code",
      "metadata": {
        "id": "ZM_pM0mIoIJQ",
        "colab": {
          "base_uri": "https://localhost:8080/"
        },
        "outputId": "1b57ac02-0f67-4ccf-c91f-4700749e0399"
      },
      "source": [
        "if IN_COLAB:\n",
        "    !git clone --recursive https://github.com/DLR-RM/rl-baselines3-zoo\n",
        "    !cd rl-baselines3-zoo/\n",
        "    !apt-get install swig cmake ffmpeg\n",
        "    !pip install -r /content/rl-baselines3-zoo/requirements.txt"
      ],
      "execution_count": 14,
      "outputs": [
        {
          "output_type": "stream",
          "text": [
            "fatal: destination path 'rl-baselines3-zoo' already exists and is not an empty directory.\n",
            "Reading package lists... Done\n",
            "Building dependency tree       \n",
            "Reading state information... Done\n",
            "swig is already the newest version (3.0.12-1).\n",
            "cmake is already the newest version (3.10.2-1ubuntu2.18.04.1).\n",
            "ffmpeg is already the newest version (7:3.4.8-0ubuntu0.2).\n",
            "0 upgraded, 0 newly installed, 0 to remove and 13 not upgraded.\n",
            "Requirement already satisfied: stable-baselines3[docs,extra,tests]>=0.11.0a4 in /usr/local/lib/python3.6/dist-packages (from -r /content/rl-baselines3-zoo/requirements.txt (line 1)) (0.11.0a4)\n",
            "Requirement already satisfied: box2d-py==2.3.8 in /usr/local/lib/python3.6/dist-packages (from -r /content/rl-baselines3-zoo/requirements.txt (line 2)) (2.3.8)\n",
            "Requirement already satisfied: pybullet in /usr/local/lib/python3.6/dist-packages (from -r /content/rl-baselines3-zoo/requirements.txt (line 3)) (3.0.8)\n",
            "Requirement already satisfied: gym-minigrid in /usr/local/lib/python3.6/dist-packages (from -r /content/rl-baselines3-zoo/requirements.txt (line 4)) (1.0.2)\n",
            "Requirement already satisfied: scikit-optimize in /usr/local/lib/python3.6/dist-packages (from -r /content/rl-baselines3-zoo/requirements.txt (line 5)) (0.8.1)\n",
            "Requirement already satisfied: optuna in /usr/local/lib/python3.6/dist-packages (from -r /content/rl-baselines3-zoo/requirements.txt (line 6)) (2.4.0)\n",
            "Requirement already satisfied: pytablewriter in /usr/local/lib/python3.6/dist-packages (from -r /content/rl-baselines3-zoo/requirements.txt (line 7)) (0.58.0)\n",
            "Requirement already satisfied: seaborn in /usr/local/lib/python3.6/dist-packages (from -r /content/rl-baselines3-zoo/requirements.txt (line 8)) (0.11.1)\n",
            "Requirement already satisfied: pyyaml>=5.1 in /usr/local/lib/python3.6/dist-packages (from -r /content/rl-baselines3-zoo/requirements.txt (line 9)) (5.4.1)\n",
            "Requirement already satisfied: sb3-contrib>=0.11.0a4 in /usr/local/lib/python3.6/dist-packages (from -r /content/rl-baselines3-zoo/requirements.txt (line 10)) (0.11.0a5)\n",
            "Requirement already satisfied: cloudpickle in /usr/local/lib/python3.6/dist-packages (from stable-baselines3[docs,extra,tests]>=0.11.0a4->-r /content/rl-baselines3-zoo/requirements.txt (line 1)) (1.3.0)\n",
            "Requirement already satisfied: torch>=1.4.0 in /usr/local/lib/python3.6/dist-packages (from stable-baselines3[docs,extra,tests]>=0.11.0a4->-r /content/rl-baselines3-zoo/requirements.txt (line 1)) (1.7.0+cu101)\n",
            "Requirement already satisfied: numpy in /usr/local/lib/python3.6/dist-packages (from stable-baselines3[docs,extra,tests]>=0.11.0a4->-r /content/rl-baselines3-zoo/requirements.txt (line 1)) (1.19.5)\n",
            "Requirement already satisfied: gym>=0.17 in /usr/local/lib/python3.6/dist-packages (from stable-baselines3[docs,extra,tests]>=0.11.0a4->-r /content/rl-baselines3-zoo/requirements.txt (line 1)) (0.17.3)\n",
            "Requirement already satisfied: matplotlib in /usr/local/lib/python3.6/dist-packages (from stable-baselines3[docs,extra,tests]>=0.11.0a4->-r /content/rl-baselines3-zoo/requirements.txt (line 1)) (3.2.2)\n",
            "Requirement already satisfied: pandas in /usr/local/lib/python3.6/dist-packages (from stable-baselines3[docs,extra,tests]>=0.11.0a4->-r /content/rl-baselines3-zoo/requirements.txt (line 1)) (1.1.5)\n",
            "Requirement already satisfied: sphinx-autodoc-typehints; extra == \"docs\" in /usr/local/lib/python3.6/dist-packages (from stable-baselines3[docs,extra,tests]>=0.11.0a4->-r /content/rl-baselines3-zoo/requirements.txt (line 1)) (1.11.1)\n",
            "Collecting sphinxcontrib.spelling; extra == \"docs\"\n",
            "  Using cached https://files.pythonhosted.org/packages/f6/62/796d8ae02732c162f8d53406f520c9f3c886a9ab24de4ef6995404c2b1d8/sphinxcontrib_spelling-7.1.0-py3-none-any.whl\n",
            "Requirement already satisfied: sphinx-autobuild; extra == \"docs\" in /usr/local/lib/python3.6/dist-packages (from stable-baselines3[docs,extra,tests]>=0.11.0a4->-r /content/rl-baselines3-zoo/requirements.txt (line 1)) (2020.9.1)\n",
            "Requirement already satisfied: sphinx; extra == \"docs\" in /usr/local/lib/python3.6/dist-packages (from stable-baselines3[docs,extra,tests]>=0.11.0a4->-r /content/rl-baselines3-zoo/requirements.txt (line 1)) (1.8.5)\n",
            "Requirement already satisfied: sphinx-rtd-theme; extra == \"docs\" in /usr/local/lib/python3.6/dist-packages (from stable-baselines3[docs,extra,tests]>=0.11.0a4->-r /content/rl-baselines3-zoo/requirements.txt (line 1)) (0.5.1)\n",
            "Requirement already satisfied: opencv-python; extra == \"extra\" in /usr/local/lib/python3.6/dist-packages (from stable-baselines3[docs,extra,tests]>=0.11.0a4->-r /content/rl-baselines3-zoo/requirements.txt (line 1)) (4.1.2.30)\n",
            "Requirement already satisfied: psutil; extra == \"extra\" in /usr/local/lib/python3.6/dist-packages (from stable-baselines3[docs,extra,tests]>=0.11.0a4->-r /content/rl-baselines3-zoo/requirements.txt (line 1)) (5.4.8)\n",
            "Requirement already satisfied: pillow; extra == \"extra\" in /usr/local/lib/python3.6/dist-packages (from stable-baselines3[docs,extra,tests]>=0.11.0a4->-r /content/rl-baselines3-zoo/requirements.txt (line 1)) (7.0.0)\n",
            "Requirement already satisfied: atari-py~=0.2.0; extra == \"extra\" in /usr/local/lib/python3.6/dist-packages (from stable-baselines3[docs,extra,tests]>=0.11.0a4->-r /content/rl-baselines3-zoo/requirements.txt (line 1)) (0.2.6)\n",
            "Requirement already satisfied: tensorboard>=2.2.0; extra == \"extra\" in /usr/local/lib/python3.6/dist-packages (from stable-baselines3[docs,extra,tests]>=0.11.0a4->-r /content/rl-baselines3-zoo/requirements.txt (line 1)) (2.4.0)\n",
            "Requirement already satisfied: pytest; extra == \"tests\" in /usr/local/lib/python3.6/dist-packages (from stable-baselines3[docs,extra,tests]>=0.11.0a4->-r /content/rl-baselines3-zoo/requirements.txt (line 1)) (3.6.4)\n",
            "Requirement already satisfied: pytest-cov; extra == \"tests\" in /usr/local/lib/python3.6/dist-packages (from stable-baselines3[docs,extra,tests]>=0.11.0a4->-r /content/rl-baselines3-zoo/requirements.txt (line 1)) (2.11.1)\n",
            "Requirement already satisfied: isort>=5.0; extra == \"tests\" in /usr/local/lib/python3.6/dist-packages (from stable-baselines3[docs,extra,tests]>=0.11.0a4->-r /content/rl-baselines3-zoo/requirements.txt (line 1)) (5.7.0)\n",
            "Requirement already satisfied: pytype; extra == \"tests\" in /usr/local/lib/python3.6/dist-packages (from stable-baselines3[docs,extra,tests]>=0.11.0a4->-r /content/rl-baselines3-zoo/requirements.txt (line 1)) (2021.1.21)\n",
            "Requirement already satisfied: pytest-xdist; extra == \"tests\" in /usr/local/lib/python3.6/dist-packages (from stable-baselines3[docs,extra,tests]>=0.11.0a4->-r /content/rl-baselines3-zoo/requirements.txt (line 1)) (2.2.0)\n",
            "Requirement already satisfied: black; extra == \"tests\" in /usr/local/lib/python3.6/dist-packages (from stable-baselines3[docs,extra,tests]>=0.11.0a4->-r /content/rl-baselines3-zoo/requirements.txt (line 1)) (20.8b1)\n",
            "Requirement already satisfied: pytest-env; extra == \"tests\" in /usr/local/lib/python3.6/dist-packages (from stable-baselines3[docs,extra,tests]>=0.11.0a4->-r /content/rl-baselines3-zoo/requirements.txt (line 1)) (0.6.2)\n",
            "Requirement already satisfied: flake8>=3.8; extra == \"tests\" in /usr/local/lib/python3.6/dist-packages (from stable-baselines3[docs,extra,tests]>=0.11.0a4->-r /content/rl-baselines3-zoo/requirements.txt (line 1)) (3.8.4)\n",
            "Requirement already satisfied: pyaml>=16.9 in /usr/local/lib/python3.6/dist-packages (from scikit-optimize->-r /content/rl-baselines3-zoo/requirements.txt (line 5)) (20.4.0)\n",
            "Requirement already satisfied: scipy>=0.19.1 in /usr/local/lib/python3.6/dist-packages (from scikit-optimize->-r /content/rl-baselines3-zoo/requirements.txt (line 5)) (1.4.1)\n",
            "Requirement already satisfied: joblib>=0.11 in /usr/local/lib/python3.6/dist-packages (from scikit-optimize->-r /content/rl-baselines3-zoo/requirements.txt (line 5)) (1.0.0)\n",
            "Requirement already satisfied: scikit-learn>=0.20.0 in /usr/local/lib/python3.6/dist-packages (from scikit-optimize->-r /content/rl-baselines3-zoo/requirements.txt (line 5)) (0.22.2.post1)\n",
            "Requirement already satisfied: packaging>=20.0 in /usr/local/lib/python3.6/dist-packages (from optuna->-r /content/rl-baselines3-zoo/requirements.txt (line 6)) (20.8)\n",
            "Requirement already satisfied: cliff in /usr/local/lib/python3.6/dist-packages (from optuna->-r /content/rl-baselines3-zoo/requirements.txt (line 6)) (3.6.0)\n",
            "Requirement already satisfied: tqdm in /usr/local/lib/python3.6/dist-packages (from optuna->-r /content/rl-baselines3-zoo/requirements.txt (line 6)) (4.41.1)\n",
            "Requirement already satisfied: cmaes>=0.6.0 in /usr/local/lib/python3.6/dist-packages (from optuna->-r /content/rl-baselines3-zoo/requirements.txt (line 6)) (0.7.0)\n",
            "Requirement already satisfied: sqlalchemy>=1.1.0 in /usr/local/lib/python3.6/dist-packages (from optuna->-r /content/rl-baselines3-zoo/requirements.txt (line 6)) (1.3.22)\n",
            "Requirement already satisfied: alembic in /usr/local/lib/python3.6/dist-packages (from optuna->-r /content/rl-baselines3-zoo/requirements.txt (line 6)) (1.5.2)\n",
            "Requirement already satisfied: colorlog in /usr/local/lib/python3.6/dist-packages (from optuna->-r /content/rl-baselines3-zoo/requirements.txt (line 6)) (4.7.2)\n",
            "Requirement already satisfied: tcolorpy<1,>=0.0.5 in /usr/local/lib/python3.6/dist-packages (from pytablewriter->-r /content/rl-baselines3-zoo/requirements.txt (line 7)) (0.0.8)\n",
            "Requirement already satisfied: typepy[datetime]<2,>=1.1.1 in /usr/local/lib/python3.6/dist-packages (from pytablewriter->-r /content/rl-baselines3-zoo/requirements.txt (line 7)) (1.1.2)\n",
            "Requirement already satisfied: setuptools>=38.3.0 in /usr/local/lib/python3.6/dist-packages (from pytablewriter->-r /content/rl-baselines3-zoo/requirements.txt (line 7)) (51.3.3)\n",
            "Requirement already satisfied: mbstrdecoder<2,>=1.0.0 in /usr/local/lib/python3.6/dist-packages (from pytablewriter->-r /content/rl-baselines3-zoo/requirements.txt (line 7)) (1.0.1)\n",
            "Requirement already satisfied: DataProperty<2,>=0.50.0 in /usr/local/lib/python3.6/dist-packages (from pytablewriter->-r /content/rl-baselines3-zoo/requirements.txt (line 7)) (0.50.0)\n",
            "Requirement already satisfied: tabledata<2,>=1.1.3 in /usr/local/lib/python3.6/dist-packages (from pytablewriter->-r /content/rl-baselines3-zoo/requirements.txt (line 7)) (1.1.3)\n",
            "Requirement already satisfied: pathvalidate<3,>=2.3.0 in /usr/local/lib/python3.6/dist-packages (from pytablewriter->-r /content/rl-baselines3-zoo/requirements.txt (line 7)) (2.3.2)\n",
            "Requirement already satisfied: msgfy<1,>=0.1.0 in /usr/local/lib/python3.6/dist-packages (from pytablewriter->-r /content/rl-baselines3-zoo/requirements.txt (line 7)) (0.1.0)\n",
            "Requirement already satisfied: dataclasses in /usr/local/lib/python3.6/dist-packages (from torch>=1.4.0->stable-baselines3[docs,extra,tests]>=0.11.0a4->-r /content/rl-baselines3-zoo/requirements.txt (line 1)) (0.8)\n",
            "Requirement already satisfied: typing-extensions in /usr/local/lib/python3.6/dist-packages (from torch>=1.4.0->stable-baselines3[docs,extra,tests]>=0.11.0a4->-r /content/rl-baselines3-zoo/requirements.txt (line 1)) (3.7.4.3)\n",
            "Requirement already satisfied: future in /usr/local/lib/python3.6/dist-packages (from torch>=1.4.0->stable-baselines3[docs,extra,tests]>=0.11.0a4->-r /content/rl-baselines3-zoo/requirements.txt (line 1)) (0.16.0)\n",
            "Requirement already satisfied: pyglet<=1.5.0,>=1.4.0 in /usr/local/lib/python3.6/dist-packages (from gym>=0.17->stable-baselines3[docs,extra,tests]>=0.11.0a4->-r /content/rl-baselines3-zoo/requirements.txt (line 1)) (1.5.0)\n",
            "Requirement already satisfied: cycler>=0.10 in /usr/local/lib/python3.6/dist-packages (from matplotlib->stable-baselines3[docs,extra,tests]>=0.11.0a4->-r /content/rl-baselines3-zoo/requirements.txt (line 1)) (0.10.0)\n",
            "Requirement already satisfied: pyparsing!=2.0.4,!=2.1.2,!=2.1.6,>=2.0.1 in /usr/local/lib/python3.6/dist-packages (from matplotlib->stable-baselines3[docs,extra,tests]>=0.11.0a4->-r /content/rl-baselines3-zoo/requirements.txt (line 1)) (2.4.7)\n",
            "Requirement already satisfied: python-dateutil>=2.1 in /usr/local/lib/python3.6/dist-packages (from matplotlib->stable-baselines3[docs,extra,tests]>=0.11.0a4->-r /content/rl-baselines3-zoo/requirements.txt (line 1)) (2.8.1)\n",
            "Requirement already satisfied: kiwisolver>=1.0.1 in /usr/local/lib/python3.6/dist-packages (from matplotlib->stable-baselines3[docs,extra,tests]>=0.11.0a4->-r /content/rl-baselines3-zoo/requirements.txt (line 1)) (1.3.1)\n",
            "Requirement already satisfied: pytz>=2017.2 in /usr/local/lib/python3.6/dist-packages (from pandas->stable-baselines3[docs,extra,tests]>=0.11.0a4->-r /content/rl-baselines3-zoo/requirements.txt (line 1)) (2018.9)\n",
            "Requirement already satisfied: importlib-metadata>=1.7.0; python_version < \"3.8\" in /usr/local/lib/python3.6/dist-packages (from sphinxcontrib.spelling; extra == \"docs\"->stable-baselines3[docs,extra,tests]>=0.11.0a4->-r /content/rl-baselines3-zoo/requirements.txt (line 1)) (3.3.0)\n",
            "Requirement already satisfied: PyEnchant>=3.1.1 in /usr/local/lib/python3.6/dist-packages (from sphinxcontrib.spelling; extra == \"docs\"->stable-baselines3[docs,extra,tests]>=0.11.0a4->-r /content/rl-baselines3-zoo/requirements.txt (line 1)) (3.2.0)\n",
            "Requirement already satisfied: livereload in /usr/local/lib/python3.6/dist-packages (from sphinx-autobuild; extra == \"docs\"->stable-baselines3[docs,extra,tests]>=0.11.0a4->-r /content/rl-baselines3-zoo/requirements.txt (line 1)) (2.6.3)\n",
            "Requirement already satisfied: Pygments>=2.0 in /usr/local/lib/python3.6/dist-packages (from sphinx; extra == \"docs\"->stable-baselines3[docs,extra,tests]>=0.11.0a4->-r /content/rl-baselines3-zoo/requirements.txt (line 1)) (2.6.1)\n",
            "Requirement already satisfied: babel!=2.0,>=1.3 in /usr/local/lib/python3.6/dist-packages (from sphinx; extra == \"docs\"->stable-baselines3[docs,extra,tests]>=0.11.0a4->-r /content/rl-baselines3-zoo/requirements.txt (line 1)) (2.9.0)\n",
            "Requirement already satisfied: imagesize in /usr/local/lib/python3.6/dist-packages (from sphinx; extra == \"docs\"->stable-baselines3[docs,extra,tests]>=0.11.0a4->-r /content/rl-baselines3-zoo/requirements.txt (line 1)) (1.2.0)\n",
            "Requirement already satisfied: six>=1.5 in /usr/local/lib/python3.6/dist-packages (from sphinx; extra == \"docs\"->stable-baselines3[docs,extra,tests]>=0.11.0a4->-r /content/rl-baselines3-zoo/requirements.txt (line 1)) (1.15.0)\n",
            "Requirement already satisfied: docutils>=0.11 in /usr/local/lib/python3.6/dist-packages (from sphinx; extra == \"docs\"->stable-baselines3[docs,extra,tests]>=0.11.0a4->-r /content/rl-baselines3-zoo/requirements.txt (line 1)) (0.16)\n",
            "Requirement already satisfied: sphinxcontrib-websupport in /usr/local/lib/python3.6/dist-packages (from sphinx; extra == \"docs\"->stable-baselines3[docs,extra,tests]>=0.11.0a4->-r /content/rl-baselines3-zoo/requirements.txt (line 1)) (1.2.4)\n",
            "Requirement already satisfied: snowballstemmer>=1.1 in /usr/local/lib/python3.6/dist-packages (from sphinx; extra == \"docs\"->stable-baselines3[docs,extra,tests]>=0.11.0a4->-r /content/rl-baselines3-zoo/requirements.txt (line 1)) (2.0.0)\n",
            "Requirement already satisfied: Jinja2>=2.3 in /usr/local/lib/python3.6/dist-packages (from sphinx; extra == \"docs\"->stable-baselines3[docs,extra,tests]>=0.11.0a4->-r /content/rl-baselines3-zoo/requirements.txt (line 1)) (2.11.2)\n",
            "Requirement already satisfied: alabaster<0.8,>=0.7 in /usr/local/lib/python3.6/dist-packages (from sphinx; extra == \"docs\"->stable-baselines3[docs,extra,tests]>=0.11.0a4->-r /content/rl-baselines3-zoo/requirements.txt (line 1)) (0.7.12)\n",
            "Requirement already satisfied: requests>=2.0.0 in /usr/local/lib/python3.6/dist-packages (from sphinx; extra == \"docs\"->stable-baselines3[docs,extra,tests]>=0.11.0a4->-r /content/rl-baselines3-zoo/requirements.txt (line 1)) (2.23.0)\n",
            "Requirement already satisfied: tensorboard-plugin-wit>=1.6.0 in /usr/local/lib/python3.6/dist-packages (from tensorboard>=2.2.0; extra == \"extra\"->stable-baselines3[docs,extra,tests]>=0.11.0a4->-r /content/rl-baselines3-zoo/requirements.txt (line 1)) (1.7.0)\n",
            "Requirement already satisfied: google-auth<2,>=1.6.3 in /usr/local/lib/python3.6/dist-packages (from tensorboard>=2.2.0; extra == \"extra\"->stable-baselines3[docs,extra,tests]>=0.11.0a4->-r /content/rl-baselines3-zoo/requirements.txt (line 1)) (1.17.2)\n",
            "Requirement already satisfied: protobuf>=3.6.0 in /usr/local/lib/python3.6/dist-packages (from tensorboard>=2.2.0; extra == \"extra\"->stable-baselines3[docs,extra,tests]>=0.11.0a4->-r /content/rl-baselines3-zoo/requirements.txt (line 1)) (3.12.4)\n",
            "Requirement already satisfied: wheel>=0.26; python_version >= \"3\" in /usr/local/lib/python3.6/dist-packages (from tensorboard>=2.2.0; extra == \"extra\"->stable-baselines3[docs,extra,tests]>=0.11.0a4->-r /content/rl-baselines3-zoo/requirements.txt (line 1)) (0.36.2)\n",
            "Requirement already satisfied: google-auth-oauthlib<0.5,>=0.4.1 in /usr/local/lib/python3.6/dist-packages (from tensorboard>=2.2.0; extra == \"extra\"->stable-baselines3[docs,extra,tests]>=0.11.0a4->-r /content/rl-baselines3-zoo/requirements.txt (line 1)) (0.4.2)\n",
            "Requirement already satisfied: werkzeug>=0.11.15 in /usr/local/lib/python3.6/dist-packages (from tensorboard>=2.2.0; extra == \"extra\"->stable-baselines3[docs,extra,tests]>=0.11.0a4->-r /content/rl-baselines3-zoo/requirements.txt (line 1)) (1.0.1)\n",
            "Requirement already satisfied: grpcio>=1.24.3 in /usr/local/lib/python3.6/dist-packages (from tensorboard>=2.2.0; extra == \"extra\"->stable-baselines3[docs,extra,tests]>=0.11.0a4->-r /content/rl-baselines3-zoo/requirements.txt (line 1)) (1.32.0)\n",
            "Requirement already satisfied: markdown>=2.6.8 in /usr/local/lib/python3.6/dist-packages (from tensorboard>=2.2.0; extra == \"extra\"->stable-baselines3[docs,extra,tests]>=0.11.0a4->-r /content/rl-baselines3-zoo/requirements.txt (line 1)) (3.3.3)\n",
            "Requirement already satisfied: absl-py>=0.4 in /usr/local/lib/python3.6/dist-packages (from tensorboard>=2.2.0; extra == \"extra\"->stable-baselines3[docs,extra,tests]>=0.11.0a4->-r /content/rl-baselines3-zoo/requirements.txt (line 1)) (0.10.0)\n",
            "Requirement already satisfied: pluggy<0.8,>=0.5 in /usr/local/lib/python3.6/dist-packages (from pytest; extra == \"tests\"->stable-baselines3[docs,extra,tests]>=0.11.0a4->-r /content/rl-baselines3-zoo/requirements.txt (line 1)) (0.7.1)\n",
            "Requirement already satisfied: attrs>=17.4.0 in /usr/local/lib/python3.6/dist-packages (from pytest; extra == \"tests\"->stable-baselines3[docs,extra,tests]>=0.11.0a4->-r /content/rl-baselines3-zoo/requirements.txt (line 1)) (20.3.0)\n",
            "Requirement already satisfied: atomicwrites>=1.0 in /usr/local/lib/python3.6/dist-packages (from pytest; extra == \"tests\"->stable-baselines3[docs,extra,tests]>=0.11.0a4->-r /content/rl-baselines3-zoo/requirements.txt (line 1)) (1.4.0)\n",
            "Requirement already satisfied: py>=1.5.0 in /usr/local/lib/python3.6/dist-packages (from pytest; extra == \"tests\"->stable-baselines3[docs,extra,tests]>=0.11.0a4->-r /content/rl-baselines3-zoo/requirements.txt (line 1)) (1.10.0)\n",
            "Requirement already satisfied: more-itertools>=4.0.0 in /usr/local/lib/python3.6/dist-packages (from pytest; extra == \"tests\"->stable-baselines3[docs,extra,tests]>=0.11.0a4->-r /content/rl-baselines3-zoo/requirements.txt (line 1)) (8.6.0)\n",
            "Requirement already satisfied: coverage>=5.2.1 in /usr/local/lib/python3.6/dist-packages (from pytest-cov; extra == \"tests\"->stable-baselines3[docs,extra,tests]>=0.11.0a4->-r /content/rl-baselines3-zoo/requirements.txt (line 1)) (5.4)\n",
            "Requirement already satisfied: importlab>=0.6.1 in /usr/local/lib/python3.6/dist-packages (from pytype; extra == \"tests\"->stable-baselines3[docs,extra,tests]>=0.11.0a4->-r /content/rl-baselines3-zoo/requirements.txt (line 1)) (0.6.1)\n",
            "Requirement already satisfied: ninja>=1.10.0.post2 in /usr/local/lib/python3.6/dist-packages (from pytype; extra == \"tests\"->stable-baselines3[docs,extra,tests]>=0.11.0a4->-r /content/rl-baselines3-zoo/requirements.txt (line 1)) (1.10.0.post2)\n",
            "Requirement already satisfied: typed-ast in /usr/local/lib/python3.6/dist-packages (from pytype; extra == \"tests\"->stable-baselines3[docs,extra,tests]>=0.11.0a4->-r /content/rl-baselines3-zoo/requirements.txt (line 1)) (1.4.2)\n",
            "Requirement already satisfied: execnet>=1.1 in /usr/local/lib/python3.6/dist-packages (from pytest-xdist; extra == \"tests\"->stable-baselines3[docs,extra,tests]>=0.11.0a4->-r /content/rl-baselines3-zoo/requirements.txt (line 1)) (1.8.0)\n",
            "Requirement already satisfied: pytest-forked in /usr/local/lib/python3.6/dist-packages (from pytest-xdist; extra == \"tests\"->stable-baselines3[docs,extra,tests]>=0.11.0a4->-r /content/rl-baselines3-zoo/requirements.txt (line 1)) (1.3.0)\n",
            "Requirement already satisfied: toml>=0.10.1 in /usr/local/lib/python3.6/dist-packages (from black; extra == \"tests\"->stable-baselines3[docs,extra,tests]>=0.11.0a4->-r /content/rl-baselines3-zoo/requirements.txt (line 1)) (0.10.2)\n",
            "Requirement already satisfied: appdirs in /usr/local/lib/python3.6/dist-packages (from black; extra == \"tests\"->stable-baselines3[docs,extra,tests]>=0.11.0a4->-r /content/rl-baselines3-zoo/requirements.txt (line 1)) (1.4.4)\n",
            "Requirement already satisfied: click>=7.1.2 in /usr/local/lib/python3.6/dist-packages (from black; extra == \"tests\"->stable-baselines3[docs,extra,tests]>=0.11.0a4->-r /content/rl-baselines3-zoo/requirements.txt (line 1)) (7.1.2)\n",
            "Requirement already satisfied: mypy-extensions>=0.4.3 in /usr/local/lib/python3.6/dist-packages (from black; extra == \"tests\"->stable-baselines3[docs,extra,tests]>=0.11.0a4->-r /content/rl-baselines3-zoo/requirements.txt (line 1)) (0.4.3)\n",
            "Requirement already satisfied: pathspec<1,>=0.6 in /usr/local/lib/python3.6/dist-packages (from black; extra == \"tests\"->stable-baselines3[docs,extra,tests]>=0.11.0a4->-r /content/rl-baselines3-zoo/requirements.txt (line 1)) (0.8.1)\n",
            "Requirement already satisfied: regex>=2020.1.8 in /usr/local/lib/python3.6/dist-packages (from black; extra == \"tests\"->stable-baselines3[docs,extra,tests]>=0.11.0a4->-r /content/rl-baselines3-zoo/requirements.txt (line 1)) (2020.11.13)\n",
            "Requirement already satisfied: pycodestyle<2.7.0,>=2.6.0a1 in /usr/local/lib/python3.6/dist-packages (from flake8>=3.8; extra == \"tests\"->stable-baselines3[docs,extra,tests]>=0.11.0a4->-r /content/rl-baselines3-zoo/requirements.txt (line 1)) (2.6.0)\n",
            "Requirement already satisfied: pyflakes<2.3.0,>=2.2.0 in /usr/local/lib/python3.6/dist-packages (from flake8>=3.8; extra == \"tests\"->stable-baselines3[docs,extra,tests]>=0.11.0a4->-r /content/rl-baselines3-zoo/requirements.txt (line 1)) (2.2.0)\n",
            "Requirement already satisfied: mccabe<0.7.0,>=0.6.0 in /usr/local/lib/python3.6/dist-packages (from flake8>=3.8; extra == \"tests\"->stable-baselines3[docs,extra,tests]>=0.11.0a4->-r /content/rl-baselines3-zoo/requirements.txt (line 1)) (0.6.1)\n",
            "Requirement already satisfied: PrettyTable<0.8,>=0.7.2 in /usr/local/lib/python3.6/dist-packages (from cliff->optuna->-r /content/rl-baselines3-zoo/requirements.txt (line 6)) (0.7.2)\n",
            "Requirement already satisfied: stevedore>=2.0.1 in /usr/local/lib/python3.6/dist-packages (from cliff->optuna->-r /content/rl-baselines3-zoo/requirements.txt (line 6)) (3.3.0)\n",
            "Requirement already satisfied: cmd2!=0.8.3,>=0.8.0 in /usr/local/lib/python3.6/dist-packages (from cliff->optuna->-r /content/rl-baselines3-zoo/requirements.txt (line 6)) (1.4.0)\n",
            "Requirement already satisfied: pbr!=2.1.0,>=2.0.0 in /usr/local/lib/python3.6/dist-packages (from cliff->optuna->-r /content/rl-baselines3-zoo/requirements.txt (line 6)) (5.5.1)\n",
            "Requirement already satisfied: python-editor>=0.3 in /usr/local/lib/python3.6/dist-packages (from alembic->optuna->-r /content/rl-baselines3-zoo/requirements.txt (line 6)) (1.0.4)\n",
            "Requirement already satisfied: Mako in /usr/local/lib/python3.6/dist-packages (from alembic->optuna->-r /content/rl-baselines3-zoo/requirements.txt (line 6)) (1.1.4)\n",
            "Requirement already satisfied: chardet<5,>=3.0.4 in /usr/local/lib/python3.6/dist-packages (from mbstrdecoder<2,>=1.0.0->pytablewriter->-r /content/rl-baselines3-zoo/requirements.txt (line 7)) (3.0.4)\n",
            "Requirement already satisfied: zipp>=0.5 in /usr/local/lib/python3.6/dist-packages (from importlib-metadata>=1.7.0; python_version < \"3.8\"->sphinxcontrib.spelling; extra == \"docs\"->stable-baselines3[docs,extra,tests]>=0.11.0a4->-r /content/rl-baselines3-zoo/requirements.txt (line 1)) (3.4.0)\n",
            "Requirement already satisfied: tornado; python_version > \"2.7\" in /usr/local/lib/python3.6/dist-packages (from livereload->sphinx-autobuild; extra == \"docs\"->stable-baselines3[docs,extra,tests]>=0.11.0a4->-r /content/rl-baselines3-zoo/requirements.txt (line 1)) (5.1.1)\n",
            "Requirement already satisfied: sphinxcontrib-serializinghtml in /usr/local/lib/python3.6/dist-packages (from sphinxcontrib-websupport->sphinx; extra == \"docs\"->stable-baselines3[docs,extra,tests]>=0.11.0a4->-r /content/rl-baselines3-zoo/requirements.txt (line 1)) (1.1.4)\n",
            "Requirement already satisfied: MarkupSafe>=0.23 in /usr/local/lib/python3.6/dist-packages (from Jinja2>=2.3->sphinx; extra == \"docs\"->stable-baselines3[docs,extra,tests]>=0.11.0a4->-r /content/rl-baselines3-zoo/requirements.txt (line 1)) (1.1.1)\n",
            "Requirement already satisfied: idna<3,>=2.5 in /usr/local/lib/python3.6/dist-packages (from requests>=2.0.0->sphinx; extra == \"docs\"->stable-baselines3[docs,extra,tests]>=0.11.0a4->-r /content/rl-baselines3-zoo/requirements.txt (line 1)) (2.10)\n",
            "Requirement already satisfied: certifi>=2017.4.17 in /usr/local/lib/python3.6/dist-packages (from requests>=2.0.0->sphinx; extra == \"docs\"->stable-baselines3[docs,extra,tests]>=0.11.0a4->-r /content/rl-baselines3-zoo/requirements.txt (line 1)) (2020.12.5)\n",
            "Requirement already satisfied: urllib3!=1.25.0,!=1.25.1,<1.26,>=1.21.1 in /usr/local/lib/python3.6/dist-packages (from requests>=2.0.0->sphinx; extra == \"docs\"->stable-baselines3[docs,extra,tests]>=0.11.0a4->-r /content/rl-baselines3-zoo/requirements.txt (line 1)) (1.24.3)\n",
            "Requirement already satisfied: rsa<5,>=3.1.4; python_version >= \"3\" in /usr/local/lib/python3.6/dist-packages (from google-auth<2,>=1.6.3->tensorboard>=2.2.0; extra == \"extra\"->stable-baselines3[docs,extra,tests]>=0.11.0a4->-r /content/rl-baselines3-zoo/requirements.txt (line 1)) (4.6)\n",
            "Requirement already satisfied: pyasn1-modules>=0.2.1 in /usr/local/lib/python3.6/dist-packages (from google-auth<2,>=1.6.3->tensorboard>=2.2.0; extra == \"extra\"->stable-baselines3[docs,extra,tests]>=0.11.0a4->-r /content/rl-baselines3-zoo/requirements.txt (line 1)) (0.2.8)\n",
            "Requirement already satisfied: cachetools<5.0,>=2.0.0 in /usr/local/lib/python3.6/dist-packages (from google-auth<2,>=1.6.3->tensorboard>=2.2.0; extra == \"extra\"->stable-baselines3[docs,extra,tests]>=0.11.0a4->-r /content/rl-baselines3-zoo/requirements.txt (line 1)) (4.2.0)\n",
            "Requirement already satisfied: requests-oauthlib>=0.7.0 in /usr/local/lib/python3.6/dist-packages (from google-auth-oauthlib<0.5,>=0.4.1->tensorboard>=2.2.0; extra == \"extra\"->stable-baselines3[docs,extra,tests]>=0.11.0a4->-r /content/rl-baselines3-zoo/requirements.txt (line 1)) (1.3.0)\n",
            "Requirement already satisfied: networkx>=2 in /usr/local/lib/python3.6/dist-packages (from importlab>=0.6.1->pytype; extra == \"tests\"->stable-baselines3[docs,extra,tests]>=0.11.0a4->-r /content/rl-baselines3-zoo/requirements.txt (line 1)) (2.5)\n",
            "Requirement already satisfied: apipkg>=1.4 in /usr/local/lib/python3.6/dist-packages (from execnet>=1.1->pytest-xdist; extra == \"tests\"->stable-baselines3[docs,extra,tests]>=0.11.0a4->-r /content/rl-baselines3-zoo/requirements.txt (line 1)) (1.5)\n",
            "Requirement already satisfied: colorama>=0.3.7 in /usr/local/lib/python3.6/dist-packages (from cmd2!=0.8.3,>=0.8.0->cliff->optuna->-r /content/rl-baselines3-zoo/requirements.txt (line 6)) (0.4.4)\n",
            "Requirement already satisfied: wcwidth>=0.1.7 in /usr/local/lib/python3.6/dist-packages (from cmd2!=0.8.3,>=0.8.0->cliff->optuna->-r /content/rl-baselines3-zoo/requirements.txt (line 6)) (0.2.5)\n",
            "Requirement already satisfied: pyperclip>=1.6 in /usr/local/lib/python3.6/dist-packages (from cmd2!=0.8.3,>=0.8.0->cliff->optuna->-r /content/rl-baselines3-zoo/requirements.txt (line 6)) (1.8.1)\n",
            "Requirement already satisfied: pyasn1>=0.1.3 in /usr/local/lib/python3.6/dist-packages (from rsa<5,>=3.1.4; python_version >= \"3\"->google-auth<2,>=1.6.3->tensorboard>=2.2.0; extra == \"extra\"->stable-baselines3[docs,extra,tests]>=0.11.0a4->-r /content/rl-baselines3-zoo/requirements.txt (line 1)) (0.4.8)\n",
            "Requirement already satisfied: oauthlib>=3.0.0 in /usr/local/lib/python3.6/dist-packages (from requests-oauthlib>=0.7.0->google-auth-oauthlib<0.5,>=0.4.1->tensorboard>=2.2.0; extra == \"extra\"->stable-baselines3[docs,extra,tests]>=0.11.0a4->-r /content/rl-baselines3-zoo/requirements.txt (line 1)) (3.1.0)\n",
            "Requirement already satisfied: decorator>=4.3.0 in /usr/local/lib/python3.6/dist-packages (from networkx>=2->importlab>=0.6.1->pytype; extra == \"tests\"->stable-baselines3[docs,extra,tests]>=0.11.0a4->-r /content/rl-baselines3-zoo/requirements.txt (line 1)) (4.4.2)\n",
            "\u001b[31mERROR: sphinxcontrib-spelling 7.1.0 has requirement Sphinx>=3.0.0, but you'll have sphinx 1.8.5 which is incompatible.\u001b[0m\n",
            "Installing collected packages: sphinxcontrib.spelling\n",
            "Successfully installed sphinxcontrib.spelling\n"
          ],
          "name": "stdout"
        }
      ]
    },
    {
      "cell_type": "markdown",
      "metadata": {
        "id": "SzBEoyPzoIJR"
      },
      "source": [
        "Desde Linux, ejecutando\n",
        "\n",
        "    git clone --recursive https://github.com/DLR-RM/rl-baselines3-zoo\n",
        "    cd rl-baselines3-zoo/\n",
        "    sudo apt-get install swig cmake ffmpeg\n",
        "    pip install -r requirements.txt"
      ]
    },
    {
      "cell_type": "markdown",
      "metadata": {
        "id": "p6TCyu_UoIJR"
      },
      "source": [
        "## Ejecución\n",
        "\n",
        "Los agentes pueden ser llamados desde la consola mediante comandos como\n",
        "\n",
        "`python train.py --algo algo_name --env env_id`\n",
        "\n",
        "Los cuales pueden ser llamados usando"
      ]
    },
    {
      "cell_type": "code",
      "metadata": {
        "id": "jBLMVxhIoIJR"
      },
      "source": [
        "os.chdir('rl-baselines3-zoo/')\n",
        "\n",
        "args = [\n",
        "    '-n', str(100000),\n",
        "    '--algo', 'ppo',\n",
        "    '--env', 'CartPole-v1'\n",
        "]\n",
        "\n",
        "p = Popen(['python', 'train.py'] + args,\n",
        "                               stdin=PIPE, stdout=PIPE, stderr=PIPE)\n",
        "output, err = p.communicate()\n",
        "rc = p.returncode\n",
        "os.chdir(cwd)\n",
        "assert rc == 0"
      ],
      "execution_count": 15,
      "outputs": []
    },
    {
      "cell_type": "markdown",
      "metadata": {
        "id": "40H4hNcqoIJR"
      },
      "source": [
        "Ver en acción el agente entrenado (nota: no disponible en Google Colab)"
      ]
    },
    {
      "cell_type": "code",
      "metadata": {
        "id": "cNija96loIJR"
      },
      "source": [
        "if not IN_COLAB:\n",
        "    pass  # TODO mostrar el uso del enjoy"
      ],
      "execution_count": 16,
      "outputs": []
    },
    {
      "cell_type": "markdown",
      "metadata": {
        "id": "MSfIitK7oIJR"
      },
      "source": [
        "Grabar video! **TODO**"
      ]
    },
    {
      "cell_type": "markdown",
      "metadata": {
        "id": "Phq975BYoIJR"
      },
      "source": [
        "Ver curva de aprendizaje obtenida por el agente desde *utils.plot*"
      ]
    },
    {
      "cell_type": "code",
      "metadata": {
        "id": "ZL4kxyVNoIJR",
        "colab": {
          "base_uri": "https://localhost:8080/"
        },
        "outputId": "66ac57d6-5f2a-4a90-cf27-db40973a5880"
      },
      "source": [
        "print(cwd)"
      ],
      "execution_count": 17,
      "outputs": [
        {
          "output_type": "stream",
          "text": [
            "/content\n"
          ],
          "name": "stdout"
        }
      ]
    },
    {
      "cell_type": "code",
      "metadata": {
        "id": "CYrp0w5yoIJS"
      },
      "source": [
        "os.chdir(cwd)\n"
      ],
      "execution_count": 18,
      "outputs": []
    },
    {
      "cell_type": "code",
      "metadata": {
        "id": "Q8EA41oQoIJS"
      },
      "source": [
        "os.chdir('rl-baselines3-zoo/')\n",
        "\n",
        "args = [\n",
        "    'ppo',\n",
        "    'CartPole-v1',\n",
        "    'logs/',\n",
        "    'steps'\n",
        "]\n",
        "\n",
        "p = Popen(['python', '-m', 'scripts.plot_train'] + args, stdout=PIPE)\n",
        "output, err = p.communicate()\n",
        "rc = p.returncode\n",
        "os.chdir(cwd)\n",
        "\n",
        "assert rc == 0"
      ],
      "execution_count": 19,
      "outputs": []
    },
    {
      "cell_type": "code",
      "metadata": {
        "id": "__1mgFR0oIJT",
        "colab": {
          "base_uri": "https://localhost:8080/"
        },
        "outputId": "38a2a8d1-a740-482a-9eef-bd836e107de2"
      },
      "source": [
        "print(output)"
      ],
      "execution_count": 20,
      "outputs": [
        {
          "output_type": "stream",
          "text": [
            "b'<Figure size 800x200 with 1 Axes>\\n'\n"
          ],
          "name": "stdout"
        }
      ]
    },
    {
      "cell_type": "code",
      "metadata": {
        "id": "hytcbTYYoIJT"
      },
      "source": [
        ""
      ],
      "execution_count": 20,
      "outputs": []
    },
    {
      "cell_type": "markdown",
      "metadata": {
        "id": "sgrWKJlsoIJT"
      },
      "source": [
        "## Normalización de features y recompensas"
      ]
    },
    {
      "cell_type": "markdown",
      "metadata": {
        "id": "BIfn3o99oIJT"
      },
      "source": [
        "**TODO**"
      ]
    },
    {
      "cell_type": "markdown",
      "metadata": {
        "id": "BWzAHj6qoIJT"
      },
      "source": [
        "## Híper-parámetros\n",
        "\n",
        "RL-Baselines Zoo provee funcionalidad para optimizar los híper-parámetros con la librería [Optuna]( https://github.com/optuna/optuna). En los mismos se incluyen rangos de híper-parámetros que se usaron para optimizar entornos como los de PyBullet, y son fácilmente modificables para adaptarlo a nuestros propios entornos. Para ver cómo se llama a la interfaz de Optuna ver [este código](https://github.com/DLR-RM/rl-baselines3-zoo/blob/master/utils/hyperparams_opt.py).\n",
        "\n",
        "Nota: **Consume muchos recursos!**\n",
        "\n",
        "**TODO**"
      ]
    },
    {
      "cell_type": "markdown",
      "metadata": {
        "id": "P5YbRAbyoIJT"
      },
      "source": [
        "# Recursos adicionales\n",
        "\n",
        "* Framework adicional de aprendizaje por refuerzos a gran escala: https://docs.ray.io/en/master/rllib.html.\n",
        "* Awesome Deep RL: https://github.com/kengz/awesome-deep-rl\n",
        "* [Comunidad de Bots de RL para Rocket League](https://rlbot.org/)\n",
        "\n",
        "\n",
        "* **TODO**"
      ]
    },
    {
      "cell_type": "markdown",
      "metadata": {
        "id": "rwXMoJy9oIJT"
      },
      "source": [
        "FIN"
      ]
    }
  ]
}