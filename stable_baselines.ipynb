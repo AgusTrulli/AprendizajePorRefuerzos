{
  "nbformat": 4,
  "nbformat_minor": 0,
  "metadata": {
    "kernelspec": {
      "display_name": "Python 3",
      "language": "python",
      "name": "python3"
    },
    "language_info": {
      "codemirror_mode": {
        "name": "ipython",
        "version": 3
      },
      "file_extension": ".py",
      "mimetype": "text/x-python",
      "name": "python",
      "nbconvert_exporter": "python",
      "pygments_lexer": "ipython3",
      "version": "3.7.7"
    },
    "colab": {
      "name": "stable_baselines.ipynb",
      "provenance": [],
      "collapsed_sections": [
        "SD-FSSuKoIJF",
        "uUUkScRxoIJQ"
      ],
      "toc_visible": true,
      "include_colab_link": true
    }
  },
  "cells": [
    {
      "cell_type": "markdown",
      "metadata": {
        "id": "view-in-github",
        "colab_type": "text"
      },
      "source": [
        "<a href=\"https://colab.research.google.com/github/GIDISIA/RLDiplodatos/blob/master/stable_baselines.ipynb\" target=\"_parent\"><img src=\"https://colab.research.google.com/assets/colab-badge.svg\" alt=\"Open In Colab\"/></a>"
      ]
    },
    {
      "cell_type": "markdown",
      "metadata": {
        "id": "SytTR8K1oII-"
      },
      "source": [
        "# Introducción"
      ]
    },
    {
      "cell_type": "markdown",
      "metadata": {
        "id": "8BFrF74foIJD"
      },
      "source": [
        "Créditos:\n",
        "\n",
        "* Documentación y repo de Stable-baselines https://stable-baselines3.readthedocs.io.\n",
        "    * Tutorial sobre SB3: https://github.com/araffin/rl-tutorial-jnrr19.\n",
        "* Documentación y repo de OpenAI Gym https://github.com/openai/gym/blob/master/docs/.\n",
        "    * Crear un entorno https://github.com/openai/gym/blob/master/docs/creating-environments.md. "
      ]
    },
    {
      "cell_type": "markdown",
      "metadata": {
        "id": "HlZ0ehGZoIJD"
      },
      "source": [
        "Stable-baselines3: framework de deep RL que provee interfaces para ejecutar y adaptar algoritmos de RL \"al estilo scikit-learn\". Permite utilizar agentes abstrayéndonos de los detalles de bajo nivel de abstracción referentes a la implementación del algoritmo$^1$\n",
        "\n",
        "Además, ofrece herramientas muy útiles como\n",
        "\n",
        "* Monitores que permiten ver el rendimiento del agente según se desempeña en el entorno, sin tener que esperar a que finalice de entrenar.\n",
        "* Callbacks que permiten accionar eventos cuando se cumplen algunas condiciones en el entrenamiento de nuestro agente (por ejemplo, detenerlo si la recompensa recibida es menor a cierto umbral tras un cierto período de tiempo).\n",
        "\n",
        "\n",
        "Documentación https://stable-baselines3.readthedocs.io\n",
        "\n",
        "Es un fork activamente mantenido de [OpenAI baselines](https://github.com/openai/baselines)\n",
        "\n",
        "La versión 3 cambia el framework subyacente de Tensorflow a Pytorch y está activamente en desarrollo; no obstante la versión 2 es completamente funcional\n",
        "\n",
        "$^1$ no obstante, al igual que sucede generalmente con librerías de ML: \n",
        "\n",
        "* Siempre es bueno tener en mente las características, ventajas y desventajas del algoritmo utilizado, pues de eso depende mucho la convergencia de nuestra solución, especialmente cuando se emplean entornos adaptados para nuestras necesidades. \n",
        "\n",
        "* Esta librería, al igual que demás frameworks generales de RL, están muy probadas en entornos estándares de RL como Atari o PyBullet. No obstante, es posible que nuestro entorno o nuestras necesidades difieran significativamente, lo que hace que en algunos casos haya que meter mano directo en el código de los algoritmos/librería."
      ]
    },
    {
      "cell_type": "markdown",
      "metadata": {
        "id": "W4SWX4wuoIJE"
      },
      "source": [
        "# Interfaz básica stable-baselines"
      ]
    },
    {
      "cell_type": "markdown",
      "metadata": {
        "id": "SD-FSSuKoIJF"
      },
      "source": [
        "### Instalación de Stable-baselines\n",
        "\n",
        "Desde Linux o Google Colab"
      ]
    },
    {
      "cell_type": "code",
      "metadata": {
        "id": "ttqOLol_oIJG",
        "colab": {
          "base_uri": "https://localhost:8080/"
        },
        "cellView": "form",
        "outputId": "e7b26d16-a6d3-45af-ca5f-332a2330427a"
      },
      "source": [
        "#@title Instalación (no modificar)\n",
        "!pip install stable-baselines3[extra,tests,docs]>=0.11.0a4 && pip install sb3-contrib"
      ],
      "execution_count": 1,
      "outputs": [
        {
          "output_type": "stream",
          "text": [
            "\u001b[31mERROR: datascience 0.10.6 has requirement coverage==3.7.1, but you'll have coverage 5.4 which is incompatible.\u001b[0m\n",
            "\u001b[31mERROR: datascience 0.10.6 has requirement folium==0.2.1, but you'll have folium 0.8.3 which is incompatible.\u001b[0m\n",
            "\u001b[31mERROR: coveralls 0.5 has requirement coverage<3.999,>=3.6, but you'll have coverage 5.4 which is incompatible.\u001b[0m\n",
            "\u001b[31mERROR: sphinx-autodoc-typehints 1.11.1 has requirement Sphinx>=3.0, but you'll have sphinx 1.8.5 which is incompatible.\u001b[0m\n",
            "\u001b[31mERROR: sphinxcontrib-spelling 7.1.0 has requirement Sphinx>=3.0.0, but you'll have sphinx 1.8.5 which is incompatible.\u001b[0m\n",
            "\u001b[31mERROR: pytest-forked 1.3.0 has requirement pytest>=3.10, but you'll have pytest 3.6.4 which is incompatible.\u001b[0m\n",
            "\u001b[31mERROR: pytest-xdist 2.2.0 has requirement pytest>=6.0.0, but you'll have pytest 3.6.4 which is incompatible.\u001b[0m\n",
            "\u001b[31mERROR: pytest-cov 2.11.1 has requirement pytest>=4.6, but you'll have pytest 3.6.4 which is incompatible.\u001b[0m\n",
            "Collecting sb3-contrib\n",
            "  Downloading https://files.pythonhosted.org/packages/76/48/38ec53c740e97b13354f13c29e0bd01d350143d06aa25f5a07ec3165eb81/sb3_contrib-0.10.0-py3-none-any.whl\n",
            "Requirement already satisfied: stable-baselines3[docs,tests]>=0.10.0 in /usr/local/lib/python3.6/dist-packages (from sb3-contrib) (0.10.0)\n",
            "Requirement already satisfied: gym>=0.17 in /usr/local/lib/python3.6/dist-packages (from stable-baselines3[docs,tests]>=0.10.0->sb3-contrib) (0.17.3)\n",
            "Requirement already satisfied: matplotlib in /usr/local/lib/python3.6/dist-packages (from stable-baselines3[docs,tests]>=0.10.0->sb3-contrib) (3.2.2)\n",
            "Requirement already satisfied: torch>=1.4.0 in /usr/local/lib/python3.6/dist-packages (from stable-baselines3[docs,tests]>=0.10.0->sb3-contrib) (1.7.0+cu101)\n",
            "Requirement already satisfied: cloudpickle in /usr/local/lib/python3.6/dist-packages (from stable-baselines3[docs,tests]>=0.10.0->sb3-contrib) (1.3.0)\n",
            "Requirement already satisfied: numpy in /usr/local/lib/python3.6/dist-packages (from stable-baselines3[docs,tests]>=0.10.0->sb3-contrib) (1.19.5)\n",
            "Requirement already satisfied: pandas in /usr/local/lib/python3.6/dist-packages (from stable-baselines3[docs,tests]>=0.10.0->sb3-contrib) (1.1.5)\n",
            "Requirement already satisfied: sphinx-autodoc-typehints; extra == \"docs\" in /usr/local/lib/python3.6/dist-packages (from stable-baselines3[docs,tests]>=0.10.0->sb3-contrib) (1.11.1)\n",
            "Collecting sphinxcontrib.spelling; extra == \"docs\"\n",
            "  Using cached https://files.pythonhosted.org/packages/f6/62/796d8ae02732c162f8d53406f520c9f3c886a9ab24de4ef6995404c2b1d8/sphinxcontrib_spelling-7.1.0-py3-none-any.whl\n",
            "Requirement already satisfied: sphinx; extra == \"docs\" in /usr/local/lib/python3.6/dist-packages (from stable-baselines3[docs,tests]>=0.10.0->sb3-contrib) (1.8.5)\n",
            "Requirement already satisfied: sphinx-rtd-theme; extra == \"docs\" in /usr/local/lib/python3.6/dist-packages (from stable-baselines3[docs,tests]>=0.10.0->sb3-contrib) (0.5.1)\n",
            "Requirement already satisfied: sphinx-autobuild; extra == \"docs\" in /usr/local/lib/python3.6/dist-packages (from stable-baselines3[docs,tests]>=0.10.0->sb3-contrib) (2020.9.1)\n",
            "Requirement already satisfied: pytest-env; extra == \"tests\" in /usr/local/lib/python3.6/dist-packages (from stable-baselines3[docs,tests]>=0.10.0->sb3-contrib) (0.6.2)\n",
            "Requirement already satisfied: pytype; extra == \"tests\" in /usr/local/lib/python3.6/dist-packages (from stable-baselines3[docs,tests]>=0.10.0->sb3-contrib) (2021.1.21)\n",
            "Requirement already satisfied: pytest-cov; extra == \"tests\" in /usr/local/lib/python3.6/dist-packages (from stable-baselines3[docs,tests]>=0.10.0->sb3-contrib) (2.11.1)\n",
            "Requirement already satisfied: flake8>=3.8; extra == \"tests\" in /usr/local/lib/python3.6/dist-packages (from stable-baselines3[docs,tests]>=0.10.0->sb3-contrib) (3.8.4)\n",
            "Requirement already satisfied: isort>=5.0; extra == \"tests\" in /usr/local/lib/python3.6/dist-packages (from stable-baselines3[docs,tests]>=0.10.0->sb3-contrib) (5.7.0)\n",
            "Requirement already satisfied: black; extra == \"tests\" in /usr/local/lib/python3.6/dist-packages (from stable-baselines3[docs,tests]>=0.10.0->sb3-contrib) (20.8b1)\n",
            "Requirement already satisfied: pytest-xdist; extra == \"tests\" in /usr/local/lib/python3.6/dist-packages (from stable-baselines3[docs,tests]>=0.10.0->sb3-contrib) (2.2.0)\n",
            "Requirement already satisfied: pytest; extra == \"tests\" in /usr/local/lib/python3.6/dist-packages (from stable-baselines3[docs,tests]>=0.10.0->sb3-contrib) (3.6.4)\n",
            "Requirement already satisfied: pyglet<=1.5.0,>=1.4.0 in /usr/local/lib/python3.6/dist-packages (from gym>=0.17->stable-baselines3[docs,tests]>=0.10.0->sb3-contrib) (1.5.0)\n",
            "Requirement already satisfied: scipy in /usr/local/lib/python3.6/dist-packages (from gym>=0.17->stable-baselines3[docs,tests]>=0.10.0->sb3-contrib) (1.4.1)\n",
            "Requirement already satisfied: kiwisolver>=1.0.1 in /usr/local/lib/python3.6/dist-packages (from matplotlib->stable-baselines3[docs,tests]>=0.10.0->sb3-contrib) (1.3.1)\n",
            "Requirement already satisfied: pyparsing!=2.0.4,!=2.1.2,!=2.1.6,>=2.0.1 in /usr/local/lib/python3.6/dist-packages (from matplotlib->stable-baselines3[docs,tests]>=0.10.0->sb3-contrib) (2.4.7)\n",
            "Requirement already satisfied: cycler>=0.10 in /usr/local/lib/python3.6/dist-packages (from matplotlib->stable-baselines3[docs,tests]>=0.10.0->sb3-contrib) (0.10.0)\n",
            "Requirement already satisfied: python-dateutil>=2.1 in /usr/local/lib/python3.6/dist-packages (from matplotlib->stable-baselines3[docs,tests]>=0.10.0->sb3-contrib) (2.8.1)\n",
            "Requirement already satisfied: typing-extensions in /usr/local/lib/python3.6/dist-packages (from torch>=1.4.0->stable-baselines3[docs,tests]>=0.10.0->sb3-contrib) (3.7.4.3)\n",
            "Requirement already satisfied: dataclasses in /usr/local/lib/python3.6/dist-packages (from torch>=1.4.0->stable-baselines3[docs,tests]>=0.10.0->sb3-contrib) (0.8)\n",
            "Requirement already satisfied: future in /usr/local/lib/python3.6/dist-packages (from torch>=1.4.0->stable-baselines3[docs,tests]>=0.10.0->sb3-contrib) (0.16.0)\n",
            "Requirement already satisfied: pytz>=2017.2 in /usr/local/lib/python3.6/dist-packages (from pandas->stable-baselines3[docs,tests]>=0.10.0->sb3-contrib) (2018.9)\n",
            "Requirement already satisfied: importlib-metadata>=1.7.0; python_version < \"3.8\" in /usr/local/lib/python3.6/dist-packages (from sphinxcontrib.spelling; extra == \"docs\"->stable-baselines3[docs,tests]>=0.10.0->sb3-contrib) (3.4.0)\n",
            "Requirement already satisfied: PyEnchant>=3.1.1 in /usr/local/lib/python3.6/dist-packages (from sphinxcontrib.spelling; extra == \"docs\"->stable-baselines3[docs,tests]>=0.10.0->sb3-contrib) (3.2.0)\n",
            "Requirement already satisfied: babel!=2.0,>=1.3 in /usr/local/lib/python3.6/dist-packages (from sphinx; extra == \"docs\"->stable-baselines3[docs,tests]>=0.10.0->sb3-contrib) (2.9.0)\n",
            "Requirement already satisfied: alabaster<0.8,>=0.7 in /usr/local/lib/python3.6/dist-packages (from sphinx; extra == \"docs\"->stable-baselines3[docs,tests]>=0.10.0->sb3-contrib) (0.7.12)\n",
            "Requirement already satisfied: sphinxcontrib-websupport in /usr/local/lib/python3.6/dist-packages (from sphinx; extra == \"docs\"->stable-baselines3[docs,tests]>=0.10.0->sb3-contrib) (1.2.4)\n",
            "Requirement already satisfied: six>=1.5 in /usr/local/lib/python3.6/dist-packages (from sphinx; extra == \"docs\"->stable-baselines3[docs,tests]>=0.10.0->sb3-contrib) (1.15.0)\n",
            "Requirement already satisfied: packaging in /usr/local/lib/python3.6/dist-packages (from sphinx; extra == \"docs\"->stable-baselines3[docs,tests]>=0.10.0->sb3-contrib) (20.8)\n",
            "Requirement already satisfied: Jinja2>=2.3 in /usr/local/lib/python3.6/dist-packages (from sphinx; extra == \"docs\"->stable-baselines3[docs,tests]>=0.10.0->sb3-contrib) (2.11.2)\n",
            "Requirement already satisfied: setuptools in /usr/local/lib/python3.6/dist-packages (from sphinx; extra == \"docs\"->stable-baselines3[docs,tests]>=0.10.0->sb3-contrib) (51.3.3)\n",
            "Requirement already satisfied: imagesize in /usr/local/lib/python3.6/dist-packages (from sphinx; extra == \"docs\"->stable-baselines3[docs,tests]>=0.10.0->sb3-contrib) (1.2.0)\n",
            "Requirement already satisfied: requests>=2.0.0 in /usr/local/lib/python3.6/dist-packages (from sphinx; extra == \"docs\"->stable-baselines3[docs,tests]>=0.10.0->sb3-contrib) (2.23.0)\n",
            "Requirement already satisfied: docutils>=0.11 in /usr/local/lib/python3.6/dist-packages (from sphinx; extra == \"docs\"->stable-baselines3[docs,tests]>=0.10.0->sb3-contrib) (0.16)\n",
            "Requirement already satisfied: Pygments>=2.0 in /usr/local/lib/python3.6/dist-packages (from sphinx; extra == \"docs\"->stable-baselines3[docs,tests]>=0.10.0->sb3-contrib) (2.6.1)\n",
            "Requirement already satisfied: snowballstemmer>=1.1 in /usr/local/lib/python3.6/dist-packages (from sphinx; extra == \"docs\"->stable-baselines3[docs,tests]>=0.10.0->sb3-contrib) (2.1.0)\n",
            "Requirement already satisfied: livereload in /usr/local/lib/python3.6/dist-packages (from sphinx-autobuild; extra == \"docs\"->stable-baselines3[docs,tests]>=0.10.0->sb3-contrib) (2.6.3)\n",
            "Requirement already satisfied: attrs in /usr/local/lib/python3.6/dist-packages (from pytype; extra == \"tests\"->stable-baselines3[docs,tests]>=0.10.0->sb3-contrib) (20.3.0)\n",
            "Requirement already satisfied: ninja>=1.10.0.post2 in /usr/local/lib/python3.6/dist-packages (from pytype; extra == \"tests\"->stable-baselines3[docs,tests]>=0.10.0->sb3-contrib) (1.10.0.post2)\n",
            "Requirement already satisfied: pyyaml>=3.11 in /usr/local/lib/python3.6/dist-packages (from pytype; extra == \"tests\"->stable-baselines3[docs,tests]>=0.10.0->sb3-contrib) (3.13)\n",
            "Requirement already satisfied: typed-ast in /usr/local/lib/python3.6/dist-packages (from pytype; extra == \"tests\"->stable-baselines3[docs,tests]>=0.10.0->sb3-contrib) (1.4.2)\n",
            "Requirement already satisfied: importlab>=0.6.1 in /usr/local/lib/python3.6/dist-packages (from pytype; extra == \"tests\"->stable-baselines3[docs,tests]>=0.10.0->sb3-contrib) (0.6.1)\n",
            "Requirement already satisfied: coverage>=5.2.1 in /usr/local/lib/python3.6/dist-packages (from pytest-cov; extra == \"tests\"->stable-baselines3[docs,tests]>=0.10.0->sb3-contrib) (5.4)\n",
            "Requirement already satisfied: pyflakes<2.3.0,>=2.2.0 in /usr/local/lib/python3.6/dist-packages (from flake8>=3.8; extra == \"tests\"->stable-baselines3[docs,tests]>=0.10.0->sb3-contrib) (2.2.0)\n",
            "Requirement already satisfied: pycodestyle<2.7.0,>=2.6.0a1 in /usr/local/lib/python3.6/dist-packages (from flake8>=3.8; extra == \"tests\"->stable-baselines3[docs,tests]>=0.10.0->sb3-contrib) (2.6.0)\n",
            "Requirement already satisfied: mccabe<0.7.0,>=0.6.0 in /usr/local/lib/python3.6/dist-packages (from flake8>=3.8; extra == \"tests\"->stable-baselines3[docs,tests]>=0.10.0->sb3-contrib) (0.6.1)\n",
            "Requirement already satisfied: click>=7.1.2 in /usr/local/lib/python3.6/dist-packages (from black; extra == \"tests\"->stable-baselines3[docs,tests]>=0.10.0->sb3-contrib) (7.1.2)\n",
            "Requirement already satisfied: appdirs in /usr/local/lib/python3.6/dist-packages (from black; extra == \"tests\"->stable-baselines3[docs,tests]>=0.10.0->sb3-contrib) (1.4.4)\n",
            "Requirement already satisfied: mypy-extensions>=0.4.3 in /usr/local/lib/python3.6/dist-packages (from black; extra == \"tests\"->stable-baselines3[docs,tests]>=0.10.0->sb3-contrib) (0.4.3)\n",
            "Requirement already satisfied: regex>=2020.1.8 in /usr/local/lib/python3.6/dist-packages (from black; extra == \"tests\"->stable-baselines3[docs,tests]>=0.10.0->sb3-contrib) (2020.11.13)\n",
            "Requirement already satisfied: toml>=0.10.1 in /usr/local/lib/python3.6/dist-packages (from black; extra == \"tests\"->stable-baselines3[docs,tests]>=0.10.0->sb3-contrib) (0.10.2)\n",
            "Requirement already satisfied: pathspec<1,>=0.6 in /usr/local/lib/python3.6/dist-packages (from black; extra == \"tests\"->stable-baselines3[docs,tests]>=0.10.0->sb3-contrib) (0.8.1)\n",
            "Requirement already satisfied: pytest-forked in /usr/local/lib/python3.6/dist-packages (from pytest-xdist; extra == \"tests\"->stable-baselines3[docs,tests]>=0.10.0->sb3-contrib) (1.3.0)\n",
            "Requirement already satisfied: execnet>=1.1 in /usr/local/lib/python3.6/dist-packages (from pytest-xdist; extra == \"tests\"->stable-baselines3[docs,tests]>=0.10.0->sb3-contrib) (1.8.0)\n",
            "Requirement already satisfied: more-itertools>=4.0.0 in /usr/local/lib/python3.6/dist-packages (from pytest; extra == \"tests\"->stable-baselines3[docs,tests]>=0.10.0->sb3-contrib) (8.6.0)\n",
            "Requirement already satisfied: py>=1.5.0 in /usr/local/lib/python3.6/dist-packages (from pytest; extra == \"tests\"->stable-baselines3[docs,tests]>=0.10.0->sb3-contrib) (1.10.0)\n",
            "Requirement already satisfied: pluggy<0.8,>=0.5 in /usr/local/lib/python3.6/dist-packages (from pytest; extra == \"tests\"->stable-baselines3[docs,tests]>=0.10.0->sb3-contrib) (0.7.1)\n",
            "Requirement already satisfied: atomicwrites>=1.0 in /usr/local/lib/python3.6/dist-packages (from pytest; extra == \"tests\"->stable-baselines3[docs,tests]>=0.10.0->sb3-contrib) (1.4.0)\n",
            "Requirement already satisfied: zipp>=0.5 in /usr/local/lib/python3.6/dist-packages (from importlib-metadata>=1.7.0; python_version < \"3.8\"->sphinxcontrib.spelling; extra == \"docs\"->stable-baselines3[docs,tests]>=0.10.0->sb3-contrib) (3.4.0)\n",
            "Requirement already satisfied: sphinxcontrib-serializinghtml in /usr/local/lib/python3.6/dist-packages (from sphinxcontrib-websupport->sphinx; extra == \"docs\"->stable-baselines3[docs,tests]>=0.10.0->sb3-contrib) (1.1.4)\n",
            "Requirement already satisfied: MarkupSafe>=0.23 in /usr/local/lib/python3.6/dist-packages (from Jinja2>=2.3->sphinx; extra == \"docs\"->stable-baselines3[docs,tests]>=0.10.0->sb3-contrib) (1.1.1)\n",
            "Requirement already satisfied: certifi>=2017.4.17 in /usr/local/lib/python3.6/dist-packages (from requests>=2.0.0->sphinx; extra == \"docs\"->stable-baselines3[docs,tests]>=0.10.0->sb3-contrib) (2020.12.5)\n",
            "Requirement already satisfied: urllib3!=1.25.0,!=1.25.1,<1.26,>=1.21.1 in /usr/local/lib/python3.6/dist-packages (from requests>=2.0.0->sphinx; extra == \"docs\"->stable-baselines3[docs,tests]>=0.10.0->sb3-contrib) (1.24.3)\n",
            "Requirement already satisfied: idna<3,>=2.5 in /usr/local/lib/python3.6/dist-packages (from requests>=2.0.0->sphinx; extra == \"docs\"->stable-baselines3[docs,tests]>=0.10.0->sb3-contrib) (2.10)\n",
            "Requirement already satisfied: chardet<4,>=3.0.2 in /usr/local/lib/python3.6/dist-packages (from requests>=2.0.0->sphinx; extra == \"docs\"->stable-baselines3[docs,tests]>=0.10.0->sb3-contrib) (3.0.4)\n",
            "Requirement already satisfied: tornado; python_version > \"2.7\" in /usr/local/lib/python3.6/dist-packages (from livereload->sphinx-autobuild; extra == \"docs\"->stable-baselines3[docs,tests]>=0.10.0->sb3-contrib) (5.1.1)\n",
            "Requirement already satisfied: networkx>=2 in /usr/local/lib/python3.6/dist-packages (from importlab>=0.6.1->pytype; extra == \"tests\"->stable-baselines3[docs,tests]>=0.10.0->sb3-contrib) (2.5)\n",
            "Requirement already satisfied: apipkg>=1.4 in /usr/local/lib/python3.6/dist-packages (from execnet>=1.1->pytest-xdist; extra == \"tests\"->stable-baselines3[docs,tests]>=0.10.0->sb3-contrib) (1.5)\n",
            "Requirement already satisfied: decorator>=4.3.0 in /usr/local/lib/python3.6/dist-packages (from networkx>=2->importlab>=0.6.1->pytype; extra == \"tests\"->stable-baselines3[docs,tests]>=0.10.0->sb3-contrib) (4.4.2)\n",
            "\u001b[31mERROR: sphinxcontrib-spelling 7.1.0 has requirement Sphinx>=3.0.0, but you'll have sphinx 1.8.5 which is incompatible.\u001b[0m\n",
            "Installing collected packages: sb3-contrib, sphinxcontrib.spelling\n",
            "Successfully installed sb3-contrib-0.10.0 sphinxcontrib.spelling\n"
          ],
          "name": "stdout"
        }
      ]
    },
    {
      "cell_type": "markdown",
      "metadata": {
        "id": "GPUpOonyoIJH"
      },
      "source": [
        "## Ejecución de un algoritmo de RL"
      ]
    },
    {
      "cell_type": "markdown",
      "metadata": {
        "id": "Morjd1dFoIJH"
      },
      "source": [
        "### Importaciones/inicializaciones"
      ]
    },
    {
      "cell_type": "code",
      "metadata": {
        "id": "OG7i44kqoIJH"
      },
      "source": [
        "import os\n",
        "from subprocess import Popen, PIPE\n",
        "\n",
        "import numpy as np\n",
        "import matplotlib.pyplot as plt\n",
        "\n",
        "import gym\n",
        "from gym import spaces\n",
        "#from gym.envs.registration import register\n",
        "\n",
        "from stable_baselines3 import DQN, PPO\n",
        "from stable_baselines3.common.monitor import Monitor\n",
        "from stable_baselines3.common.vec_env import DummyVecEnv\n",
        "from stable_baselines3.common.callbacks import EvalCallback, StopTrainingOnRewardThreshold\n",
        "from stable_baselines3.common.env_util import make_vec_env\n",
        "\n",
        "os.makedirs('logs', exist_ok=True)\n",
        "\n",
        "try:\n",
        "  import google.colab\n",
        "  IN_COLAB = True\n",
        "except:\n",
        "  IN_COLAB = False\n",
        "\n",
        "cwd = os.getcwd()\n",
        "\n",
        "%matplotlib inline\n",
        "%load_ext tensorboard"
      ],
      "execution_count": 2,
      "outputs": []
    },
    {
      "cell_type": "markdown",
      "metadata": {
        "id": "is2ytf-coIJH"
      },
      "source": [
        "### Ejemplo básico"
      ]
    },
    {
      "cell_type": "code",
      "metadata": {
        "id": "h8SqFh7noIJI",
        "colab": {
          "base_uri": "https://localhost:8080/"
        },
        "outputId": "1d56db34-53bd-450a-8fe8-825f7201ffcf"
      },
      "source": [
        "env = gym.make('CartPole-v1')\n",
        "\n",
        "# MlpPolicy es una política \"estándar\" que aprende con perceptron multicapa\n",
        "# (es decir sin capas convolucionales o demás variantes),\n",
        "# 2 capas ocultas con 64 neuronas cada una\n",
        "model = DQN('MlpPolicy', env)\n",
        "model.learn(total_timesteps=10000)\n"
      ],
      "execution_count": 3,
      "outputs": [
        {
          "output_type": "execute_result",
          "data": {
            "text/plain": [
              "<stable_baselines3.dqn.dqn.DQN at 0x7f5397e195c0>"
            ]
          },
          "metadata": {
            "tags": []
          },
          "execution_count": 3
        }
      ]
    },
    {
      "cell_type": "markdown",
      "metadata": {
        "id": "0f5JFC7AoIJK"
      },
      "source": [
        "### Renderización"
      ]
    },
    {
      "cell_type": "code",
      "metadata": {
        "id": "5nIL0TuwoIJK"
      },
      "source": [
        "if not IN_COLAB:\n",
        "\n",
        "    obs = env.reset()\n",
        "    for i in range(1000):\n",
        "        action, _states = model.predict(obs, deterministic=True)\n",
        "        obs, reward, done, info = env.step(action)\n",
        "        env.render()\n",
        "        if done:\n",
        "          obs = env.reset()\n",
        "\n",
        "    env.close()"
      ],
      "execution_count": 4,
      "outputs": []
    },
    {
      "cell_type": "markdown",
      "metadata": {
        "id": "iTtXPFd2oIJK"
      },
      "source": [
        "### Logging"
      ]
    },
    {
      "cell_type": "markdown",
      "metadata": {
        "id": "BFYyMrvboIJK"
      },
      "source": [
        "#### Ver rendimiento del agente en tensorboard"
      ]
    },
    {
      "cell_type": "code",
      "metadata": {
        "id": "pC1hqla2oIJK",
        "colab": {
          "base_uri": "https://localhost:8080/"
        },
        "outputId": "77c1b83c-9952-4ee7-b4eb-2c8bfa0d2024"
      },
      "source": [
        "env = gym.make('CartPole-v1')\n",
        "\n",
        "model = DQN('MlpPolicy', env, tensorboard_log='tensorboard/')\n",
        "model.learn(total_timesteps=100000)"
      ],
      "execution_count": 5,
      "outputs": [
        {
          "output_type": "execute_result",
          "data": {
            "text/plain": [
              "<stable_baselines3.dqn.dqn.DQN at 0x7f5397e19550>"
            ]
          },
          "metadata": {
            "tags": []
          },
          "execution_count": 5
        }
      ]
    },
    {
      "cell_type": "markdown",
      "metadata": {
        "id": "rldIL1u4oIJL"
      },
      "source": [
        "Para verlo en tensorboard, correr"
      ]
    },
    {
      "cell_type": "markdown",
      "metadata": {
        "id": "v4Db-mCxoIJL"
      },
      "source": [
        "`tensorboard --logdir=tensorboard/`"
      ]
    },
    {
      "cell_type": "code",
      "metadata": {
        "colab": {
          "base_uri": "https://localhost:8080/",
          "height": 17
        },
        "id": "2AfqEmCWxWFv",
        "outputId": "e2297f30-400f-4480-b04e-90f1b4dc2549"
      },
      "source": [
        "%tensorboard --logdir=tensorboard"
      ],
      "execution_count": 22,
      "outputs": [
        {
          "output_type": "display_data",
          "data": {
            "application/javascript": [
              "\n",
              "        (async () => {\n",
              "            const url = new URL(await google.colab.kernel.proxyPort(6008, {'cache': true}));\n",
              "            url.searchParams.set('tensorboardColab', 'true');\n",
              "            const iframe = document.createElement('iframe');\n",
              "            iframe.src = url;\n",
              "            iframe.setAttribute('width', '100%');\n",
              "            iframe.setAttribute('height', '800');\n",
              "            iframe.setAttribute('frameborder', 0);\n",
              "            document.body.appendChild(iframe);\n",
              "        })();\n",
              "    "
            ],
            "text/plain": [
              "<IPython.core.display.Javascript object>"
            ]
          },
          "metadata": {
            "tags": []
          }
        }
      ]
    },
    {
      "cell_type": "markdown",
      "metadata": {
        "id": "2u0_1dk5oIJL"
      },
      "source": [
        "### Monitor\n",
        "\n",
        "Vamos a crear un monitor para loguear nuestro agente en la carpeta logs. Nuestro monitor guardará datos de recompensa (r), duración (l) y tiempo total (t)"
      ]
    },
    {
      "cell_type": "code",
      "metadata": {
        "id": "r7uF7sQdoIJL",
        "colab": {
          "base_uri": "https://localhost:8080/"
        },
        "outputId": "ea0fb222-58aa-4c18-9c8c-ae97132ee3ee"
      },
      "source": [
        "env = gym.make('CartPole-v1')\n",
        "env = Monitor(env, 'logs/')  # reemplazamos env por su monitor\n",
        "\n",
        "model = DQN('MlpPolicy', env, )\n",
        "model.learn(total_timesteps=10000)"
      ],
      "execution_count": 7,
      "outputs": [
        {
          "output_type": "execute_result",
          "data": {
            "text/plain": [
              "<stable_baselines3.dqn.dqn.DQN at 0x7f53417d3128>"
            ]
          },
          "metadata": {
            "tags": []
          },
          "execution_count": 7
        }
      ]
    },
    {
      "cell_type": "markdown",
      "metadata": {
        "id": "4yVVSGjvoIJM"
      },
      "source": [
        "### Callbacks"
      ]
    },
    {
      "cell_type": "code",
      "metadata": {
        "id": "47XdjvaSoIJM",
        "colab": {
          "base_uri": "https://localhost:8080/"
        },
        "outputId": "8eb9dd8d-ca66-4aee-cdbf-bce8a510ecea"
      },
      "source": [
        "env = gym.make('CartPole-v1')\n",
        "\n",
        "callbacks = []  # lista de callbacks a usar, pueden ser varios\n",
        "\n",
        "# callback para detener entrenamiento al alcanzar recompensa de 9.8\n",
        "# (a fines demostrativos, es una recompensa baja)\n",
        "stop_training_callback = StopTrainingOnRewardThreshold(reward_threshold=9.8)\n",
        "\n",
        "# al crear EvalCallback, se asocia el mismo con stop_training_callback\n",
        "callbacks.append(EvalCallback(env, \n",
        "                              eval_freq=1000,\n",
        "                              callback_on_new_best=stop_training_callback))\n",
        "\n",
        "# la semilla aleatoria hace que las ejecuciones sean estocásticas\n",
        "model = DQN('MlpPolicy', env, seed=42)\n",
        "model.learn(total_timesteps=10000, callback=callbacks)"
      ],
      "execution_count": 8,
      "outputs": [
        {
          "output_type": "stream",
          "text": [
            "Eval num_timesteps=1000, episode_reward=9.60 +/- 0.80\n",
            "Episode length: 9.60 +/- 0.80\n",
            "New best mean reward!\n",
            "Eval num_timesteps=2000, episode_reward=9.20 +/- 0.75\n",
            "Episode length: 9.20 +/- 0.75\n",
            "Eval num_timesteps=3000, episode_reward=9.80 +/- 0.75\n",
            "Episode length: 9.80 +/- 0.75\n",
            "New best mean reward!\n"
          ],
          "name": "stdout"
        },
        {
          "output_type": "execute_result",
          "data": {
            "text/plain": [
              "<stable_baselines3.dqn.dqn.DQN at 0x7f53417d3f28>"
            ]
          },
          "metadata": {
            "tags": []
          },
          "execution_count": 8
        }
      ]
    },
    {
      "cell_type": "markdown",
      "metadata": {
        "id": "QCPD7oaNoIJM"
      },
      "source": [
        "### Ejecutar agente RL en múltiples ambientes"
      ]
    },
    {
      "cell_type": "markdown",
      "metadata": {
        "id": "PNiTT2AzoIJM"
      },
      "source": [
        "Esta librería provee una interfaz para ejecutar agentes en varias instancias de un mismo entorno a la vez (*vectorized environments*), de modo tal que se habilite la ejecución paralela y de otras funcionalidades útiles.\n",
        "\n",
        "Para ello, varios de sus algoritmos implementan cambios que consideren la posibilidad de que haya múltiples entornos subyacentes, por ejemplo `step(accion)` cambia a `step(lista_acciones)`, aplicando acciones a todos los entornos, recibiendo ahora múltiples observaciones y recompensas.\n",
        "\n",
        "Otro cambio: se aplica `reset()` automáticamente a cada entorno que llega a un estado final."
      ]
    },
    {
      "cell_type": "markdown",
      "metadata": {
        "id": "9GGZjjcDoIJN"
      },
      "source": [
        "SB brinda dos formas de utilizar entornos vectorizados:\n",
        "\n",
        "* DummyVecEnv, el cuál consiste en un *wrapper* de varios entornos, los cuáles funcionarán en un sólo hilo. Este wrapper es útil como entrada de algoritmos que requieren los entornos de esta forma, y habilita los procesamientos y operaciones comunes de los entornos vectorizados (ejemplo: el *stacking* de 4 imágenes en entornos de tipo Atari).\n",
        "* SubprocVecEnv, el cuál agrupa varios entornos que serán ejecutados en paralelo. Atención! **Puede comer mucha RAM**\n",
        "\n",
        "Vemos un ejemplo:"
      ]
    },
    {
      "cell_type": "code",
      "metadata": {
        "id": "ovc6JDmYoIJN",
        "colab": {
          "base_uri": "https://localhost:8080/"
        },
        "outputId": "6f36d2d0-bc4e-4299-b612-58103bc73f6e"
      },
      "source": [
        "# ejemplo de ambiente dummy\n",
        "venv = DummyVecEnv([lambda: gym.make('CartPole-v1')]*4)\n",
        "\n",
        "model = PPO('MlpPolicy', venv, )\n",
        "model.learn(total_timesteps=10000)"
      ],
      "execution_count": 9,
      "outputs": [
        {
          "output_type": "execute_result",
          "data": {
            "text/plain": [
              "<stable_baselines3.ppo.ppo.PPO at 0x7f53417d3278>"
            ]
          },
          "metadata": {
            "tags": []
          },
          "execution_count": 9
        }
      ]
    },
    {
      "cell_type": "markdown",
      "metadata": {
        "id": "kkadM0S1oIJO"
      },
      "source": [
        "También puede hacerse con un una función de SB a tal efecto"
      ]
    },
    {
      "cell_type": "code",
      "metadata": {
        "id": "wez-ZY_IoIJO",
        "colab": {
          "base_uri": "https://localhost:8080/"
        },
        "outputId": "bc30a171-8081-4b97-ba76-063551b2a200"
      },
      "source": [
        "venv = make_vec_env(lambda: env, n_envs=4)\n",
        "\n",
        "model = PPO('MlpPolicy', venv, )\n",
        "model.learn(total_timesteps=10000)"
      ],
      "execution_count": 10,
      "outputs": [
        {
          "output_type": "execute_result",
          "data": {
            "text/plain": [
              "<stable_baselines3.ppo.ppo.PPO at 0x7f53417d48d0>"
            ]
          },
          "metadata": {
            "tags": []
          },
          "execution_count": 10
        }
      ]
    },
    {
      "cell_type": "markdown",
      "metadata": {
        "id": "BjH4ZQ4NoIJO"
      },
      "source": [
        "### Ejecutar agente con políticas personalizadas"
      ]
    },
    {
      "cell_type": "code",
      "metadata": {
        "id": "jp_aPhIdoIJO",
        "colab": {
          "base_uri": "https://localhost:8080/"
        },
        "outputId": "19b3f2a7-2821-4fe9-a749-b32be258aee8"
      },
      "source": [
        "# Creamos una clase con una red neuronal de 128x128 neuronas\n",
        "\n",
        "model = PPO('MlpPolicy', policy_kwargs=dict(net_arch=[128,128]), env='CartPole-v1', verbose=1).learn(total_timesteps=10000)\n",
        "model.learn(total_timesteps=10000)"
      ],
      "execution_count": 11,
      "outputs": [
        {
          "output_type": "stream",
          "text": [
            "Using cpu device\n",
            "Creating environment from the given name 'CartPole-v1'\n",
            "Wrapping the env in a DummyVecEnv.\n"
          ],
          "name": "stdout"
        },
        {
          "output_type": "execute_result",
          "data": {
            "text/plain": [
              "<stable_baselines3.ppo.ppo.PPO at 0x7f53417d5ba8>"
            ]
          },
          "metadata": {
            "tags": []
          },
          "execution_count": 11
        }
      ]
    },
    {
      "cell_type": "markdown",
      "metadata": {
        "id": "WbwkBi87oIJO"
      },
      "source": [
        "Utilizar un entorno personalizado\n",
        "\n",
        "Antes que nada, además de la interfaz que ya vimos de Gym, hay otras nociones que tenemos que tener en cuenta en este contexto:\n",
        "\n",
        "* Los entornos definen un espacio de estados y de acciones, a partir de los cuáles los modelos asumen y respetan la \"forma\" de observaciones y acciones. Por ejemplo, algunos algoritmos están diseñados para espacios de acciones discretos (DQN), continuos (DDPG) o bien poseen implementaciones particulares pueden usarse en ambos (PPO, en el repo de SB3). En cuanto a los espacios, algunos algoritmos asumen explícitamente un espacio discreto (y pequeño), como Q-Learning, mientras que otros como PPO asumen cualquier tipo de espacio.\n",
        "* Los dos tipos más comunes de estados o acciones son los espacios discretos `gym.spaces.Discrete` y los continuos `gym.spaces.Box`.\n",
        "* Los espacios discretos definen un conjunto de $n$ estados/acciones $\\{ 0, 1, \\dots, n-1 \\}$, mientras que los espacios continuos definen un espacio $\\mathbb{R}^d$, de una de las siguientes 4 formas: $[a, b], (-\\infty, b], [a, \\infty), (-\\infty, \\infty)$, en donde $a,b$ son las cotas superior e inferior (de existir).\n",
        "* Ejemplos: un espacio de acciones `Discrete(4)` tiene 4 acciones: $\\{0,1,2,3\\}$; un espacio de estados `Discrete(16)` tiene 16 estados. Un espacio de estados ALTURA, ANCHO, N_CANALES que represente una imagen RGB acotada en $[a=0, b=255]$ se puede crear como\n",
        "\n",
        "`observation_space = spaces.Box(low=0, high=255, shape=(HEIGHT, WIDTH, N_CHANNELS), dtype=np.uint8)`"
      ]
    },
    {
      "cell_type": "markdown",
      "metadata": {
        "id": "YFLZieLNoIJO"
      },
      "source": [
        "Para usar un entorno compatible por esta librería, el mismo tiene que heredar de *gym.Env*. Vemos un ejemplo (crédito: https://colab.research.google.com/github/araffin/rl-tutorial-jnrr19/blob/sb3/5_custom_gym_env.ipynb)"
      ]
    },
    {
      "cell_type": "code",
      "metadata": {
        "id": "str0v6DUoIJO"
      },
      "source": [
        "class GoLeftEnv(gym.Env):\n",
        "  \"\"\"\n",
        "  Ambiente personalizado que sigue la interfaz de gym.\n",
        "  Es un entorno simple en el cuál el agente debe aprender a ir siempre \n",
        "  hacia la derecha.\n",
        "  \"\"\"\n",
        "  # Dado que estamos en colab, no podemos implementar la salida por interfaz \n",
        "  # gráfica ('human' render mode) \n",
        "  metadata = {'render.modes': ['console']}\n",
        "  # Definimos las constantes\n",
        "  LEFT = 0\n",
        "  RIGHT = 1\n",
        "\n",
        "  def __init__(self, grid_size=10):\n",
        "    super(GoLeftEnv, self).__init__()\n",
        "\n",
        "    # Tamaño de la grilla de 1D\n",
        "    self.grid_size = grid_size\n",
        "    # Inicializamos en agente a la izquierda de la grilla\n",
        "    self.agent_pos = grid_size - 1\n",
        "\n",
        "    # Definimos el espacio de acción y observaciones\n",
        "    # Los mismos deben ser objetos gym.spaces\n",
        "    # En este ejemplo usamos dos acciones discretas: izquierda y derecha\n",
        "    n_actions = 2\n",
        "    self.action_space = spaces.Discrete(n_actions)\n",
        "    # La observación será la coordenada donde se encuentra el agente\n",
        "    # puede ser descrita tanto por los espacios Discrete como Box\n",
        "    self.observation_space = spaces.Box(low=0, high=self.grid_size,\n",
        "                                        shape=(1,), dtype=np.float32)\n",
        "\n",
        "  def reset(self):\n",
        "    \"\"\"\n",
        "    Important: the observation must be a numpy array\n",
        "    :return: (np.array) \n",
        "    \"\"\"\n",
        "    # Se inicializa el agente a la derecha de la grilla\n",
        "    self.agent_pos = self.grid_size - 1\n",
        "    # convertimos con astype a float32 (numpy) para hacer más general el agente\n",
        "    # (en caso de que querramos usar acciones continuas)\n",
        "    return np.array([self.agent_pos]).astype(np.float32)\n",
        "\n",
        "  def step(self, action):\n",
        "    if action == self.LEFT:\n",
        "      self.agent_pos -= 1\n",
        "    elif action == self.RIGHT:\n",
        "      self.agent_pos += 1\n",
        "    else:\n",
        "      raise ValueError(\"Received invalid action={} which is not part of the action space\".format(action))\n",
        "\n",
        "    # Evitamos que el agente se salga de los límites de la grilla\n",
        "    self.agent_pos = np.clip(self.agent_pos, 0, self.grid_size)\n",
        "\n",
        "    # Llegó el agente a su estado objetivo (izquierda) de la grilla?\n",
        "    done = bool(self.agent_pos == 0)\n",
        "\n",
        "    # Asignamos recompensa sólo cuando el agente llega a su objetivo\n",
        "    # (recompensa = 0 en todos los demás estados)\n",
        "    reward = 1 if self.agent_pos == 0 else 0\n",
        "\n",
        "    # gym también nos permite devolver información adicional, ej. en atari: \n",
        "    # las vidas restantes del agente (no usaremos esto por ahora)\n",
        "    info = {}\n",
        "\n",
        "    return np.array([self.agent_pos]).astype(np.float32), reward, done, info\n",
        "\n",
        "  def render(self, mode='console'):\n",
        "    if mode != 'console':\n",
        "      raise NotImplementedError()\n",
        "    # en nuestra interfaz de consola, representamos el agente como una cruz, y \n",
        "    # el resto como un punto\n",
        "    print(\".\" * self.agent_pos, end=\"\")\n",
        "    print(\"x\", end=\"\")\n",
        "    print(\".\" * (self.grid_size - self.agent_pos))\n",
        "\n",
        "  def close(self):\n",
        "    pass"
      ],
      "execution_count": 12,
      "outputs": []
    },
    {
      "cell_type": "code",
      "metadata": {
        "id": "flB9-j1SoIJP",
        "colab": {
          "base_uri": "https://localhost:8080/"
        },
        "outputId": "67ccb533-c91c-441a-8f85-72346c10e1ac"
      },
      "source": [
        "env = GoLeftEnv(grid_size=10)\n",
        "env = make_vec_env(lambda: env, n_envs=1)\n",
        "\n",
        "model = PPO('MlpPolicy', env, verbose=1).learn(5000)"
      ],
      "execution_count": 13,
      "outputs": [
        {
          "output_type": "stream",
          "text": [
            "Using cpu device\n"
          ],
          "name": "stdout"
        }
      ]
    },
    {
      "cell_type": "markdown",
      "metadata": {
        "id": "lCQE1QoNoIJQ"
      },
      "source": [
        "Ejercicio: crear tu propio entorno y entrenar un agente RL en el mismo. Analizar la convergencia, resultados con distintas funciones de recompensa e híper-parámetros. \n",
        "\n",
        "\n",
        "Algunas ideas:\n",
        "\n",
        "* Transformar GoLeftEnv en una grilla 2D, añadir paredes / trampas / agua.\n",
        "* Crear un entorno que juegue a algún juego como el ta-te-ti."
      ]
    },
    {
      "cell_type": "markdown",
      "metadata": {
        "id": "exel4Gr8oIJQ"
      },
      "source": [
        "# RL-baselines3-zoo\n",
        "\n",
        "Colección de agentes RL y herramientas útiles para ejecutarlos, evaluarlos e incluso hacer videos con ellos. Los agentes de este repo están preparados con la configuración requerida para los distintos tipos de entornos, incluyendo Atari, PyBullet y entornos clásicos, incluyendo configuraciones e híper-parámetros que producen buenas políticas para tales entornos.\n",
        "\n",
        "Esta librería ofrece un muy buen punto de partida para utilizar agentes / entornos personalizados, ya que ofrece una [interfaz](https://github.com/DLR-RM/rl-baselines3-zoo/blob/master/train.py) fácilmente adaptable a nuestras necesidades.\n",
        "\n",
        "Si se usan entornos personalizados con rl-baselines3-zoo, debe tenerse en cuenta que se deben definir todos los híper-parámetros de antemano sea al instanciar el agente o en la carpeta /rl-baselines3-zoo/hyperparams; de lo contrario arrojará error por no encontrar qué híper-parámetro usar."
      ]
    },
    {
      "cell_type": "markdown",
      "metadata": {
        "id": "uUUkScRxoIJQ"
      },
      "source": [
        "### Instalación de RLBaselinesZoo"
      ]
    },
    {
      "cell_type": "markdown",
      "metadata": {
        "id": "hiKPJUfdoIJQ"
      },
      "source": [
        "Desde Google Colab"
      ]
    },
    {
      "cell_type": "code",
      "metadata": {
        "id": "ZM_pM0mIoIJQ",
        "colab": {
          "base_uri": "https://localhost:8080/",
          "height": 0
        },
        "outputId": "8b3aabec-28d0-4caf-93e7-4f4d6cd8725f"
      },
      "source": [
        "#@title Instalación de RLBaselinesZoo (no modificar)\n",
        "\n",
        "if IN_COLAB:\n",
        "    !git clone --recursive https://github.com/DLR-RM/rl-baselines3-zoo\n",
        "    !cd rl-baselines3-zoo/\n",
        "    !apt-get install swig cmake ffmpeg\n",
        "    !pip install -r /content/rl-baselines3-zoo/requirements.txt"
      ],
      "execution_count": 14,
      "outputs": [
        {
          "output_type": "stream",
          "text": [
            "Cloning into 'rl-baselines3-zoo'...\n",
            "remote: Enumerating objects: 90, done.\u001b[K\n",
            "remote: Counting objects: 100% (90/90), done.\u001b[K\n",
            "remote: Compressing objects: 100% (64/64), done.\u001b[K\n",
            "remote: Total 1721 (delta 50), reused 47 (delta 23), pack-reused 1631\u001b[K\n",
            "Receiving objects: 100% (1721/1721), 378.93 KiB | 8.81 MiB/s, done.\n",
            "Resolving deltas: 100% (1211/1211), done.\n",
            "Submodule 'rl-trained-agents' (https://github.com/DLR-RM/rl-trained-agents) registered for path 'rl-trained-agents'\n",
            "Cloning into '/content/rl-baselines3-zoo/rl-trained-agents'...\n",
            "remote: Enumerating objects: 89, done.        \n",
            "remote: Counting objects: 100% (89/89), done.        \n",
            "remote: Compressing objects: 100% (73/73), done.        \n",
            "remote: Total 89 (delta 8), reused 87 (delta 6), pack-reused 0        \n",
            "Submodule path 'rl-trained-agents': checked out 'b10f6cf5a0ccc60940f48a70ac0c91e99a03dfc5'\n",
            "Reading package lists... Done\n",
            "Building dependency tree       \n",
            "Reading state information... Done\n",
            "cmake is already the newest version (3.10.2-1ubuntu2.18.04.1).\n",
            "ffmpeg is already the newest version (7:3.4.8-0ubuntu0.2).\n",
            "The following additional packages will be installed:\n",
            "  swig3.0\n",
            "Suggested packages:\n",
            "  swig-doc swig-examples swig3.0-examples swig3.0-doc\n",
            "The following NEW packages will be installed:\n",
            "  swig swig3.0\n",
            "0 upgraded, 2 newly installed, 0 to remove and 13 not upgraded.\n",
            "Need to get 1,100 kB of archives.\n",
            "After this operation, 5,822 kB of additional disk space will be used.\n",
            "Get:1 http://archive.ubuntu.com/ubuntu bionic/universe amd64 swig3.0 amd64 3.0.12-1 [1,094 kB]\n",
            "Get:2 http://archive.ubuntu.com/ubuntu bionic/universe amd64 swig amd64 3.0.12-1 [6,460 B]\n",
            "Fetched 1,100 kB in 1s (848 kB/s)\n",
            "Selecting previously unselected package swig3.0.\n",
            "(Reading database ... 146374 files and directories currently installed.)\n",
            "Preparing to unpack .../swig3.0_3.0.12-1_amd64.deb ...\n",
            "Unpacking swig3.0 (3.0.12-1) ...\n",
            "Selecting previously unselected package swig.\n",
            "Preparing to unpack .../swig_3.0.12-1_amd64.deb ...\n",
            "Unpacking swig (3.0.12-1) ...\n",
            "Setting up swig3.0 (3.0.12-1) ...\n",
            "Setting up swig (3.0.12-1) ...\n",
            "Processing triggers for man-db (2.8.3-2ubuntu0.1) ...\n",
            "Collecting stable-baselines3[docs,extra,tests]>=0.11.0a4\n",
            "\u001b[?25l  Downloading https://files.pythonhosted.org/packages/5d/02/8e2cf84849acfa80ed2d2369cefaf62cfe0c87730eeb5a1969109110011a/stable_baselines3-0.11.0a4-py3-none-any.whl (149kB)\n",
            "\u001b[K     |████████████████████████████████| 153kB 9.6MB/s \n",
            "\u001b[?25hCollecting box2d-py==2.3.8\n",
            "\u001b[?25l  Downloading https://files.pythonhosted.org/packages/06/bd/6cdc3fd994b0649dcf5d9bad85bd9e26172308bbe9a421bfc6fdbf5081a6/box2d_py-2.3.8-cp36-cp36m-manylinux1_x86_64.whl (448kB)\n",
            "\u001b[K     |████████████████████████████████| 450kB 14.3MB/s \n",
            "\u001b[?25hCollecting pybullet\n",
            "\u001b[?25l  Downloading https://files.pythonhosted.org/packages/91/39/c56526c130f092d0123c471c1a749edf45cb74e97b4cdf6a5230a0ce4054/pybullet-3.0.8-cp36-cp36m-manylinux1_x86_64.whl (76.6MB)\n",
            "\u001b[K     |████████████████████████████████| 76.6MB 52kB/s \n",
            "\u001b[?25hCollecting gym-minigrid\n",
            "\u001b[?25l  Downloading https://files.pythonhosted.org/packages/9c/d2/e2b0fc791c9d22c70ea48df762133d7ad930ea09e1bfa95a24a1c86ddf18/gym_minigrid-1.0.2-py3-none-any.whl (47kB)\n",
            "\u001b[K     |████████████████████████████████| 51kB 6.5MB/s \n",
            "\u001b[?25hCollecting scikit-optimize\n",
            "\u001b[?25l  Downloading https://files.pythonhosted.org/packages/8b/03/be33e89f55866065a02e515c5b319304a801a9f1027a9b311a9b1d1f8dc7/scikit_optimize-0.8.1-py2.py3-none-any.whl (101kB)\n",
            "\u001b[K     |████████████████████████████████| 102kB 12.5MB/s \n",
            "\u001b[?25hCollecting optuna\n",
            "\u001b[?25l  Downloading https://files.pythonhosted.org/packages/59/b4/a1a80252cef3d8f5a0acdf6e678d6dc07e2e6964ee46d0453a2ae1af1ecb/optuna-2.4.0-py3-none-any.whl (282kB)\n",
            "\u001b[K     |████████████████████████████████| 286kB 55.3MB/s \n",
            "\u001b[?25hCollecting pytablewriter\n",
            "\u001b[?25l  Downloading https://files.pythonhosted.org/packages/fd/e2/62b208cdb8771dee1849bd2b4ed129284e1efff7669985697e4c124c1000/pytablewriter-0.58.0-py3-none-any.whl (96kB)\n",
            "\u001b[K     |████████████████████████████████| 102kB 12.7MB/s \n",
            "\u001b[?25hRequirement already satisfied: seaborn in /usr/local/lib/python3.6/dist-packages (from -r /content/rl-baselines3-zoo/requirements.txt (line 8)) (0.11.1)\n",
            "Collecting pyyaml>=5.1\n",
            "\u001b[?25l  Downloading https://files.pythonhosted.org/packages/7a/5b/bc0b5ab38247bba158504a410112b6c03f153c652734ece1849749e5f518/PyYAML-5.4.1-cp36-cp36m-manylinux1_x86_64.whl (640kB)\n",
            "\u001b[K     |████████████████████████████████| 645kB 32.7MB/s \n",
            "\u001b[?25hCollecting sb3-contrib>=0.11.0a4\n",
            "  Downloading https://files.pythonhosted.org/packages/ba/55/fde237cc12a1073e4d7170be003f4417c9f54ba7a11ffcac86d13d74a433/sb3_contrib-0.11.0a5-py3-none-any.whl\n",
            "Requirement already satisfied: torch>=1.4.0 in /usr/local/lib/python3.6/dist-packages (from stable-baselines3[docs,extra,tests]>=0.11.0a4->-r /content/rl-baselines3-zoo/requirements.txt (line 1)) (1.7.0+cu101)\n",
            "Requirement already satisfied: gym>=0.17 in /usr/local/lib/python3.6/dist-packages (from stable-baselines3[docs,extra,tests]>=0.11.0a4->-r /content/rl-baselines3-zoo/requirements.txt (line 1)) (0.17.3)\n",
            "Requirement already satisfied: numpy in /usr/local/lib/python3.6/dist-packages (from stable-baselines3[docs,extra,tests]>=0.11.0a4->-r /content/rl-baselines3-zoo/requirements.txt (line 1)) (1.19.5)\n",
            "Requirement already satisfied: matplotlib in /usr/local/lib/python3.6/dist-packages (from stable-baselines3[docs,extra,tests]>=0.11.0a4->-r /content/rl-baselines3-zoo/requirements.txt (line 1)) (3.2.2)\n",
            "Requirement already satisfied: cloudpickle in /usr/local/lib/python3.6/dist-packages (from stable-baselines3[docs,extra,tests]>=0.11.0a4->-r /content/rl-baselines3-zoo/requirements.txt (line 1)) (1.3.0)\n",
            "Requirement already satisfied: pandas in /usr/local/lib/python3.6/dist-packages (from stable-baselines3[docs,extra,tests]>=0.11.0a4->-r /content/rl-baselines3-zoo/requirements.txt (line 1)) (1.1.5)\n",
            "Requirement already satisfied: sphinx; extra == \"docs\" in /usr/local/lib/python3.6/dist-packages (from stable-baselines3[docs,extra,tests]>=0.11.0a4->-r /content/rl-baselines3-zoo/requirements.txt (line 1)) (1.8.5)\n",
            "Requirement already satisfied: sphinx-autodoc-typehints; extra == \"docs\" in /usr/local/lib/python3.6/dist-packages (from stable-baselines3[docs,extra,tests]>=0.11.0a4->-r /content/rl-baselines3-zoo/requirements.txt (line 1)) (1.11.1)\n",
            "Requirement already satisfied: sphinx-rtd-theme; extra == \"docs\" in /usr/local/lib/python3.6/dist-packages (from stable-baselines3[docs,extra,tests]>=0.11.0a4->-r /content/rl-baselines3-zoo/requirements.txt (line 1)) (0.5.1)\n",
            "Requirement already satisfied: sphinx-autobuild; extra == \"docs\" in /usr/local/lib/python3.6/dist-packages (from stable-baselines3[docs,extra,tests]>=0.11.0a4->-r /content/rl-baselines3-zoo/requirements.txt (line 1)) (2020.9.1)\n",
            "Collecting sphinxcontrib.spelling; extra == \"docs\"\n",
            "  Using cached https://files.pythonhosted.org/packages/f6/62/796d8ae02732c162f8d53406f520c9f3c886a9ab24de4ef6995404c2b1d8/sphinxcontrib_spelling-7.1.0-py3-none-any.whl\n",
            "Requirement already satisfied: tensorboard>=2.2.0; extra == \"extra\" in /usr/local/lib/python3.6/dist-packages (from stable-baselines3[docs,extra,tests]>=0.11.0a4->-r /content/rl-baselines3-zoo/requirements.txt (line 1)) (2.4.1)\n",
            "Requirement already satisfied: atari-py~=0.2.0; extra == \"extra\" in /usr/local/lib/python3.6/dist-packages (from stable-baselines3[docs,extra,tests]>=0.11.0a4->-r /content/rl-baselines3-zoo/requirements.txt (line 1)) (0.2.6)\n",
            "Requirement already satisfied: pillow; extra == \"extra\" in /usr/local/lib/python3.6/dist-packages (from stable-baselines3[docs,extra,tests]>=0.11.0a4->-r /content/rl-baselines3-zoo/requirements.txt (line 1)) (7.0.0)\n",
            "Requirement already satisfied: opencv-python; extra == \"extra\" in /usr/local/lib/python3.6/dist-packages (from stable-baselines3[docs,extra,tests]>=0.11.0a4->-r /content/rl-baselines3-zoo/requirements.txt (line 1)) (4.1.2.30)\n",
            "Requirement already satisfied: psutil; extra == \"extra\" in /usr/local/lib/python3.6/dist-packages (from stable-baselines3[docs,extra,tests]>=0.11.0a4->-r /content/rl-baselines3-zoo/requirements.txt (line 1)) (5.4.8)\n",
            "Requirement already satisfied: pytype; extra == \"tests\" in /usr/local/lib/python3.6/dist-packages (from stable-baselines3[docs,extra,tests]>=0.11.0a4->-r /content/rl-baselines3-zoo/requirements.txt (line 1)) (2021.1.21)\n",
            "Requirement already satisfied: pytest-env; extra == \"tests\" in /usr/local/lib/python3.6/dist-packages (from stable-baselines3[docs,extra,tests]>=0.11.0a4->-r /content/rl-baselines3-zoo/requirements.txt (line 1)) (0.6.2)\n",
            "Requirement already satisfied: flake8>=3.8; extra == \"tests\" in /usr/local/lib/python3.6/dist-packages (from stable-baselines3[docs,extra,tests]>=0.11.0a4->-r /content/rl-baselines3-zoo/requirements.txt (line 1)) (3.8.4)\n",
            "Requirement already satisfied: pytest-xdist; extra == \"tests\" in /usr/local/lib/python3.6/dist-packages (from stable-baselines3[docs,extra,tests]>=0.11.0a4->-r /content/rl-baselines3-zoo/requirements.txt (line 1)) (2.2.0)\n",
            "Requirement already satisfied: pytest-cov; extra == \"tests\" in /usr/local/lib/python3.6/dist-packages (from stable-baselines3[docs,extra,tests]>=0.11.0a4->-r /content/rl-baselines3-zoo/requirements.txt (line 1)) (2.11.1)\n",
            "Requirement already satisfied: isort>=5.0; extra == \"tests\" in /usr/local/lib/python3.6/dist-packages (from stable-baselines3[docs,extra,tests]>=0.11.0a4->-r /content/rl-baselines3-zoo/requirements.txt (line 1)) (5.7.0)\n",
            "Requirement already satisfied: black; extra == \"tests\" in /usr/local/lib/python3.6/dist-packages (from stable-baselines3[docs,extra,tests]>=0.11.0a4->-r /content/rl-baselines3-zoo/requirements.txt (line 1)) (20.8b1)\n",
            "Requirement already satisfied: pytest; extra == \"tests\" in /usr/local/lib/python3.6/dist-packages (from stable-baselines3[docs,extra,tests]>=0.11.0a4->-r /content/rl-baselines3-zoo/requirements.txt (line 1)) (3.6.4)\n",
            "Requirement already satisfied: scipy>=0.19.1 in /usr/local/lib/python3.6/dist-packages (from scikit-optimize->-r /content/rl-baselines3-zoo/requirements.txt (line 5)) (1.4.1)\n",
            "Requirement already satisfied: scikit-learn>=0.20.0 in /usr/local/lib/python3.6/dist-packages (from scikit-optimize->-r /content/rl-baselines3-zoo/requirements.txt (line 5)) (0.22.2.post1)\n",
            "Requirement already satisfied: joblib>=0.11 in /usr/local/lib/python3.6/dist-packages (from scikit-optimize->-r /content/rl-baselines3-zoo/requirements.txt (line 5)) (1.0.0)\n",
            "Collecting pyaml>=16.9\n",
            "  Downloading https://files.pythonhosted.org/packages/15/c4/1310a054d33abc318426a956e7d6df0df76a6ddfa9c66f6310274fb75d42/pyaml-20.4.0-py2.py3-none-any.whl\n",
            "Requirement already satisfied: sqlalchemy>=1.1.0 in /usr/local/lib/python3.6/dist-packages (from optuna->-r /content/rl-baselines3-zoo/requirements.txt (line 6)) (1.3.22)\n",
            "Requirement already satisfied: packaging>=20.0 in /usr/local/lib/python3.6/dist-packages (from optuna->-r /content/rl-baselines3-zoo/requirements.txt (line 6)) (20.8)\n",
            "Collecting cliff\n",
            "\u001b[?25l  Downloading https://files.pythonhosted.org/packages/0f/8f/3c74fa4b6c3db1051b495385f5302fc5d5aa0f180d40ce3e9a13c82f8c82/cliff-3.6.0-py3-none-any.whl (79kB)\n",
            "\u001b[K     |████████████████████████████████| 81kB 10.8MB/s \n",
            "\u001b[?25hCollecting cmaes>=0.6.0\n",
            "  Downloading https://files.pythonhosted.org/packages/8d/3c/06c76ec8b54b9b1fad7f35e903fd25010fe3e0d41bd94cea5e6f12e0d651/cmaes-0.7.0-py3-none-any.whl\n",
            "Requirement already satisfied: tqdm in /usr/local/lib/python3.6/dist-packages (from optuna->-r /content/rl-baselines3-zoo/requirements.txt (line 6)) (4.41.1)\n",
            "Collecting alembic\n",
            "\u001b[?25l  Downloading https://files.pythonhosted.org/packages/ea/c3/b9147464dba5e5f1279fb46ddda3bef28c8d3594599e07cf0ae67d8c7c01/alembic-1.5.2-py2.py3-none-any.whl (155kB)\n",
            "\u001b[K     |████████████████████████████████| 163kB 60.0MB/s \n",
            "\u001b[?25hCollecting colorlog\n",
            "  Downloading https://files.pythonhosted.org/packages/5e/39/0230290df0519d528d8d0ffdfd900150ed24e0076d13b1f19e279444aab1/colorlog-4.7.2-py2.py3-none-any.whl\n",
            "Collecting typepy[datetime]<2,>=1.1.1\n",
            "  Downloading https://files.pythonhosted.org/packages/b4/09/ba18047bc809e1622ca62c7b7848f027d7d41543098282242192e56885da/typepy-1.1.2-py3-none-any.whl\n",
            "Collecting msgfy<1,>=0.1.0\n",
            "  Downloading https://files.pythonhosted.org/packages/48/52/c4441871514276e7c4cb51c122e663b5ef19dc20030f6ab7723071118464/msgfy-0.1.0-py3-none-any.whl\n",
            "Collecting DataProperty<2,>=0.50.0\n",
            "  Downloading https://files.pythonhosted.org/packages/b9/2d/e5413965af992f4e489b6f5eebf52db9c17953c772962d1223d434b05cef/DataProperty-0.50.0-py3-none-any.whl\n",
            "Collecting tcolorpy<1,>=0.0.5\n",
            "  Downloading https://files.pythonhosted.org/packages/02/51/bbb0cc7f30771c285c354634bf83653a2871d58c6923bd29bfddeb9c9cb1/tcolorpy-0.0.8-py3-none-any.whl\n",
            "Collecting mbstrdecoder<2,>=1.0.0\n",
            "  Downloading https://files.pythonhosted.org/packages/e8/f6/0e6bb50c3c6380a4982c87d80e70b2f6e366523a57a0c58594aea472206d/mbstrdecoder-1.0.1-py3-none-any.whl\n",
            "Requirement already satisfied: setuptools>=38.3.0 in /usr/local/lib/python3.6/dist-packages (from pytablewriter->-r /content/rl-baselines3-zoo/requirements.txt (line 7)) (51.3.3)\n",
            "Collecting tabledata<2,>=1.1.3\n",
            "  Downloading https://files.pythonhosted.org/packages/df/b2/264d9707502f0259a3eb82ec48064df98b1735d5a5f315b6a1d7105263f4/tabledata-1.1.3-py3-none-any.whl\n",
            "Collecting pathvalidate<3,>=2.3.0\n",
            "  Downloading https://files.pythonhosted.org/packages/97/d1/096e837c64c21e1ac046fa6333f06979e1139d0e7b2c46da63d9484956e6/pathvalidate-2.3.2-py3-none-any.whl\n",
            "Requirement already satisfied: future in /usr/local/lib/python3.6/dist-packages (from torch>=1.4.0->stable-baselines3[docs,extra,tests]>=0.11.0a4->-r /content/rl-baselines3-zoo/requirements.txt (line 1)) (0.16.0)\n",
            "Requirement already satisfied: typing-extensions in /usr/local/lib/python3.6/dist-packages (from torch>=1.4.0->stable-baselines3[docs,extra,tests]>=0.11.0a4->-r /content/rl-baselines3-zoo/requirements.txt (line 1)) (3.7.4.3)\n",
            "Requirement already satisfied: dataclasses in /usr/local/lib/python3.6/dist-packages (from torch>=1.4.0->stable-baselines3[docs,extra,tests]>=0.11.0a4->-r /content/rl-baselines3-zoo/requirements.txt (line 1)) (0.8)\n",
            "Requirement already satisfied: pyglet<=1.5.0,>=1.4.0 in /usr/local/lib/python3.6/dist-packages (from gym>=0.17->stable-baselines3[docs,extra,tests]>=0.11.0a4->-r /content/rl-baselines3-zoo/requirements.txt (line 1)) (1.5.0)\n",
            "Requirement already satisfied: kiwisolver>=1.0.1 in /usr/local/lib/python3.6/dist-packages (from matplotlib->stable-baselines3[docs,extra,tests]>=0.11.0a4->-r /content/rl-baselines3-zoo/requirements.txt (line 1)) (1.3.1)\n",
            "Requirement already satisfied: python-dateutil>=2.1 in /usr/local/lib/python3.6/dist-packages (from matplotlib->stable-baselines3[docs,extra,tests]>=0.11.0a4->-r /content/rl-baselines3-zoo/requirements.txt (line 1)) (2.8.1)\n",
            "Requirement already satisfied: cycler>=0.10 in /usr/local/lib/python3.6/dist-packages (from matplotlib->stable-baselines3[docs,extra,tests]>=0.11.0a4->-r /content/rl-baselines3-zoo/requirements.txt (line 1)) (0.10.0)\n",
            "Requirement already satisfied: pyparsing!=2.0.4,!=2.1.2,!=2.1.6,>=2.0.1 in /usr/local/lib/python3.6/dist-packages (from matplotlib->stable-baselines3[docs,extra,tests]>=0.11.0a4->-r /content/rl-baselines3-zoo/requirements.txt (line 1)) (2.4.7)\n",
            "Requirement already satisfied: pytz>=2017.2 in /usr/local/lib/python3.6/dist-packages (from pandas->stable-baselines3[docs,extra,tests]>=0.11.0a4->-r /content/rl-baselines3-zoo/requirements.txt (line 1)) (2018.9)\n",
            "Requirement already satisfied: Jinja2>=2.3 in /usr/local/lib/python3.6/dist-packages (from sphinx; extra == \"docs\"->stable-baselines3[docs,extra,tests]>=0.11.0a4->-r /content/rl-baselines3-zoo/requirements.txt (line 1)) (2.11.2)\n",
            "Requirement already satisfied: alabaster<0.8,>=0.7 in /usr/local/lib/python3.6/dist-packages (from sphinx; extra == \"docs\"->stable-baselines3[docs,extra,tests]>=0.11.0a4->-r /content/rl-baselines3-zoo/requirements.txt (line 1)) (0.7.12)\n",
            "Requirement already satisfied: Pygments>=2.0 in /usr/local/lib/python3.6/dist-packages (from sphinx; extra == \"docs\"->stable-baselines3[docs,extra,tests]>=0.11.0a4->-r /content/rl-baselines3-zoo/requirements.txt (line 1)) (2.6.1)\n",
            "Requirement already satisfied: requests>=2.0.0 in /usr/local/lib/python3.6/dist-packages (from sphinx; extra == \"docs\"->stable-baselines3[docs,extra,tests]>=0.11.0a4->-r /content/rl-baselines3-zoo/requirements.txt (line 1)) (2.23.0)\n",
            "Requirement already satisfied: babel!=2.0,>=1.3 in /usr/local/lib/python3.6/dist-packages (from sphinx; extra == \"docs\"->stable-baselines3[docs,extra,tests]>=0.11.0a4->-r /content/rl-baselines3-zoo/requirements.txt (line 1)) (2.9.0)\n",
            "Requirement already satisfied: sphinxcontrib-websupport in /usr/local/lib/python3.6/dist-packages (from sphinx; extra == \"docs\"->stable-baselines3[docs,extra,tests]>=0.11.0a4->-r /content/rl-baselines3-zoo/requirements.txt (line 1)) (1.2.4)\n",
            "Requirement already satisfied: six>=1.5 in /usr/local/lib/python3.6/dist-packages (from sphinx; extra == \"docs\"->stable-baselines3[docs,extra,tests]>=0.11.0a4->-r /content/rl-baselines3-zoo/requirements.txt (line 1)) (1.15.0)\n",
            "Requirement already satisfied: snowballstemmer>=1.1 in /usr/local/lib/python3.6/dist-packages (from sphinx; extra == \"docs\"->stable-baselines3[docs,extra,tests]>=0.11.0a4->-r /content/rl-baselines3-zoo/requirements.txt (line 1)) (2.1.0)\n",
            "Requirement already satisfied: docutils>=0.11 in /usr/local/lib/python3.6/dist-packages (from sphinx; extra == \"docs\"->stable-baselines3[docs,extra,tests]>=0.11.0a4->-r /content/rl-baselines3-zoo/requirements.txt (line 1)) (0.16)\n",
            "Requirement already satisfied: imagesize in /usr/local/lib/python3.6/dist-packages (from sphinx; extra == \"docs\"->stable-baselines3[docs,extra,tests]>=0.11.0a4->-r /content/rl-baselines3-zoo/requirements.txt (line 1)) (1.2.0)\n",
            "Requirement already satisfied: livereload in /usr/local/lib/python3.6/dist-packages (from sphinx-autobuild; extra == \"docs\"->stable-baselines3[docs,extra,tests]>=0.11.0a4->-r /content/rl-baselines3-zoo/requirements.txt (line 1)) (2.6.3)\n",
            "Requirement already satisfied: PyEnchant>=3.1.1 in /usr/local/lib/python3.6/dist-packages (from sphinxcontrib.spelling; extra == \"docs\"->stable-baselines3[docs,extra,tests]>=0.11.0a4->-r /content/rl-baselines3-zoo/requirements.txt (line 1)) (3.2.0)\n",
            "Requirement already satisfied: importlib-metadata>=1.7.0; python_version < \"3.8\" in /usr/local/lib/python3.6/dist-packages (from sphinxcontrib.spelling; extra == \"docs\"->stable-baselines3[docs,extra,tests]>=0.11.0a4->-r /content/rl-baselines3-zoo/requirements.txt (line 1)) (3.4.0)\n",
            "Requirement already satisfied: protobuf>=3.6.0 in /usr/local/lib/python3.6/dist-packages (from tensorboard>=2.2.0; extra == \"extra\"->stable-baselines3[docs,extra,tests]>=0.11.0a4->-r /content/rl-baselines3-zoo/requirements.txt (line 1)) (3.12.4)\n",
            "Requirement already satisfied: wheel>=0.26; python_version >= \"3\" in /usr/local/lib/python3.6/dist-packages (from tensorboard>=2.2.0; extra == \"extra\"->stable-baselines3[docs,extra,tests]>=0.11.0a4->-r /content/rl-baselines3-zoo/requirements.txt (line 1)) (0.36.2)\n",
            "Requirement already satisfied: absl-py>=0.4 in /usr/local/lib/python3.6/dist-packages (from tensorboard>=2.2.0; extra == \"extra\"->stable-baselines3[docs,extra,tests]>=0.11.0a4->-r /content/rl-baselines3-zoo/requirements.txt (line 1)) (0.10.0)\n",
            "Requirement already satisfied: google-auth<2,>=1.6.3 in /usr/local/lib/python3.6/dist-packages (from tensorboard>=2.2.0; extra == \"extra\"->stable-baselines3[docs,extra,tests]>=0.11.0a4->-r /content/rl-baselines3-zoo/requirements.txt (line 1)) (1.17.2)\n",
            "Requirement already satisfied: google-auth-oauthlib<0.5,>=0.4.1 in /usr/local/lib/python3.6/dist-packages (from tensorboard>=2.2.0; extra == \"extra\"->stable-baselines3[docs,extra,tests]>=0.11.0a4->-r /content/rl-baselines3-zoo/requirements.txt (line 1)) (0.4.2)\n",
            "Requirement already satisfied: werkzeug>=0.11.15 in /usr/local/lib/python3.6/dist-packages (from tensorboard>=2.2.0; extra == \"extra\"->stable-baselines3[docs,extra,tests]>=0.11.0a4->-r /content/rl-baselines3-zoo/requirements.txt (line 1)) (1.0.1)\n",
            "Requirement already satisfied: grpcio>=1.24.3 in /usr/local/lib/python3.6/dist-packages (from tensorboard>=2.2.0; extra == \"extra\"->stable-baselines3[docs,extra,tests]>=0.11.0a4->-r /content/rl-baselines3-zoo/requirements.txt (line 1)) (1.32.0)\n",
            "Requirement already satisfied: markdown>=2.6.8 in /usr/local/lib/python3.6/dist-packages (from tensorboard>=2.2.0; extra == \"extra\"->stable-baselines3[docs,extra,tests]>=0.11.0a4->-r /content/rl-baselines3-zoo/requirements.txt (line 1)) (3.3.3)\n",
            "Requirement already satisfied: tensorboard-plugin-wit>=1.6.0 in /usr/local/lib/python3.6/dist-packages (from tensorboard>=2.2.0; extra == \"extra\"->stable-baselines3[docs,extra,tests]>=0.11.0a4->-r /content/rl-baselines3-zoo/requirements.txt (line 1)) (1.8.0)\n",
            "Requirement already satisfied: ninja>=1.10.0.post2 in /usr/local/lib/python3.6/dist-packages (from pytype; extra == \"tests\"->stable-baselines3[docs,extra,tests]>=0.11.0a4->-r /content/rl-baselines3-zoo/requirements.txt (line 1)) (1.10.0.post2)\n",
            "Requirement already satisfied: typed-ast in /usr/local/lib/python3.6/dist-packages (from pytype; extra == \"tests\"->stable-baselines3[docs,extra,tests]>=0.11.0a4->-r /content/rl-baselines3-zoo/requirements.txt (line 1)) (1.4.2)\n",
            "Requirement already satisfied: attrs in /usr/local/lib/python3.6/dist-packages (from pytype; extra == \"tests\"->stable-baselines3[docs,extra,tests]>=0.11.0a4->-r /content/rl-baselines3-zoo/requirements.txt (line 1)) (20.3.0)\n",
            "Requirement already satisfied: importlab>=0.6.1 in /usr/local/lib/python3.6/dist-packages (from pytype; extra == \"tests\"->stable-baselines3[docs,extra,tests]>=0.11.0a4->-r /content/rl-baselines3-zoo/requirements.txt (line 1)) (0.6.1)\n",
            "Requirement already satisfied: pyflakes<2.3.0,>=2.2.0 in /usr/local/lib/python3.6/dist-packages (from flake8>=3.8; extra == \"tests\"->stable-baselines3[docs,extra,tests]>=0.11.0a4->-r /content/rl-baselines3-zoo/requirements.txt (line 1)) (2.2.0)\n",
            "Requirement already satisfied: mccabe<0.7.0,>=0.6.0 in /usr/local/lib/python3.6/dist-packages (from flake8>=3.8; extra == \"tests\"->stable-baselines3[docs,extra,tests]>=0.11.0a4->-r /content/rl-baselines3-zoo/requirements.txt (line 1)) (0.6.1)\n",
            "Requirement already satisfied: pycodestyle<2.7.0,>=2.6.0a1 in /usr/local/lib/python3.6/dist-packages (from flake8>=3.8; extra == \"tests\"->stable-baselines3[docs,extra,tests]>=0.11.0a4->-r /content/rl-baselines3-zoo/requirements.txt (line 1)) (2.6.0)\n",
            "Requirement already satisfied: pytest-forked in /usr/local/lib/python3.6/dist-packages (from pytest-xdist; extra == \"tests\"->stable-baselines3[docs,extra,tests]>=0.11.0a4->-r /content/rl-baselines3-zoo/requirements.txt (line 1)) (1.3.0)\n",
            "Requirement already satisfied: execnet>=1.1 in /usr/local/lib/python3.6/dist-packages (from pytest-xdist; extra == \"tests\"->stable-baselines3[docs,extra,tests]>=0.11.0a4->-r /content/rl-baselines3-zoo/requirements.txt (line 1)) (1.8.0)\n",
            "Requirement already satisfied: coverage>=5.2.1 in /usr/local/lib/python3.6/dist-packages (from pytest-cov; extra == \"tests\"->stable-baselines3[docs,extra,tests]>=0.11.0a4->-r /content/rl-baselines3-zoo/requirements.txt (line 1)) (5.4)\n",
            "Requirement already satisfied: click>=7.1.2 in /usr/local/lib/python3.6/dist-packages (from black; extra == \"tests\"->stable-baselines3[docs,extra,tests]>=0.11.0a4->-r /content/rl-baselines3-zoo/requirements.txt (line 1)) (7.1.2)\n",
            "Requirement already satisfied: appdirs in /usr/local/lib/python3.6/dist-packages (from black; extra == \"tests\"->stable-baselines3[docs,extra,tests]>=0.11.0a4->-r /content/rl-baselines3-zoo/requirements.txt (line 1)) (1.4.4)\n",
            "Requirement already satisfied: mypy-extensions>=0.4.3 in /usr/local/lib/python3.6/dist-packages (from black; extra == \"tests\"->stable-baselines3[docs,extra,tests]>=0.11.0a4->-r /content/rl-baselines3-zoo/requirements.txt (line 1)) (0.4.3)\n",
            "Requirement already satisfied: toml>=0.10.1 in /usr/local/lib/python3.6/dist-packages (from black; extra == \"tests\"->stable-baselines3[docs,extra,tests]>=0.11.0a4->-r /content/rl-baselines3-zoo/requirements.txt (line 1)) (0.10.2)\n",
            "Requirement already satisfied: pathspec<1,>=0.6 in /usr/local/lib/python3.6/dist-packages (from black; extra == \"tests\"->stable-baselines3[docs,extra,tests]>=0.11.0a4->-r /content/rl-baselines3-zoo/requirements.txt (line 1)) (0.8.1)\n",
            "Requirement already satisfied: regex>=2020.1.8 in /usr/local/lib/python3.6/dist-packages (from black; extra == \"tests\"->stable-baselines3[docs,extra,tests]>=0.11.0a4->-r /content/rl-baselines3-zoo/requirements.txt (line 1)) (2020.11.13)\n",
            "Requirement already satisfied: py>=1.5.0 in /usr/local/lib/python3.6/dist-packages (from pytest; extra == \"tests\"->stable-baselines3[docs,extra,tests]>=0.11.0a4->-r /content/rl-baselines3-zoo/requirements.txt (line 1)) (1.10.0)\n",
            "Requirement already satisfied: atomicwrites>=1.0 in /usr/local/lib/python3.6/dist-packages (from pytest; extra == \"tests\"->stable-baselines3[docs,extra,tests]>=0.11.0a4->-r /content/rl-baselines3-zoo/requirements.txt (line 1)) (1.4.0)\n",
            "Requirement already satisfied: more-itertools>=4.0.0 in /usr/local/lib/python3.6/dist-packages (from pytest; extra == \"tests\"->stable-baselines3[docs,extra,tests]>=0.11.0a4->-r /content/rl-baselines3-zoo/requirements.txt (line 1)) (8.6.0)\n",
            "Requirement already satisfied: pluggy<0.8,>=0.5 in /usr/local/lib/python3.6/dist-packages (from pytest; extra == \"tests\"->stable-baselines3[docs,extra,tests]>=0.11.0a4->-r /content/rl-baselines3-zoo/requirements.txt (line 1)) (0.7.1)\n",
            "Collecting PrettyTable<0.8,>=0.7.2\n",
            "  Downloading https://files.pythonhosted.org/packages/ef/30/4b0746848746ed5941f052479e7c23d2b56d174b82f4fd34a25e389831f5/prettytable-0.7.2.tar.bz2\n",
            "Collecting pbr!=2.1.0,>=2.0.0\n",
            "\u001b[?25l  Downloading https://files.pythonhosted.org/packages/fb/48/69046506f6ac61c1eaa9a0d42d22d54673b69e176d30ca98e3f61513e980/pbr-5.5.1-py2.py3-none-any.whl (106kB)\n",
            "\u001b[K     |████████████████████████████████| 112kB 46.7MB/s \n",
            "\u001b[?25hCollecting stevedore>=2.0.1\n",
            "\u001b[?25l  Downloading https://files.pythonhosted.org/packages/d4/49/b602307aeac3df3384ff1fcd05da9c0376c622a6c48bb5325f28ab165b57/stevedore-3.3.0-py3-none-any.whl (49kB)\n",
            "\u001b[K     |████████████████████████████████| 51kB 7.7MB/s \n",
            "\u001b[?25hCollecting cmd2!=0.8.3,>=0.8.0\n",
            "\u001b[?25l  Downloading https://files.pythonhosted.org/packages/27/54/af6e2703f064485d717cb311d3f9440cd302a823ba6d80a020b59eae166d/cmd2-1.4.0-py3-none-any.whl (133kB)\n",
            "\u001b[K     |████████████████████████████████| 133kB 57.4MB/s \n",
            "\u001b[?25hCollecting Mako\n",
            "\u001b[?25l  Downloading https://files.pythonhosted.org/packages/5c/db/2d2d88b924aa4674a080aae83b59ea19d593250bfe5ed789947c21736785/Mako-1.1.4.tar.gz (479kB)\n",
            "\u001b[K     |████████████████████████████████| 481kB 50.8MB/s \n",
            "\u001b[?25hCollecting python-editor>=0.3\n",
            "  Downloading https://files.pythonhosted.org/packages/c6/d3/201fc3abe391bbae6606e6f1d598c15d367033332bd54352b12f35513717/python_editor-1.0.4-py3-none-any.whl\n",
            "Requirement already satisfied: chardet<5,>=3.0.4 in /usr/local/lib/python3.6/dist-packages (from mbstrdecoder<2,>=1.0.0->pytablewriter->-r /content/rl-baselines3-zoo/requirements.txt (line 7)) (3.0.4)\n",
            "Requirement already satisfied: MarkupSafe>=0.23 in /usr/local/lib/python3.6/dist-packages (from Jinja2>=2.3->sphinx; extra == \"docs\"->stable-baselines3[docs,extra,tests]>=0.11.0a4->-r /content/rl-baselines3-zoo/requirements.txt (line 1)) (1.1.1)\n",
            "Requirement already satisfied: urllib3!=1.25.0,!=1.25.1,<1.26,>=1.21.1 in /usr/local/lib/python3.6/dist-packages (from requests>=2.0.0->sphinx; extra == \"docs\"->stable-baselines3[docs,extra,tests]>=0.11.0a4->-r /content/rl-baselines3-zoo/requirements.txt (line 1)) (1.24.3)\n",
            "Requirement already satisfied: idna<3,>=2.5 in /usr/local/lib/python3.6/dist-packages (from requests>=2.0.0->sphinx; extra == \"docs\"->stable-baselines3[docs,extra,tests]>=0.11.0a4->-r /content/rl-baselines3-zoo/requirements.txt (line 1)) (2.10)\n",
            "Requirement already satisfied: certifi>=2017.4.17 in /usr/local/lib/python3.6/dist-packages (from requests>=2.0.0->sphinx; extra == \"docs\"->stable-baselines3[docs,extra,tests]>=0.11.0a4->-r /content/rl-baselines3-zoo/requirements.txt (line 1)) (2020.12.5)\n",
            "Requirement already satisfied: sphinxcontrib-serializinghtml in /usr/local/lib/python3.6/dist-packages (from sphinxcontrib-websupport->sphinx; extra == \"docs\"->stable-baselines3[docs,extra,tests]>=0.11.0a4->-r /content/rl-baselines3-zoo/requirements.txt (line 1)) (1.1.4)\n",
            "Requirement already satisfied: tornado; python_version > \"2.7\" in /usr/local/lib/python3.6/dist-packages (from livereload->sphinx-autobuild; extra == \"docs\"->stable-baselines3[docs,extra,tests]>=0.11.0a4->-r /content/rl-baselines3-zoo/requirements.txt (line 1)) (5.1.1)\n",
            "Requirement already satisfied: zipp>=0.5 in /usr/local/lib/python3.6/dist-packages (from importlib-metadata>=1.7.0; python_version < \"3.8\"->sphinxcontrib.spelling; extra == \"docs\"->stable-baselines3[docs,extra,tests]>=0.11.0a4->-r /content/rl-baselines3-zoo/requirements.txt (line 1)) (3.4.0)\n",
            "Requirement already satisfied: pyasn1-modules>=0.2.1 in /usr/local/lib/python3.6/dist-packages (from google-auth<2,>=1.6.3->tensorboard>=2.2.0; extra == \"extra\"->stable-baselines3[docs,extra,tests]>=0.11.0a4->-r /content/rl-baselines3-zoo/requirements.txt (line 1)) (0.2.8)\n",
            "Requirement already satisfied: cachetools<5.0,>=2.0.0 in /usr/local/lib/python3.6/dist-packages (from google-auth<2,>=1.6.3->tensorboard>=2.2.0; extra == \"extra\"->stable-baselines3[docs,extra,tests]>=0.11.0a4->-r /content/rl-baselines3-zoo/requirements.txt (line 1)) (4.2.1)\n",
            "Requirement already satisfied: rsa<5,>=3.1.4; python_version >= \"3\" in /usr/local/lib/python3.6/dist-packages (from google-auth<2,>=1.6.3->tensorboard>=2.2.0; extra == \"extra\"->stable-baselines3[docs,extra,tests]>=0.11.0a4->-r /content/rl-baselines3-zoo/requirements.txt (line 1)) (4.7)\n",
            "Requirement already satisfied: requests-oauthlib>=0.7.0 in /usr/local/lib/python3.6/dist-packages (from google-auth-oauthlib<0.5,>=0.4.1->tensorboard>=2.2.0; extra == \"extra\"->stable-baselines3[docs,extra,tests]>=0.11.0a4->-r /content/rl-baselines3-zoo/requirements.txt (line 1)) (1.3.0)\n",
            "Requirement already satisfied: networkx>=2 in /usr/local/lib/python3.6/dist-packages (from importlab>=0.6.1->pytype; extra == \"tests\"->stable-baselines3[docs,extra,tests]>=0.11.0a4->-r /content/rl-baselines3-zoo/requirements.txt (line 1)) (2.5)\n",
            "Requirement already satisfied: apipkg>=1.4 in /usr/local/lib/python3.6/dist-packages (from execnet>=1.1->pytest-xdist; extra == \"tests\"->stable-baselines3[docs,extra,tests]>=0.11.0a4->-r /content/rl-baselines3-zoo/requirements.txt (line 1)) (1.5)\n",
            "Requirement already satisfied: wcwidth>=0.1.7 in /usr/local/lib/python3.6/dist-packages (from cmd2!=0.8.3,>=0.8.0->cliff->optuna->-r /content/rl-baselines3-zoo/requirements.txt (line 6)) (0.2.5)\n",
            "Collecting pyperclip>=1.6\n",
            "  Downloading https://files.pythonhosted.org/packages/6f/4c/0b1d507ad7e8bc31d690d04b4f475e74c2002d060f7994ce8c09612df707/pyperclip-1.8.1.tar.gz\n",
            "Collecting colorama>=0.3.7\n",
            "  Downloading https://files.pythonhosted.org/packages/44/98/5b86278fbbf250d239ae0ecb724f8572af1c91f4a11edf4d36a206189440/colorama-0.4.4-py2.py3-none-any.whl\n",
            "Requirement already satisfied: pyasn1<0.5.0,>=0.4.6 in /usr/local/lib/python3.6/dist-packages (from pyasn1-modules>=0.2.1->google-auth<2,>=1.6.3->tensorboard>=2.2.0; extra == \"extra\"->stable-baselines3[docs,extra,tests]>=0.11.0a4->-r /content/rl-baselines3-zoo/requirements.txt (line 1)) (0.4.8)\n",
            "Requirement already satisfied: oauthlib>=3.0.0 in /usr/local/lib/python3.6/dist-packages (from requests-oauthlib>=0.7.0->google-auth-oauthlib<0.5,>=0.4.1->tensorboard>=2.2.0; extra == \"extra\"->stable-baselines3[docs,extra,tests]>=0.11.0a4->-r /content/rl-baselines3-zoo/requirements.txt (line 1)) (3.1.0)\n",
            "Requirement already satisfied: decorator>=4.3.0 in /usr/local/lib/python3.6/dist-packages (from networkx>=2->importlab>=0.6.1->pytype; extra == \"tests\"->stable-baselines3[docs,extra,tests]>=0.11.0a4->-r /content/rl-baselines3-zoo/requirements.txt (line 1)) (4.4.2)\n",
            "Building wheels for collected packages: PrettyTable, Mako, pyperclip\n",
            "  Building wheel for PrettyTable (setup.py) ... \u001b[?25l\u001b[?25hdone\n",
            "  Created wheel for PrettyTable: filename=prettytable-0.7.2-cp36-none-any.whl size=13702 sha256=b18bf29299f82d2aecca75f157557a073d3ef8a2fa26bddc69ff6d86acdc3597\n",
            "  Stored in directory: /root/.cache/pip/wheels/80/34/1c/3967380d9676d162cb59513bd9dc862d0584e045a162095606\n",
            "  Building wheel for Mako (setup.py) ... \u001b[?25l\u001b[?25hdone\n",
            "  Created wheel for Mako: filename=Mako-1.1.4-py2.py3-none-any.whl size=75675 sha256=399947675061b9e5d19efddf9eb707ae2ccd5592886c62da31c3194402a31b20\n",
            "  Stored in directory: /root/.cache/pip/wheels/ad/10/d3/aeb26e20d19045e2a68e5d3cbb57432e11b5d9c92c99f98d47\n",
            "  Building wheel for pyperclip (setup.py) ... \u001b[?25l\u001b[?25hdone\n",
            "  Created wheel for pyperclip: filename=pyperclip-1.8.1-cp36-none-any.whl size=11120 sha256=3c734ae4171d8a2c411d0c2dadde78c0eb243d5a122b9ac8a64da50a92813dd0\n",
            "  Stored in directory: /root/.cache/pip/wheels/44/10/3a/c830e9bb3db2c93274ea1f213a41fabde0d8cf3794251fad0c\n",
            "Successfully built PrettyTable Mako pyperclip\n",
            "\u001b[31mERROR: sphinxcontrib-spelling 7.1.0 has requirement Sphinx>=3.0.0, but you'll have sphinx 1.8.5 which is incompatible.\u001b[0m\n",
            "\u001b[31mERROR: coveralls 0.5 has requirement coverage<3.999,>=3.6, but you'll have coverage 5.4 which is incompatible.\u001b[0m\n",
            "Installing collected packages: sphinxcontrib.spelling, stable-baselines3, box2d-py, pybullet, gym-minigrid, pyyaml, pyaml, scikit-optimize, PrettyTable, pbr, stevedore, pyperclip, colorama, cmd2, cliff, cmaes, Mako, python-editor, alembic, colorlog, optuna, mbstrdecoder, typepy, msgfy, DataProperty, tcolorpy, tabledata, pathvalidate, pytablewriter, sb3-contrib\n",
            "  Found existing installation: stable-baselines3 0.10.0\n",
            "    Uninstalling stable-baselines3-0.10.0:\n",
            "      Successfully uninstalled stable-baselines3-0.10.0\n",
            "  Found existing installation: PyYAML 3.13\n",
            "    Uninstalling PyYAML-3.13:\n",
            "      Successfully uninstalled PyYAML-3.13\n",
            "  Found existing installation: prettytable 2.0.0\n",
            "    Uninstalling prettytable-2.0.0:\n",
            "      Successfully uninstalled prettytable-2.0.0\n",
            "  Found existing installation: sb3-contrib 0.10.0\n",
            "    Uninstalling sb3-contrib-0.10.0:\n",
            "      Successfully uninstalled sb3-contrib-0.10.0\n",
            "Successfully installed DataProperty-0.50.0 Mako-1.1.4 PrettyTable-0.7.2 alembic-1.5.2 box2d-py-2.3.8 cliff-3.6.0 cmaes-0.7.0 cmd2-1.4.0 colorama-0.4.4 colorlog-4.7.2 gym-minigrid-1.0.2 mbstrdecoder-1.0.1 msgfy-0.1.0 optuna-2.4.0 pathvalidate-2.3.2 pbr-5.5.1 pyaml-20.4.0 pybullet-3.0.8 pyperclip-1.8.1 pytablewriter-0.58.0 python-editor-1.0.4 pyyaml-5.4.1 sb3-contrib-0.11.0a5 scikit-optimize-0.8.1 sphinxcontrib.spelling stable-baselines3-0.11.0a4 stevedore-3.3.0 tabledata-1.1.3 tcolorpy-0.0.8 typepy-1.1.2\n"
          ],
          "name": "stdout"
        },
        {
          "output_type": "display_data",
          "data": {
            "application/vnd.colab-display-data+json": {
              "pip_warning": {
                "packages": [
                  "stable_baselines3",
                  "yaml"
                ]
              }
            }
          },
          "metadata": {
            "tags": []
          }
        }
      ]
    },
    {
      "cell_type": "markdown",
      "metadata": {
        "id": "SzBEoyPzoIJR"
      },
      "source": [
        "Desde Linux, ejecutando\n",
        "\n",
        "    git clone --recursive https://github.com/DLR-RM/rl-baselines3-zoo\n",
        "    cd rl-baselines3-zoo/\n",
        "    sudo apt-get install swig cmake ffmpeg\n",
        "    pip install -r requirements.txt"
      ]
    },
    {
      "cell_type": "markdown",
      "metadata": {
        "id": "p6TCyu_UoIJR"
      },
      "source": [
        "## Ejecución\n",
        "\n",
        "Los agentes pueden ser llamados desde la consola mediante comandos como\n",
        "\n",
        "`python train.py --algo algo_name --env env_id`\n",
        "\n",
        "Los cuales pueden ser llamados usando"
      ]
    },
    {
      "cell_type": "code",
      "metadata": {
        "id": "jBLMVxhIoIJR"
      },
      "source": [
        "os.chdir('rl-baselines3-zoo/')\n",
        "\n",
        "args = [\n",
        "    '-n', str(100000),\n",
        "    '--algo', 'ppo',\n",
        "    '--env', 'CartPole-v1'\n",
        "]\n",
        "\n",
        "p = Popen(['python', 'train.py'] + args,\n",
        "                               stdin=PIPE, stdout=PIPE, stderr=PIPE)\n",
        "output, err = p.communicate()\n",
        "rc = p.returncode\n",
        "os.chdir(cwd)\n",
        "assert rc == 0"
      ],
      "execution_count": 15,
      "outputs": []
    },
    {
      "cell_type": "markdown",
      "metadata": {
        "id": "40H4hNcqoIJR"
      },
      "source": [
        "Ver en acción el agente entrenado (nota: no disponible en Google Colab)"
      ]
    },
    {
      "cell_type": "code",
      "metadata": {
        "id": "cNija96loIJR"
      },
      "source": [
        "if not IN_COLAB:\n",
        "    pass  # TODO mostrar el uso del enjoy"
      ],
      "execution_count": 16,
      "outputs": []
    },
    {
      "cell_type": "markdown",
      "metadata": {
        "id": "MSfIitK7oIJR"
      },
      "source": [
        "También es posible grabar un video! Ver https://stable-baselines3.readthedocs.io/en/master/guide/examples.html#record-a-video"
      ]
    },
    {
      "cell_type": "markdown",
      "metadata": {
        "id": "Phq975BYoIJR"
      },
      "source": [
        "Ver curva de aprendizaje obtenida por el agente desde *utils.plot*"
      ]
    },
    {
      "cell_type": "code",
      "metadata": {
        "id": "Q8EA41oQoIJS"
      },
      "source": [
        "os.chdir('rl-baselines3-zoo/')\n",
        "\n",
        "args = [\n",
        "    'ppo',\n",
        "    'CartPole-v1',\n",
        "    'logs/',\n",
        "    'steps'\n",
        "]\n",
        "\n",
        "p = Popen(['python', '-m', 'scripts.plot_train'] + args, stdout=PIPE)\n",
        "output, err = p.communicate()\n",
        "rc = p.returncode\n",
        "os.chdir(cwd)\n",
        "\n",
        "assert rc == 0"
      ],
      "execution_count": 17,
      "outputs": []
    },
    {
      "cell_type": "code",
      "metadata": {
        "id": "__1mgFR0oIJT",
        "colab": {
          "base_uri": "https://localhost:8080/"
        },
        "outputId": "2c355f37-24ae-4e78-ea4c-ac66d3003c23"
      },
      "source": [
        "print(output)"
      ],
      "execution_count": 18,
      "outputs": [
        {
          "output_type": "stream",
          "text": [
            "b'<Figure size 800x200 with 1 Axes>\\n'\n"
          ],
          "name": "stdout"
        }
      ]
    },
    {
      "cell_type": "markdown",
      "metadata": {
        "id": "sgrWKJlsoIJT"
      },
      "source": [
        "## Normalización de features y recompensas"
      ]
    },
    {
      "cell_type": "markdown",
      "metadata": {
        "id": "BIfn3o99oIJT"
      },
      "source": [
        "Stable-Baselines3 tiene predefinidos un conjunto de **wrappers** genericos que pueden utilizarse para preprocesar las observaciones que llegan al agente RL, desacomplando del mismo el prepocesamiento.\n",
        "\n",
        "Entre las funcionalidades disponibles tenemos:\n",
        "* **VecFrameStack**: Se utiliza cuando la observación que percibe el agente es una imagen. Sirve para expandir el espacio de estados apilando N frames de manera conjunta.\n",
        "* **VecNormalize**: Se utiliza para normalizar las observaciónes y/o las recompenzas que percibe el agente a $\\mu=0$ y $\\sigma=1$. También permite cortar valores de observaciones y/o recompensas que excedan un rango establecido. \n",
        "* **VecCheckNan**: Se utiliza para trackear los estados del entorno que generan que los gradientes de la RNN se hagan NaN.\n",
        "* **VecVideoRecorder**: Se utiliza para exportar el funcionamiento de la política aprendida por el agente a un video (MP4).\n",
        "\n",
        "Ademas, se pueden crear **wrappers** personalizados extendiendo la clase **VecEnvWrapper**:\n",
        "\n",
        "```\n",
        "class MiWrapper(VecEnvWrapper):\n",
        "    #TODO\n",
        "```\n",
        "### Ejemplo (VecNormalize)"
      ]
    },
    {
      "cell_type": "code",
      "metadata": {
        "colab": {
          "base_uri": "https://localhost:8080/"
        },
        "id": "3VOh1HQCVJNA",
        "outputId": "b9f70740-a806-4978-988d-aa296af53c58"
      },
      "source": [
        "from stable_baselines3.common.vec_env import DummyVecEnv, VecNormalize\n",
        "\n",
        "env = gym.make('CartPole-v1')\n",
        "env = DummyVecEnv([lambda: env])  # Multiple vectorize environments\n",
        "env = VecNormalize(env, norm_obs=True, norm_reward=True, clip_obs=10.0, clip_reward=10.0) # Observations and reward normalization\n",
        "\n",
        "model = DQN('MlpPolicy', env)\n",
        "model.learn(total_timesteps=10000)\n"
      ],
      "execution_count": 19,
      "outputs": [
        {
          "output_type": "execute_result",
          "data": {
            "text/plain": [
              "<stable_baselines3.dqn.dqn.DQN at 0x7f53417d5978>"
            ]
          },
          "metadata": {
            "tags": []
          },
          "execution_count": 19
        }
      ]
    },
    {
      "cell_type": "markdown",
      "metadata": {
        "id": "BWzAHj6qoIJT"
      },
      "source": [
        "## Híper-parámetros\n",
        "\n",
        "RL-Baselines Zoo provee funcionalidad para optimizar los híper-parámetros con la librería [Optuna]( https://github.com/optuna/optuna). En los mismos se incluyen rangos de híper-parámetros que se usaron para optimizar entornos como los de PyBullet, y son fácilmente modificables para adaptarlo a nuestros propios entornos. Para ver cómo se llama a la interfaz de Optuna ver [este código](https://github.com/DLR-RM/rl-baselines3-zoo/blob/master/utils/hyperparams_opt.py).\n",
        "\n",
        "Nota: **Consume muchos recursos!**"
      ]
    },
    {
      "cell_type": "markdown",
      "metadata": {
        "id": "P5YbRAbyoIJT"
      },
      "source": [
        "# Recursos adicionales\n",
        "\n",
        "* [Framework adicional de aprendizaje por refuerzos a gran escala](https://docs.ray.io/en/master/rllib.html)\n",
        "* [Awesome Deep RL](https://github.com/kengz/awesome-deep-rl)\n",
        "* [Comunidad de Bots de RL para Rocket League](https://rlbot.org/)\n",
        "* [Blog de Lilian Weng de Deep RL, robótica y NLP](https://lilianweng.github.io/lil-log/)"
      ]
    },
    {
      "cell_type": "markdown",
      "metadata": {
        "id": "rwXMoJy9oIJT"
      },
      "source": [
        "FIN"
      ]
    }
  ]
}